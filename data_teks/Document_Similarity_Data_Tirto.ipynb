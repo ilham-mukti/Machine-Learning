{
  "nbformat": 4,
  "nbformat_minor": 0,
  "metadata": {
    "colab": {
      "name": "Document Similarity Data Tirto.ipynb",
      "provenance": [],
      "collapsed_sections": [],
      "authorship_tag": "ABX9TyOZWS21RMvj4dBElJTuM7qi",
      "include_colab_link": true
    },
    "kernelspec": {
      "name": "python3",
      "display_name": "Python 3"
    },
    "language_info": {
      "name": "python"
    }
  },
  "cells": [
    {
      "cell_type": "markdown",
      "metadata": {
        "id": "view-in-github",
        "colab_type": "text"
      },
      "source": [
        "<a href=\"https://colab.research.google.com/github/ilham-mukti/Machine-Learning/blob/main/data_teks/Document_Similarity_Data_Tirto.ipynb\" target=\"_parent\"><img src=\"https://colab.research.google.com/assets/colab-badge.svg\" alt=\"Open In Colab\"/></a>"
      ]
    },
    {
      "cell_type": "code",
      "metadata": {
        "colab": {
          "base_uri": "https://localhost:8080/"
        },
        "id": "PiE_5MDMsLvM",
        "outputId": "7848dea9-1ecf-43ce-fffb-221f6fe78a59"
      },
      "source": [
        "import nltk\n",
        "nltk.download(\"stopwords\")\n",
        "nltk.download(\"punkt\")\n",
        "\n",
        "import numpy as np\n",
        "from sklearn.metrics.pairwise import cosine_distances, cosine_similarity\n",
        "import pandas as pd\n",
        "from nltk.tokenize import word_tokenize\n",
        "from nltk.corpus import stopwords\n",
        "from string import punctuation\n",
        "from sklearn.feature_extraction.text import TfidfVectorizer\n",
        "\n",
        "sw_indo = stopwords.words(\"indonesian\") + list(punctuation)"
      ],
      "execution_count": 85,
      "outputs": [
        {
          "output_type": "stream",
          "text": [
            "[nltk_data] Downloading package stopwords to /root/nltk_data...\n",
            "[nltk_data]   Package stopwords is already up-to-date!\n",
            "[nltk_data] Downloading package punkt to /root/nltk_data...\n",
            "[nltk_data]   Package punkt is already up-to-date!\n"
          ],
          "name": "stdout"
        }
      ]
    },
    {
      "cell_type": "code",
      "metadata": {
        "colab": {
          "base_uri": "https://localhost:8080/",
          "height": 306
        },
        "id": "49K9KPnSsUAL",
        "outputId": "0308bc49-958a-481c-8cfe-4d2ac319fac5"
      },
      "source": [
        "datas = pd.read_csv(\"/content/data_tirto.csv\")\n",
        "datas.head()"
      ],
      "execution_count": 71,
      "outputs": [
        {
          "output_type": "execute_result",
          "data": {
            "text/html": [
              "<div>\n",
              "<style scoped>\n",
              "    .dataframe tbody tr th:only-of-type {\n",
              "        vertical-align: middle;\n",
              "    }\n",
              "\n",
              "    .dataframe tbody tr th {\n",
              "        vertical-align: top;\n",
              "    }\n",
              "\n",
              "    .dataframe thead th {\n",
              "        text-align: right;\n",
              "    }\n",
              "</style>\n",
              "<table border=\"1\" class=\"dataframe\">\n",
              "  <thead>\n",
              "    <tr style=\"text-align: right;\">\n",
              "      <th></th>\n",
              "      <th>id_berita</th>\n",
              "      <th>judul_berita</th>\n",
              "      <th>isi_berita</th>\n",
              "      <th>nama_penulis</th>\n",
              "      <th>date_created</th>\n",
              "      <th>url_artikel</th>\n",
              "    </tr>\n",
              "  </thead>\n",
              "  <tbody>\n",
              "    <tr>\n",
              "      <th>0</th>\n",
              "      <td>1259889</td>\n",
              "      <td>Jokowi Sindir ASN yang Minta Dilayani: Seperti...</td>\n",
              "      <td>Presiden Jokowi menilai para aparatur sipil ne...</td>\n",
              "      <td>Andrian Pratama Taher</td>\n",
              "      <td>27/07/2021 10:55</td>\n",
              "      <td>https://tirto.id/jokowi-sindir-asn-yang-minta-...</td>\n",
              "    </tr>\n",
              "    <tr>\n",
              "      <th>1</th>\n",
              "      <td>1259829</td>\n",
              "      <td>Larangan Demo Jokowi End Game &amp; Bahaya Doxing ...</td>\n",
              "      <td>Jumat, 23 Juli 2021, sekira pukul 23-an, ada t...</td>\n",
              "      <td>Adi Briantika</td>\n",
              "      <td>26/07/2021 17:24</td>\n",
              "      <td>https://tirto.id/larangan-demo-jokowi-end-game...</td>\n",
              "    </tr>\n",
              "    <tr>\n",
              "      <th>2</th>\n",
              "      <td>1259921</td>\n",
              "      <td>Jokowi: Mahasiswa Punya Talenta, Bisa Berprofe...</td>\n",
              "      <td>Presiden Joko Widodo meminta agar perguruan ti...</td>\n",
              "      <td>Andrian Pratama Taher</td>\n",
              "      <td>27/07/2021 13:36</td>\n",
              "      <td>https://tirto.id/jokowi-mahasiswa-punya-talent...</td>\n",
              "    </tr>\n",
              "    <tr>\n",
              "      <th>3</th>\n",
              "      <td>1259902</td>\n",
              "      <td>Tjahjo Minta Seluruh ASN Ikuti Arahan Jokowi-M...</td>\n",
              "      <td>Menteri Pendayagunaan Aparatur Negara dan Refo...</td>\n",
              "      <td>Andrian Pratama Taher</td>\n",
              "      <td>27/07/2021 12:30</td>\n",
              "      <td>https://tirto.id/tjahjo-minta-seluruh-asn-ikut...</td>\n",
              "    </tr>\n",
              "    <tr>\n",
              "      <th>4</th>\n",
              "      <td>1259792</td>\n",
              "      <td>Jokowi, Menkes dan Mendag Disomasi Imbas Kelan...</td>\n",
              "      <td>Koalisi masyarakat sipil menyomasi Presiden Jo...</td>\n",
              "      <td>Irwan Syambudi</td>\n",
              "      <td>26/07/2021 13:41</td>\n",
              "      <td>https://tirto.id/jokowi-menkes-dan-mendag-diso...</td>\n",
              "    </tr>\n",
              "  </tbody>\n",
              "</table>\n",
              "</div>"
            ],
            "text/plain": [
              "   id_berita  ...                                        url_artikel\n",
              "0    1259889  ...  https://tirto.id/jokowi-sindir-asn-yang-minta-...\n",
              "1    1259829  ...  https://tirto.id/larangan-demo-jokowi-end-game...\n",
              "2    1259921  ...  https://tirto.id/jokowi-mahasiswa-punya-talent...\n",
              "3    1259902  ...  https://tirto.id/tjahjo-minta-seluruh-asn-ikut...\n",
              "4    1259792  ...  https://tirto.id/jokowi-menkes-dan-mendag-diso...\n",
              "\n",
              "[5 rows x 6 columns]"
            ]
          },
          "metadata": {
            "tags": []
          },
          "execution_count": 71
        }
      ]
    },
    {
      "cell_type": "code",
      "metadata": {
        "colab": {
          "base_uri": "https://localhost:8080/"
        },
        "id": "Cv8QE9WmsqCt",
        "outputId": "bd60ca8d-aa2f-486b-958c-26f75b88a02e"
      },
      "source": [
        "datas.shape"
      ],
      "execution_count": 142,
      "outputs": [
        {
          "output_type": "execute_result",
          "data": {
            "text/plain": [
              "(1303, 6)"
            ]
          },
          "metadata": {
            "tags": []
          },
          "execution_count": 142
        }
      ]
    },
    {
      "cell_type": "code",
      "metadata": {
        "id": "Up5nhmxsstCz"
      },
      "source": [
        "datas.drop_duplicates(subset='id_berita', inplace=True, ignore_index=True)"
      ],
      "execution_count": 143,
      "outputs": []
    },
    {
      "cell_type": "code",
      "metadata": {
        "colab": {
          "base_uri": "https://localhost:8080/"
        },
        "id": "V9iMX7MduVdX",
        "outputId": "b0d4f4f8-b1c9-4a77-ce33-d619f2e9c0fd"
      },
      "source": [
        "datas.shape"
      ],
      "execution_count": 144,
      "outputs": [
        {
          "output_type": "execute_result",
          "data": {
            "text/plain": [
              "(863, 6)"
            ]
          },
          "metadata": {
            "tags": []
          },
          "execution_count": 144
        }
      ]
    },
    {
      "cell_type": "markdown",
      "metadata": {
        "id": "Y23tdkO_tDJG"
      },
      "source": [
        "# Ekstrak TFIDF"
      ]
    },
    {
      "cell_type": "code",
      "metadata": {
        "colab": {
          "base_uri": "https://localhost:8080/"
        },
        "id": "4cHzRSswsvMm",
        "outputId": "543e184c-a0b1-49d5-dfa3-d30b55a5fd9a"
      },
      "source": [
        "tfidf = TfidfVectorizer(ngram_range=(1,2), tokenizer=word_tokenize, stop_words=sw_indo)\n",
        "tfidf_matrix = tfidf.fit_transform(datas.isi_berita)\n",
        "tfidf_matrix"
      ],
      "execution_count": 145,
      "outputs": [
        {
          "output_type": "stream",
          "text": [
            "/usr/local/lib/python3.7/dist-packages/sklearn/feature_extraction/text.py:385: UserWarning: Your stop_words may be inconsistent with your preprocessing. Tokenizing the stop words generated tokens ['``'] not in stop_words.\n",
            "  'stop_words.' % sorted(inconsistent))\n"
          ],
          "name": "stderr"
        },
        {
          "output_type": "execute_result",
          "data": {
            "text/plain": [
              "<863x243099 sparse matrix of type '<class 'numpy.float64'>'\n",
              "\twith 475069 stored elements in Compressed Sparse Row format>"
            ]
          },
          "metadata": {
            "tags": []
          },
          "execution_count": 145
        }
      ]
    },
    {
      "cell_type": "markdown",
      "metadata": {
        "id": "it8hAGjQtHsF"
      },
      "source": [
        "# Document Similarity"
      ]
    },
    {
      "cell_type": "code",
      "metadata": {
        "id": "VxoNlicDs7Vw"
      },
      "source": [
        "def document_similarity(index, matrix, topk=10):\n",
        "  sim = cosine_similarity(matrix[index], matrix)\n",
        "  sorted_sim = sim[0].argsort()\n",
        "  berita_yang_sama = [index for index in reversed(sorted_sim[-topk:])]\n",
        "  return berita_yang_sama"
      ],
      "execution_count": 160,
      "outputs": []
    },
    {
      "cell_type": "code",
      "metadata": {
        "id": "zQXd8VJMtKc3"
      },
      "source": [
        "data_ke = 20\n",
        "result_index = document_similarity(data_ke, tfidf_matrix)"
      ],
      "execution_count": 163,
      "outputs": []
    },
    {
      "cell_type": "code",
      "metadata": {
        "colab": {
          "base_uri": "https://localhost:8080/",
          "height": 580
        },
        "id": "asOQZl_MxBV_",
        "outputId": "28f9a752-440a-43f7-8faf-7918487dc8fb"
      },
      "source": [
        "datas.loc[result_index]"
      ],
      "execution_count": 164,
      "outputs": [
        {
          "output_type": "execute_result",
          "data": {
            "text/html": [
              "<div>\n",
              "<style scoped>\n",
              "    .dataframe tbody tr th:only-of-type {\n",
              "        vertical-align: middle;\n",
              "    }\n",
              "\n",
              "    .dataframe tbody tr th {\n",
              "        vertical-align: top;\n",
              "    }\n",
              "\n",
              "    .dataframe thead th {\n",
              "        text-align: right;\n",
              "    }\n",
              "</style>\n",
              "<table border=\"1\" class=\"dataframe\">\n",
              "  <thead>\n",
              "    <tr style=\"text-align: right;\">\n",
              "      <th></th>\n",
              "      <th>id_berita</th>\n",
              "      <th>judul_berita</th>\n",
              "      <th>isi_berita</th>\n",
              "      <th>nama_penulis</th>\n",
              "      <th>date_created</th>\n",
              "      <th>url_artikel</th>\n",
              "    </tr>\n",
              "  </thead>\n",
              "  <tbody>\n",
              "    <tr>\n",
              "      <th>20</th>\n",
              "      <td>1260055</td>\n",
              "      <td>Eks Mensos Juliari Dituntut 11 Tahun Penjara &amp;...</td>\n",
              "      <td>Mantan Menteri Sosial Juliari Batubara dituntu...</td>\n",
              "      <td>Alfian Putra Abdi</td>\n",
              "      <td>28/07/2021 14:10</td>\n",
              "      <td>https://tirto.id/eks-mensos-juliari-dituntut-1...</td>\n",
              "    </tr>\n",
              "    <tr>\n",
              "      <th>17</th>\n",
              "      <td>1260026</td>\n",
              "      <td>Eks Mensos Juliari Jalani Sidang Tuntutan Koru...</td>\n",
              "      <td>Mantan Menteri Sosial Juliari Batubara akan me...</td>\n",
              "      <td>Alfian Putra Abdi</td>\n",
              "      <td>28/07/2021 11:16</td>\n",
              "      <td>https://tirto.id/eks-mensos-juliari-jalani-sid...</td>\n",
              "    </tr>\n",
              "    <tr>\n",
              "      <th>501</th>\n",
              "      <td>1259187</td>\n",
              "      <td>KPK Ajukan Banding Atas Vonis Eks Panitera PN ...</td>\n",
              "      <td>Jaksa Penuntut Umum Komisi Pemberantasan Korup...</td>\n",
              "      <td>Mohammad Bernie</td>\n",
              "      <td>19/07/2021 14:15</td>\n",
              "      <td>https://tirto.id/kpk-ajukan-banding-atas-vonis...</td>\n",
              "    </tr>\n",
              "    <tr>\n",
              "      <th>512</th>\n",
              "      <td>1258654</td>\n",
              "      <td>ICW Kecewa Gugatan Ganti Rugi Bansos Kasus Jul...</td>\n",
              "      <td>Indonesia Corruption Watch (ICW) kecewa dengan...</td>\n",
              "      <td>Mohammad Bernie</td>\n",
              "      <td>14/07/2021 10:14</td>\n",
              "      <td>https://tirto.id/icw-kecewa-gugatan-ganti-rugi...</td>\n",
              "    </tr>\n",
              "    <tr>\n",
              "      <th>505</th>\n",
              "      <td>1258955</td>\n",
              "      <td>Sikapi Vonis Eks Menteri KKP Eddy Prabowo, KPK...</td>\n",
              "      <td>Komisi Pemberantasan Korupsi (KPK) menunggu sa...</td>\n",
              "      <td>tidak ada</td>\n",
              "      <td>16/07/2021 14:13</td>\n",
              "      <td>https://tirto.id/sikapi-vonis-eks-menteri-kkp-...</td>\n",
              "    </tr>\n",
              "    <tr>\n",
              "      <th>510</th>\n",
              "      <td>1258875</td>\n",
              "      <td>Edhy Prabowo Dihukum 5 Tahun Penjara Dalam Kas...</td>\n",
              "      <td>Majelis Hakim Pengadilan Tindak Pidana Korupsi...</td>\n",
              "      <td>Mohammad Bernie</td>\n",
              "      <td>15/07/2021 17:26</td>\n",
              "      <td>https://tirto.id/edhy-prabowo-dihukum-5-tahun-...</td>\n",
              "    </tr>\n",
              "    <tr>\n",
              "      <th>509</th>\n",
              "      <td>1258880</td>\n",
              "      <td>5 Perantara Suap Edhy Prabowo Divonis 4-4,5 Ta...</td>\n",
              "      <td>Pengadilan Tindak Pidana Korupsi (Tipikor) Jak...</td>\n",
              "      <td>Mohammad Bernie</td>\n",
              "      <td>15/07/2021 18:08</td>\n",
              "      <td>https://tirto.id/5-perantara-suap-edhy-prabowo...</td>\n",
              "    </tr>\n",
              "    <tr>\n",
              "      <th>530</th>\n",
              "      <td>1258014</td>\n",
              "      <td>Dua WNA Italia Divonis Bebas di Kasus Mafia Ta...</td>\n",
              "      <td>Dua warga negara asing (WNA) Italia divonis be...</td>\n",
              "      <td>tidak ada</td>\n",
              "      <td>07/07/2021 17:26</td>\n",
              "      <td>https://tirto.id/dua-wna-italia-divonis-bebas-...</td>\n",
              "    </tr>\n",
              "    <tr>\n",
              "      <th>533</th>\n",
              "      <td>1257901</td>\n",
              "      <td>Penyidik KPK Nonaktif: Kerugian Korupsi Bansos...</td>\n",
              "      <td>Penyidik nonaktif Komisi Pemberantasan Korupsi...</td>\n",
              "      <td>Mohammad Bernie</td>\n",
              "      <td>06/07/2021 17:01</td>\n",
              "      <td>https://tirto.id/penyidik-kpk-nonaktif-kerugia...</td>\n",
              "    </tr>\n",
              "    <tr>\n",
              "      <th>515</th>\n",
              "      <td>1258682</td>\n",
              "      <td>Tak Puas Nurhadi hanya Dihukum 6 Tahun Penjara...</td>\n",
              "      <td>Jaksa Komisi Pemberantasan Korupsi (KPK) yang ...</td>\n",
              "      <td>Mohammad Bernie</td>\n",
              "      <td>14/07/2021 12:17</td>\n",
              "      <td>https://tirto.id/tak-puas-nurhadi-hanya-dihuku...</td>\n",
              "    </tr>\n",
              "  </tbody>\n",
              "</table>\n",
              "</div>"
            ],
            "text/plain": [
              "     id_berita  ...                                        url_artikel\n",
              "20     1260055  ...  https://tirto.id/eks-mensos-juliari-dituntut-1...\n",
              "17     1260026  ...  https://tirto.id/eks-mensos-juliari-jalani-sid...\n",
              "501    1259187  ...  https://tirto.id/kpk-ajukan-banding-atas-vonis...\n",
              "512    1258654  ...  https://tirto.id/icw-kecewa-gugatan-ganti-rugi...\n",
              "505    1258955  ...  https://tirto.id/sikapi-vonis-eks-menteri-kkp-...\n",
              "510    1258875  ...  https://tirto.id/edhy-prabowo-dihukum-5-tahun-...\n",
              "509    1258880  ...  https://tirto.id/5-perantara-suap-edhy-prabowo...\n",
              "530    1258014  ...  https://tirto.id/dua-wna-italia-divonis-bebas-...\n",
              "533    1257901  ...  https://tirto.id/penyidik-kpk-nonaktif-kerugia...\n",
              "515    1258682  ...  https://tirto.id/tak-puas-nurhadi-hanya-dihuku...\n",
              "\n",
              "[10 rows x 6 columns]"
            ]
          },
          "metadata": {
            "tags": []
          },
          "execution_count": 164
        }
      ]
    },
    {
      "cell_type": "code",
      "metadata": {
        "id": "x_lH7PUmtRG2"
      },
      "source": [
        "def extract_keyword_tfidf(doc, tfidf, topk=10):\n",
        "  matrix = tfidf.transform([doc])\n",
        "  vocab = tfidf.get_feature_names()\n",
        "\n",
        "  sorted_tfidf = matrix[0].toarray()[0].argsort()\n",
        "  return([vocab[idx] for idx in reversed(sorted_tfidf[-topk:])])"
      ],
      "execution_count": 165,
      "outputs": []
    },
    {
      "cell_type": "code",
      "metadata": {
        "colab": {
          "base_uri": "https://localhost:8080/"
        },
        "id": "OSE4gqGMvDUF",
        "outputId": "2d25cc4d-9c3a-431a-919b-8a6b3a8c26eb"
      },
      "source": [
        "text = datas.isi_berita[20]\n",
        "extract_keyword_tfidf(text, tfidf)"
      ],
      "execution_count": 166,
      "outputs": [
        {
          "output_type": "execute_result",
          "data": {
            "text/plain": [
              "['juliari',\n",
              " 'jpu',\n",
              " 'bansos covid-19',\n",
              " 'jo pasal',\n",
              " 'bansos',\n",
              " 'jo',\n",
              " 'pasal',\n",
              " \"'' jpu\",\n",
              " 'proyek pengadaan',\n",
              " 'pengadaan bansos']"
            ]
          },
          "metadata": {
            "tags": []
          },
          "execution_count": 166
        }
      ]
    },
    {
      "cell_type": "code",
      "metadata": {
        "id": "7sc9zr2EvGAJ"
      },
      "source": [
        ""
      ],
      "execution_count": null,
      "outputs": []
    }
  ]
}