{
  "nbformat": 4,
  "nbformat_minor": 0,
  "metadata": {
    "colab": {
      "name": "Document Similarity Data Tirto.ipynb",
      "provenance": [],
      "collapsed_sections": [],
      "authorship_tag": "ABX9TyOroAFFKgGjxmQ+lfX6e9PW",
      "include_colab_link": true
    },
    "kernelspec": {
      "name": "python3",
      "display_name": "Python 3"
    },
    "language_info": {
      "name": "python"
    }
  },
  "cells": [
    {
      "cell_type": "markdown",
      "metadata": {
        "id": "view-in-github",
        "colab_type": "text"
      },
      "source": [
        "<a href=\"https://colab.research.google.com/github/ilham-mukti/Machine-Learning/blob/main/data_teks/Document_Similarity_Data_Tirto.ipynb\" target=\"_parent\"><img src=\"https://colab.research.google.com/assets/colab-badge.svg\" alt=\"Open In Colab\"/></a>"
      ]
    },
    {
      "cell_type": "code",
      "metadata": {
        "id": "PiE_5MDMsLvM"
      },
      "source": [
        "import nltk\n",
        "nltk.download(\"stopwords\")\n",
        "nltk.download(\"punkt\")\n",
        "\n",
        "import numpy as np\n",
        "from sklearn.metrics.pairwise import cosine_distances, cosine_similarity\n",
        "import pandas as pd\n",
        "from nltk.tokenize import word_tokenize\n",
        "from nltk.corpus import stopwords\n",
        "from string import punctuation\n",
        "from sklearn.feature_extraction.text import TfidfVectorizer\n",
        "\n",
        "sw_indo = stopwords.words(\"indonesian\") + list(punctuation)"
      ],
      "execution_count": null,
      "outputs": []
    },
    {
      "cell_type": "code",
      "metadata": {
        "colab": {
          "base_uri": "https://localhost:8080/",
          "height": 306
        },
        "id": "49K9KPnSsUAL",
        "outputId": "14753071-28d4-467a-9ea8-edd75c0e0f47"
      },
      "source": [
        "datas = pd.read_csv(\"/content/data_tirto.csv\")\n",
        "datas.head()"
      ],
      "execution_count": 4,
      "outputs": [
        {
          "output_type": "execute_result",
          "data": {
            "text/html": [
              "<div>\n",
              "<style scoped>\n",
              "    .dataframe tbody tr th:only-of-type {\n",
              "        vertical-align: middle;\n",
              "    }\n",
              "\n",
              "    .dataframe tbody tr th {\n",
              "        vertical-align: top;\n",
              "    }\n",
              "\n",
              "    .dataframe thead th {\n",
              "        text-align: right;\n",
              "    }\n",
              "</style>\n",
              "<table border=\"1\" class=\"dataframe\">\n",
              "  <thead>\n",
              "    <tr style=\"text-align: right;\">\n",
              "      <th></th>\n",
              "      <th>id_berita</th>\n",
              "      <th>judul_berita</th>\n",
              "      <th>isi_berita</th>\n",
              "      <th>nama_penulis</th>\n",
              "      <th>date_created</th>\n",
              "      <th>url_artikel</th>\n",
              "    </tr>\n",
              "  </thead>\n",
              "  <tbody>\n",
              "    <tr>\n",
              "      <th>0</th>\n",
              "      <td>1259889</td>\n",
              "      <td>Jokowi Sindir ASN yang Minta Dilayani: Seperti...</td>\n",
              "      <td>Presiden Jokowi menilai para aparatur sipil ne...</td>\n",
              "      <td>Andrian Pratama Taher</td>\n",
              "      <td>27/07/2021 10:55</td>\n",
              "      <td>https://tirto.id/jokowi-sindir-asn-yang-minta-...</td>\n",
              "    </tr>\n",
              "    <tr>\n",
              "      <th>1</th>\n",
              "      <td>1259829</td>\n",
              "      <td>Larangan Demo Jokowi End Game &amp; Bahaya Doxing ...</td>\n",
              "      <td>Jumat, 23 Juli 2021, sekira pukul 23-an, ada t...</td>\n",
              "      <td>Adi Briantika</td>\n",
              "      <td>26/07/2021 17:24</td>\n",
              "      <td>https://tirto.id/larangan-demo-jokowi-end-game...</td>\n",
              "    </tr>\n",
              "    <tr>\n",
              "      <th>2</th>\n",
              "      <td>1259921</td>\n",
              "      <td>Jokowi: Mahasiswa Punya Talenta, Bisa Berprofe...</td>\n",
              "      <td>Presiden Joko Widodo meminta agar perguruan ti...</td>\n",
              "      <td>Andrian Pratama Taher</td>\n",
              "      <td>27/07/2021 13:36</td>\n",
              "      <td>https://tirto.id/jokowi-mahasiswa-punya-talent...</td>\n",
              "    </tr>\n",
              "    <tr>\n",
              "      <th>3</th>\n",
              "      <td>1259902</td>\n",
              "      <td>Tjahjo Minta Seluruh ASN Ikuti Arahan Jokowi-M...</td>\n",
              "      <td>Menteri Pendayagunaan Aparatur Negara dan Refo...</td>\n",
              "      <td>Andrian Pratama Taher</td>\n",
              "      <td>27/07/2021 12:30</td>\n",
              "      <td>https://tirto.id/tjahjo-minta-seluruh-asn-ikut...</td>\n",
              "    </tr>\n",
              "    <tr>\n",
              "      <th>4</th>\n",
              "      <td>1259792</td>\n",
              "      <td>Jokowi, Menkes dan Mendag Disomasi Imbas Kelan...</td>\n",
              "      <td>Koalisi masyarakat sipil menyomasi Presiden Jo...</td>\n",
              "      <td>Irwan Syambudi</td>\n",
              "      <td>26/07/2021 13:41</td>\n",
              "      <td>https://tirto.id/jokowi-menkes-dan-mendag-diso...</td>\n",
              "    </tr>\n",
              "  </tbody>\n",
              "</table>\n",
              "</div>"
            ],
            "text/plain": [
              "   id_berita  ...                                        url_artikel\n",
              "0    1259889  ...  https://tirto.id/jokowi-sindir-asn-yang-minta-...\n",
              "1    1259829  ...  https://tirto.id/larangan-demo-jokowi-end-game...\n",
              "2    1259921  ...  https://tirto.id/jokowi-mahasiswa-punya-talent...\n",
              "3    1259902  ...  https://tirto.id/tjahjo-minta-seluruh-asn-ikut...\n",
              "4    1259792  ...  https://tirto.id/jokowi-menkes-dan-mendag-diso...\n",
              "\n",
              "[5 rows x 6 columns]"
            ]
          },
          "metadata": {
            "tags": []
          },
          "execution_count": 4
        }
      ]
    },
    {
      "cell_type": "code",
      "metadata": {
        "colab": {
          "base_uri": "https://localhost:8080/"
        },
        "id": "Cv8QE9WmsqCt",
        "outputId": "861d8313-8570-4298-a3d1-6f0b4f630812"
      },
      "source": [
        "datas.shape"
      ],
      "execution_count": 5,
      "outputs": [
        {
          "output_type": "execute_result",
          "data": {
            "text/plain": [
              "(1303, 6)"
            ]
          },
          "metadata": {
            "tags": []
          },
          "execution_count": 5
        }
      ]
    },
    {
      "cell_type": "code",
      "metadata": {
        "id": "Up5nhmxsstCz"
      },
      "source": [
        "datas.drop_duplicates(subset='id_berita', inplace=True, ignore_index=True)"
      ],
      "execution_count": 6,
      "outputs": []
    },
    {
      "cell_type": "code",
      "metadata": {
        "colab": {
          "base_uri": "https://localhost:8080/"
        },
        "id": "V9iMX7MduVdX",
        "outputId": "3ce2a488-b626-43bd-d1b1-e537c231cb33"
      },
      "source": [
        "datas.shape"
      ],
      "execution_count": 7,
      "outputs": [
        {
          "output_type": "execute_result",
          "data": {
            "text/plain": [
              "(863, 6)"
            ]
          },
          "metadata": {
            "tags": []
          },
          "execution_count": 7
        }
      ]
    },
    {
      "cell_type": "markdown",
      "metadata": {
        "id": "Y23tdkO_tDJG"
      },
      "source": [
        "# Ekstrak TFIDF"
      ]
    },
    {
      "cell_type": "code",
      "metadata": {
        "colab": {
          "base_uri": "https://localhost:8080/"
        },
        "id": "4cHzRSswsvMm",
        "outputId": "2f8b2b0a-cebd-475e-e88e-49098bb7f3c0"
      },
      "source": [
        "tfidf = TfidfVectorizer(ngram_range=(1,2), tokenizer=word_tokenize, stop_words=sw_indo)\n",
        "tfidf_matrix = tfidf.fit_transform(datas.isi_berita)\n",
        "tfidf_matrix"
      ],
      "execution_count": 8,
      "outputs": [
        {
          "output_type": "stream",
          "text": [
            "/usr/local/lib/python3.7/dist-packages/sklearn/feature_extraction/text.py:385: UserWarning: Your stop_words may be inconsistent with your preprocessing. Tokenizing the stop words generated tokens ['``'] not in stop_words.\n",
            "  'stop_words.' % sorted(inconsistent))\n"
          ],
          "name": "stderr"
        },
        {
          "output_type": "execute_result",
          "data": {
            "text/plain": [
              "<863x243099 sparse matrix of type '<class 'numpy.float64'>'\n",
              "\twith 475069 stored elements in Compressed Sparse Row format>"
            ]
          },
          "metadata": {
            "tags": []
          },
          "execution_count": 8
        }
      ]
    },
    {
      "cell_type": "markdown",
      "metadata": {
        "id": "it8hAGjQtHsF"
      },
      "source": [
        "# Document Similarity"
      ]
    },
    {
      "cell_type": "code",
      "metadata": {
        "id": "VxoNlicDs7Vw"
      },
      "source": [
        "#Kalo pake Distance\n",
        "def document_similarity(index, matrix, topk=10):\n",
        "  sim = cosine_distances(matrix[index], matrix)\n",
        "  sorted_sim = sim.argsort()[0, 0:11]\n",
        "  berita_yang_sama = [index for index in reversed(sorted_sim[-topk:])]\n",
        "  return sorted_sim"
      ],
      "execution_count": 32,
      "outputs": []
    },
    {
      "cell_type": "code",
      "metadata": {
        "colab": {
          "base_uri": "https://localhost:8080/"
        },
        "id": "zQXd8VJMtKc3",
        "outputId": "9dfc1545-1e5a-41c3-d0c3-e227386f9bb9"
      },
      "source": [
        "data_ke = 10\n",
        "result_index = document_similarity(data_ke, tfidf_matrix)\n",
        "print(result_index)"
      ],
      "execution_count": 33,
      "outputs": [
        {
          "output_type": "stream",
          "text": [
            "[ 10  23  31  97 737 575 159 168 217 121 632]\n"
          ],
          "name": "stdout"
        }
      ]
    },
    {
      "cell_type": "code",
      "metadata": {
        "id": "SucjVrhGjj2S"
      },
      "source": [
        "#Kalo pake Similarity, hasilnya sama aja\n",
        "def document_similarity(index, matrix, topk=10):\n",
        "  sim = cosine_similarity(matrix[index], matrix)\n",
        "  sorted_sim = sim[0].argsort()\n",
        "  berita_yang_sama = [index for index in reversed(sorted_sim[-topk:])]\n",
        "  return berita_yang_sama"
      ],
      "execution_count": 38,
      "outputs": []
    },
    {
      "cell_type": "code",
      "metadata": {
        "colab": {
          "base_uri": "https://localhost:8080/"
        },
        "id": "SU3ofArgjryI",
        "outputId": "8d0eda80-fb18-41a6-a7e4-7a28e88081f3"
      },
      "source": [
        "data_ke = 10\n",
        "result_index = document_similarity(data_ke, tfidf_matrix)\n",
        "print(result_index)"
      ],
      "execution_count": 39,
      "outputs": [
        {
          "output_type": "stream",
          "text": [
            "[10, 23, 31, 97, 737, 575, 159, 168, 217, 121]\n"
          ],
          "name": "stdout"
        }
      ]
    },
    {
      "cell_type": "code",
      "metadata": {
        "colab": {
          "base_uri": "https://localhost:8080/",
          "height": 560
        },
        "id": "asOQZl_MxBV_",
        "outputId": "a4550550-f99d-499a-bdcd-52d5fe74a6a2"
      },
      "source": [
        "datas.loc[result_index, 'id_berita': 'nama_penulis']"
      ],
      "execution_count": 34,
      "outputs": [
        {
          "output_type": "execute_result",
          "data": {
            "text/html": [
              "<div>\n",
              "<style scoped>\n",
              "    .dataframe tbody tr th:only-of-type {\n",
              "        vertical-align: middle;\n",
              "    }\n",
              "\n",
              "    .dataframe tbody tr th {\n",
              "        vertical-align: top;\n",
              "    }\n",
              "\n",
              "    .dataframe thead th {\n",
              "        text-align: right;\n",
              "    }\n",
              "</style>\n",
              "<table border=\"1\" class=\"dataframe\">\n",
              "  <thead>\n",
              "    <tr style=\"text-align: right;\">\n",
              "      <th></th>\n",
              "      <th>id_berita</th>\n",
              "      <th>judul_berita</th>\n",
              "      <th>isi_berita</th>\n",
              "      <th>nama_penulis</th>\n",
              "    </tr>\n",
              "  </thead>\n",
              "  <tbody>\n",
              "    <tr>\n",
              "      <th>10</th>\n",
              "      <td>1259966</td>\n",
              "      <td>RS Darurat COVID-19 di Parkiran RS Sardjito Ra...</td>\n",
              "      <td>Menteri Pekerjaan Umum dan Perumahan Rakyat (P...</td>\n",
              "      <td>Selfie Miftahul Jannah</td>\n",
              "    </tr>\n",
              "    <tr>\n",
              "      <th>23</th>\n",
              "      <td>1259930</td>\n",
              "      <td>Penambahan Kapasitas RS Lapangan Bantul Ditarg...</td>\n",
              "      <td>Menteri Pekerjaan Umum dan Perumahan Rakyat (P...</td>\n",
              "      <td>Gilang Ramadhan</td>\n",
              "    </tr>\n",
              "    <tr>\n",
              "      <th>31</th>\n",
              "      <td>1260029</td>\n",
              "      <td>Kasus COVID Terus Melonjak, Pemerintah Kebut R...</td>\n",
              "      <td>Menteri Pekerjaan Umum dan Perumahan Rakyat (P...</td>\n",
              "      <td>Selfie Miftahul Jannah</td>\n",
              "    </tr>\n",
              "    <tr>\n",
              "      <th>97</th>\n",
              "      <td>1259532</td>\n",
              "      <td>RS Darurat GOR Indoor GBT Surabaya Mulai Berop...</td>\n",
              "      <td>Rumah Sakit Darurat GOR Indoor Komplek Gelora ...</td>\n",
              "      <td>Gilang Ramadhan</td>\n",
              "    </tr>\n",
              "    <tr>\n",
              "      <th>737</th>\n",
              "      <td>1258830</td>\n",
              "      <td>Bagaimana Jakarta &amp; DIY Hadapi Skenario Terbur...</td>\n",
              "      <td>Menteri Kesehatan Budi Gunadi Sadikin menyebut...</td>\n",
              "      <td>Irwan Syambudi</td>\n",
              "    </tr>\n",
              "    <tr>\n",
              "      <th>575</th>\n",
              "      <td>1259011</td>\n",
              "      <td>Penjelasan Satgas soal Strategi Pemerintah Red...</td>\n",
              "      <td>Pemerintah Indonesia telah memutuskan Pemberla...</td>\n",
              "      <td>Addi M Idhom</td>\n",
              "    </tr>\n",
              "    <tr>\n",
              "      <th>159</th>\n",
              "      <td>1260060</td>\n",
              "      <td>Gubernur Kepri Desak Kemenkes Lunasi Biaya Per...</td>\n",
              "      <td>Gubernur Kepulauan Riau Ansar Ahmad mendesak K...</td>\n",
              "      <td>tidak ada</td>\n",
              "    </tr>\n",
              "    <tr>\n",
              "      <th>168</th>\n",
              "      <td>1259968</td>\n",
              "      <td>Kasus COVID-19 di DIY Melonjak &amp; Rekor Kematia...</td>\n",
              "      <td>Penambahan kasus baru COVID-19 di Provinsi Dae...</td>\n",
              "      <td>Irwan Syambudi</td>\n",
              "    </tr>\n",
              "    <tr>\n",
              "      <th>217</th>\n",
              "      <td>1259823</td>\n",
              "      <td>BOR RS DKI Turun Tipis Jadi 73 Persen &amp; 89 Per...</td>\n",
              "      <td>Tingkat keterisian tempat tidur rumah sakit at...</td>\n",
              "      <td>Riyan Setiawan</td>\n",
              "    </tr>\n",
              "    <tr>\n",
              "      <th>121</th>\n",
              "      <td>1259483</td>\n",
              "      <td>LaporCOVID-19: Ada 2.313 Kematian Saat Isoman ...</td>\n",
              "      <td>Koalisi warga untuk LaporCOVID-19 mencatat jum...</td>\n",
              "      <td>Irwan Syambudi</td>\n",
              "    </tr>\n",
              "    <tr>\n",
              "      <th>632</th>\n",
              "      <td>1211178</td>\n",
              "      <td>Jadwal PSBB Jakarta Terbaru, Aturan WFH dan 11...</td>\n",
              "      <td>Pemerintah Provinsi DKI Jakarta bakal kembali ...</td>\n",
              "      <td>Addi M Idhom</td>\n",
              "    </tr>\n",
              "  </tbody>\n",
              "</table>\n",
              "</div>"
            ],
            "text/plain": [
              "     id_berita  ...            nama_penulis\n",
              "10     1259966  ...  Selfie Miftahul Jannah\n",
              "23     1259930  ...         Gilang Ramadhan\n",
              "31     1260029  ...  Selfie Miftahul Jannah\n",
              "97     1259532  ...         Gilang Ramadhan\n",
              "737    1258830  ...          Irwan Syambudi\n",
              "575    1259011  ...            Addi M Idhom\n",
              "159    1260060  ...               tidak ada\n",
              "168    1259968  ...          Irwan Syambudi\n",
              "217    1259823  ...          Riyan Setiawan\n",
              "121    1259483  ...          Irwan Syambudi\n",
              "632    1211178  ...            Addi M Idhom\n",
              "\n",
              "[11 rows x 4 columns]"
            ]
          },
          "metadata": {
            "tags": []
          },
          "execution_count": 34
        }
      ]
    },
    {
      "cell_type": "code",
      "metadata": {
        "id": "x_lH7PUmtRG2"
      },
      "source": [
        "def extract_keyword_tfidf(doc, tfidf, topk=10):\n",
        "  matrix = tfidf.transform([doc])\n",
        "  vocab = tfidf.get_feature_names()\n",
        "\n",
        "  sorted_tfidf = matrix[0].toarray()[0].argsort()\n",
        "  return([vocab[idx] for idx in reversed(sorted_tfidf[-topk:])])"
      ],
      "execution_count": 35,
      "outputs": []
    },
    {
      "cell_type": "code",
      "metadata": {
        "colab": {
          "base_uri": "https://localhost:8080/"
        },
        "id": "OSE4gqGMvDUF",
        "outputId": "9c825f10-36b4-48a5-c5e4-587c3281a625"
      },
      "source": [
        "text = datas.isi_berita[19]\n",
        "extract_keyword_tfidf(text, tfidf)"
      ],
      "execution_count": 36,
      "outputs": [
        {
          "output_type": "execute_result",
          "data": {
            "text/plain": [
              "['stigmatisasi',\n",
              " 'isoman',\n",
              " 'kematian',\n",
              " 'covid',\n",
              " 'vino',\n",
              " 'budi',\n",
              " 'sulfikar',\n",
              " 'menkes budi',\n",
              " 'penderita covid',\n",
              " 'penderita']"
            ]
          },
          "metadata": {
            "tags": []
          },
          "execution_count": 36
        }
      ]
    },
    {
      "cell_type": "code",
      "metadata": {
        "id": "7sc9zr2EvGAJ"
      },
      "source": [
        ""
      ],
      "execution_count": 13,
      "outputs": []
    }
  ]
}