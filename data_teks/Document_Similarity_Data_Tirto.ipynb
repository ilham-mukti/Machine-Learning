{
  "nbformat": 4,
  "nbformat_minor": 0,
  "metadata": {
    "colab": {
      "name": "Document Similarity Data Tirto.ipynb",
      "provenance": [],
      "authorship_tag": "ABX9TyMnnAU1GLGPKJB3KdvOYAXl",
      "include_colab_link": true
    },
    "kernelspec": {
      "name": "python3",
      "display_name": "Python 3"
    },
    "language_info": {
      "name": "python"
    }
  },
  "cells": [
    {
      "cell_type": "markdown",
      "metadata": {
        "id": "view-in-github",
        "colab_type": "text"
      },
      "source": [
        "<a href=\"https://colab.research.google.com/github/ilham-mukti/Machine-Learning/blob/main/data_teks/Document_Similarity_Data_Tirto.ipynb\" target=\"_parent\"><img src=\"https://colab.research.google.com/assets/colab-badge.svg\" alt=\"Open In Colab\"/></a>"
      ]
    },
    {
      "cell_type": "code",
      "metadata": {
        "id": "PiE_5MDMsLvM"
      },
      "source": [
        "import nltk\n",
        "nltk.download(\"stopwords\")\n",
        "nltk.download(\"punkt\")\n",
        "\n",
        "from sklearn.metrics.pairwise import cosine_distances, cosine_similarity\n",
        "import pandas as pd\n",
        "from nltk.tokenize import word_tokenize\n",
        "from nltk.corpus import stopwords\n",
        "from string import punctuation\n",
        "from sklearn.feature_extraction.text import TfidfVectorizer\n",
        "\n",
        "sw_indo = stopwords.words(\"indonesian\") + list(punctuation)"
      ],
      "execution_count": null,
      "outputs": []
    },
    {
      "cell_type": "code",
      "metadata": {
        "colab": {
          "base_uri": "https://localhost:8080/",
          "height": 306
        },
        "id": "49K9KPnSsUAL",
        "outputId": "06e5119d-d091-47f2-ed90-a0642488a2e7"
      },
      "source": [
        "datas = pd.read_csv(\"/content/data_tirto.csv\")\n",
        "datas.head()"
      ],
      "execution_count": 20,
      "outputs": [
        {
          "output_type": "execute_result",
          "data": {
            "text/html": [
              "<div>\n",
              "<style scoped>\n",
              "    .dataframe tbody tr th:only-of-type {\n",
              "        vertical-align: middle;\n",
              "    }\n",
              "\n",
              "    .dataframe tbody tr th {\n",
              "        vertical-align: top;\n",
              "    }\n",
              "\n",
              "    .dataframe thead th {\n",
              "        text-align: right;\n",
              "    }\n",
              "</style>\n",
              "<table border=\"1\" class=\"dataframe\">\n",
              "  <thead>\n",
              "    <tr style=\"text-align: right;\">\n",
              "      <th></th>\n",
              "      <th>id_berita</th>\n",
              "      <th>judul_berita</th>\n",
              "      <th>isi_berita</th>\n",
              "      <th>nama_penulis</th>\n",
              "      <th>date_created</th>\n",
              "      <th>url_artikel</th>\n",
              "    </tr>\n",
              "  </thead>\n",
              "  <tbody>\n",
              "    <tr>\n",
              "      <th>0</th>\n",
              "      <td>1259889</td>\n",
              "      <td>Jokowi Sindir ASN yang Minta Dilayani: Seperti...</td>\n",
              "      <td>Presiden Jokowi menilai para aparatur sipil ne...</td>\n",
              "      <td>Andrian Pratama Taher</td>\n",
              "      <td>27/07/2021 10:55</td>\n",
              "      <td>https://tirto.id/jokowi-sindir-asn-yang-minta-...</td>\n",
              "    </tr>\n",
              "    <tr>\n",
              "      <th>1</th>\n",
              "      <td>1259829</td>\n",
              "      <td>Larangan Demo Jokowi End Game &amp; Bahaya Doxing ...</td>\n",
              "      <td>Jumat, 23 Juli 2021, sekira pukul 23-an, ada t...</td>\n",
              "      <td>Adi Briantika</td>\n",
              "      <td>26/07/2021 17:24</td>\n",
              "      <td>https://tirto.id/larangan-demo-jokowi-end-game...</td>\n",
              "    </tr>\n",
              "    <tr>\n",
              "      <th>2</th>\n",
              "      <td>1259921</td>\n",
              "      <td>Jokowi: Mahasiswa Punya Talenta, Bisa Berprofe...</td>\n",
              "      <td>Presiden Joko Widodo meminta agar perguruan ti...</td>\n",
              "      <td>Andrian Pratama Taher</td>\n",
              "      <td>27/07/2021 13:36</td>\n",
              "      <td>https://tirto.id/jokowi-mahasiswa-punya-talent...</td>\n",
              "    </tr>\n",
              "    <tr>\n",
              "      <th>3</th>\n",
              "      <td>1259902</td>\n",
              "      <td>Tjahjo Minta Seluruh ASN Ikuti Arahan Jokowi-M...</td>\n",
              "      <td>Menteri Pendayagunaan Aparatur Negara dan Refo...</td>\n",
              "      <td>Andrian Pratama Taher</td>\n",
              "      <td>27/07/2021 12:30</td>\n",
              "      <td>https://tirto.id/tjahjo-minta-seluruh-asn-ikut...</td>\n",
              "    </tr>\n",
              "    <tr>\n",
              "      <th>4</th>\n",
              "      <td>1259792</td>\n",
              "      <td>Jokowi, Menkes dan Mendag Disomasi Imbas Kelan...</td>\n",
              "      <td>Koalisi masyarakat sipil menyomasi Presiden Jo...</td>\n",
              "      <td>Irwan Syambudi</td>\n",
              "      <td>26/07/2021 13:41</td>\n",
              "      <td>https://tirto.id/jokowi-menkes-dan-mendag-diso...</td>\n",
              "    </tr>\n",
              "  </tbody>\n",
              "</table>\n",
              "</div>"
            ],
            "text/plain": [
              "   id_berita  ...                                        url_artikel\n",
              "0    1259889  ...  https://tirto.id/jokowi-sindir-asn-yang-minta-...\n",
              "1    1259829  ...  https://tirto.id/larangan-demo-jokowi-end-game...\n",
              "2    1259921  ...  https://tirto.id/jokowi-mahasiswa-punya-talent...\n",
              "3    1259902  ...  https://tirto.id/tjahjo-minta-seluruh-asn-ikut...\n",
              "4    1259792  ...  https://tirto.id/jokowi-menkes-dan-mendag-diso...\n",
              "\n",
              "[5 rows x 6 columns]"
            ]
          },
          "metadata": {
            "tags": []
          },
          "execution_count": 20
        }
      ]
    },
    {
      "cell_type": "code",
      "metadata": {
        "colab": {
          "base_uri": "https://localhost:8080/"
        },
        "id": "Cv8QE9WmsqCt",
        "outputId": "f011d65f-135d-4fd2-a0f6-96eecf04745d"
      },
      "source": [
        "datas.shape"
      ],
      "execution_count": 21,
      "outputs": [
        {
          "output_type": "execute_result",
          "data": {
            "text/plain": [
              "(1303, 6)"
            ]
          },
          "metadata": {
            "tags": []
          },
          "execution_count": 21
        }
      ]
    },
    {
      "cell_type": "code",
      "metadata": {
        "id": "Up5nhmxsstCz"
      },
      "source": [
        "datas.drop_duplicates(subset='id_berita', inplace=True, ignore_index=True)"
      ],
      "execution_count": 22,
      "outputs": []
    },
    {
      "cell_type": "code",
      "metadata": {
        "colab": {
          "base_uri": "https://localhost:8080/"
        },
        "id": "V9iMX7MduVdX",
        "outputId": "3ac0e1de-472e-43ef-d55f-43dbd65a5fc3"
      },
      "source": [
        "datas.shape"
      ],
      "execution_count": 23,
      "outputs": [
        {
          "output_type": "execute_result",
          "data": {
            "text/plain": [
              "(863, 6)"
            ]
          },
          "metadata": {
            "tags": []
          },
          "execution_count": 23
        }
      ]
    },
    {
      "cell_type": "markdown",
      "metadata": {
        "id": "Y23tdkO_tDJG"
      },
      "source": [
        "# Ekstrak TFIDF"
      ]
    },
    {
      "cell_type": "code",
      "metadata": {
        "colab": {
          "base_uri": "https://localhost:8080/"
        },
        "id": "4cHzRSswsvMm",
        "outputId": "e22d233f-0383-419c-b640-19422abe22f4"
      },
      "source": [
        "tfidf = TfidfVectorizer(ngram_range=(1,2), tokenizer=word_tokenize, stop_words=sw_indo)\n",
        "tfidf_matrix = tfidf.fit_transform(datas.isi_berita)\n",
        "tfidf_matrix"
      ],
      "execution_count": 24,
      "outputs": [
        {
          "output_type": "stream",
          "text": [
            "/usr/local/lib/python3.7/dist-packages/sklearn/feature_extraction/text.py:385: UserWarning: Your stop_words may be inconsistent with your preprocessing. Tokenizing the stop words generated tokens ['``'] not in stop_words.\n",
            "  'stop_words.' % sorted(inconsistent))\n"
          ],
          "name": "stderr"
        },
        {
          "output_type": "execute_result",
          "data": {
            "text/plain": [
              "<863x243099 sparse matrix of type '<class 'numpy.float64'>'\n",
              "\twith 475069 stored elements in Compressed Sparse Row format>"
            ]
          },
          "metadata": {
            "tags": []
          },
          "execution_count": 24
        }
      ]
    },
    {
      "cell_type": "markdown",
      "metadata": {
        "id": "it8hAGjQtHsF"
      },
      "source": [
        "# Document Similarity"
      ]
    },
    {
      "cell_type": "code",
      "metadata": {
        "id": "VxoNlicDs7Vw"
      },
      "source": [
        "def document_similarity(index, matrix, topk=10):\n",
        "  sim = cosine_similarity(matrix[index], matrix)\n",
        "  sorted_sim = sim[0].argsort()\n",
        "  berita_yang_sama = [datas.isi_berita[index][:200] for index in reversed(sorted_sim[-topk:])]\n",
        "  return(berita_yang_sama)"
      ],
      "execution_count": 27,
      "outputs": []
    },
    {
      "cell_type": "code",
      "metadata": {
        "colab": {
          "base_uri": "https://localhost:8080/"
        },
        "id": "zQXd8VJMtKc3",
        "outputId": "6faff62a-f335-4f32-c50e-2eb2cbbd20e2"
      },
      "source": [
        "data_ke = 3\n",
        "document_similarity(data_ke, tfidf_matrix)"
      ],
      "execution_count": 30,
      "outputs": [
        {
          "output_type": "execute_result",
          "data": {
            "text/plain": [
              "['Menteri Pendayagunaan Aparatur Negara dan Reformasi Birokrasi (PAN-RB) Tjahjo Kumolo meminta kepada seluruh aparatur sipil negara (ASN) untuk bersatu padu dalam penanganan COVID-19. Ia meminta kepada ',\n",
              " 'Presiden Jokowi menilai para aparatur sipil negara (ASN) di masa depan harus mampu melayani masyarakat. Ia tidak mau ada ASN justru bermental seperti aparatur di masa kolonial yang ingin dilayani oleh',\n",
              " 'Selama penerapan aturan\\xa0PPKM\\xa0Level 4, Kementerian Pendayagunaan Aparatur Negara dan Reformasi Birokrasi (PANRB) menerbitkan aturan baru terkait penyesuaian sistem kerja aparatur sipil negara (ASN) dan',\n",
              " 'Badan Kepegawaian Negara (BKN) menginformasikan bahwa pendaftaran CASN 2021 termasuk CPNS 2021 dan PPPK 2021 di www.sscasn.bkn.go.id diperpanjang hingga 26 Juli 2021\\xa0pukul 23:59 WIB.Informasi tersebut',\n",
              " 'Pemerintah Kabupaten Boyolali di Provinsi Jawa Tengah mulai Senin (14/9/2020) akan menerapkan kebijakan kerja dari rumah atau WFH bagi aparatur sipil negara (ASN) dalam upaya meminimalkan risiko penul',\n",
              " 'Koalisi Guru Besar Antikorupsi mendesak Komisi Pemberantasan Korupsi (KPK) mematuhi temuan Ombudsman RI terkait dugaan malaadministrasi tes wawasan kebangsaan (TWK). KPK perlu melantik 75 pegawai menj',\n",
              " 'Kasus baru\\xa0COVID-19 di Indonesia kembali mengalami kenaikan dibanding hari sebelumnya. Per 27 Juli 2021 penambahan kasus baru sebanyak 45.203 pasien, sedangkan penambahan kasus meninggal mencapai reko',\n",
              " 'Kepala Staf Kepresidenan Moeldoko menegaskan penanganan pandemi COVID-19 dipegang oleh Presiden Jokowi selaku panglima tertinggi di Indonesia. Ia pun menegaskan, pemerintah solid dalam penanganan pand',\n",
              " 'Sebanyak 18 pegawai Komisi Pemberantasan Korupsi (KPK) yang tidak lulus Tes Wawasan Kebangsaan (TWK) akan mengikuti diklat bela negara mulai 22 Juli 2021 di Universitas Pertahanan (Unhan).KPK bekerja ',\n",
              " 'Pemerintah Provinsi Papua mengambil langkah ekstrem dalam menangani pandemi COVID-19, yakni berencana melaksanakan lockdown demi menekan kasus. Langkah ini akan diambil Gubernur Papua, Lukas Enembe se']"
            ]
          },
          "metadata": {
            "tags": []
          },
          "execution_count": 30
        }
      ]
    },
    {
      "cell_type": "code",
      "metadata": {
        "id": "x_lH7PUmtRG2"
      },
      "source": [
        "def extract_keyword_tfidf(doc, tfidf, topk=10):\n",
        "  matrix = tfidf.transform([doc])\n",
        "  vocab = tfidf.get_feature_names()\n",
        "\n",
        "  sorted_tfidf = matrix[0].toarray()[0].argsort()\n",
        "  return([vocab[idx] for idx in reversed(sorted_tfidf[-topk:])])"
      ],
      "execution_count": 31,
      "outputs": []
    },
    {
      "cell_type": "code",
      "metadata": {
        "colab": {
          "base_uri": "https://localhost:8080/"
        },
        "id": "OSE4gqGMvDUF",
        "outputId": "9629ce5a-72c2-4d72-a031-b76332ca0f16"
      },
      "source": [
        "text = datas.isi_berita[2]\n",
        "extract_keyword_tfidf(text, tfidf)"
      ],
      "execution_count": 35,
      "outputs": [
        {
          "output_type": "execute_result",
          "data": {
            "text/plain": [
              "['mahasiswa',\n",
              " 'kampus',\n",
              " 'pengetahuan',\n",
              " 'pengetahuan keterampilan',\n",
              " 'keterampilan',\n",
              " 'industri',\n",
              " 'jokowi lembaga',\n",
              " 'kampus merdeka',\n",
              " 'menyongsong',\n",
              " 'praktisi']"
            ]
          },
          "metadata": {
            "tags": []
          },
          "execution_count": 35
        }
      ]
    },
    {
      "cell_type": "code",
      "metadata": {
        "id": "7sc9zr2EvGAJ"
      },
      "source": [
        ""
      ],
      "execution_count": null,
      "outputs": []
    }
  ]
}