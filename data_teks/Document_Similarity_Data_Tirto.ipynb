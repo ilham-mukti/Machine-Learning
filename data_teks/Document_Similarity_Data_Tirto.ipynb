{
  "nbformat": 4,
  "nbformat_minor": 0,
  "metadata": {
    "colab": {
      "name": "Document Similarity Data Tirto.ipynb",
      "provenance": [],
      "collapsed_sections": [],
      "authorship_tag": "ABX9TyMvCxymQwTzHCtBeNDOpLmy",
      "include_colab_link": true
    },
    "kernelspec": {
      "name": "python3",
      "display_name": "Python 3"
    },
    "language_info": {
      "name": "python"
    }
  },
  "cells": [
    {
      "cell_type": "markdown",
      "metadata": {
        "id": "view-in-github",
        "colab_type": "text"
      },
      "source": [
        "<a href=\"https://colab.research.google.com/github/ilham-mukti/Machine-Learning/blob/main/data_teks/Document_Similarity_Data_Tirto.ipynb\" target=\"_parent\"><img src=\"https://colab.research.google.com/assets/colab-badge.svg\" alt=\"Open In Colab\"/></a>"
      ]
    },
    {
      "cell_type": "code",
      "metadata": {
        "id": "PiE_5MDMsLvM",
        "colab": {
          "base_uri": "https://localhost:8080/"
        },
        "outputId": "8cd0d32d-7664-43f3-c3d2-1880e8ac4704"
      },
      "source": [
        "import nltk\n",
        "nltk.download(\"stopwords\")\n",
        "nltk.download(\"punkt\")\n",
        "\n",
        "import numpy as np\n",
        "from sklearn.metrics.pairwise import cosine_distances, cosine_similarity\n",
        "import pandas as pd\n",
        "from nltk.tokenize import word_tokenize\n",
        "from nltk.corpus import stopwords\n",
        "from string import punctuation\n",
        "from sklearn.feature_extraction.text import TfidfVectorizer\n",
        "\n",
        "sw_indo = stopwords.words(\"indonesian\") + list(punctuation)"
      ],
      "execution_count": 4,
      "outputs": [
        {
          "output_type": "stream",
          "text": [
            "[nltk_data] Downloading package stopwords to /root/nltk_data...\n",
            "[nltk_data]   Package stopwords is already up-to-date!\n",
            "[nltk_data] Downloading package punkt to /root/nltk_data...\n",
            "[nltk_data]   Package punkt is already up-to-date!\n"
          ],
          "name": "stdout"
        }
      ]
    },
    {
      "cell_type": "code",
      "metadata": {
        "id": "PRDPV-AXeqQL"
      },
      "source": [
        "sw_indo"
      ],
      "execution_count": null,
      "outputs": []
    },
    {
      "cell_type": "code",
      "metadata": {
        "colab": {
          "base_uri": "https://localhost:8080/",
          "height": 306
        },
        "id": "49K9KPnSsUAL",
        "outputId": "4f5d2d01-8893-4820-98e3-93adf0d40bcd"
      },
      "source": [
        "datas = pd.read_csv(\"/content/data_tirto.csv\")\n",
        "datas.head()"
      ],
      "execution_count": 6,
      "outputs": [
        {
          "output_type": "execute_result",
          "data": {
            "text/html": [
              "<div>\n",
              "<style scoped>\n",
              "    .dataframe tbody tr th:only-of-type {\n",
              "        vertical-align: middle;\n",
              "    }\n",
              "\n",
              "    .dataframe tbody tr th {\n",
              "        vertical-align: top;\n",
              "    }\n",
              "\n",
              "    .dataframe thead th {\n",
              "        text-align: right;\n",
              "    }\n",
              "</style>\n",
              "<table border=\"1\" class=\"dataframe\">\n",
              "  <thead>\n",
              "    <tr style=\"text-align: right;\">\n",
              "      <th></th>\n",
              "      <th>id_berita</th>\n",
              "      <th>judul_berita</th>\n",
              "      <th>isi_berita</th>\n",
              "      <th>nama_penulis</th>\n",
              "      <th>date_created</th>\n",
              "      <th>url_artikel</th>\n",
              "    </tr>\n",
              "  </thead>\n",
              "  <tbody>\n",
              "    <tr>\n",
              "      <th>0</th>\n",
              "      <td>1259889</td>\n",
              "      <td>Jokowi Sindir ASN yang Minta Dilayani: Seperti...</td>\n",
              "      <td>Presiden Jokowi menilai para aparatur sipil ne...</td>\n",
              "      <td>Andrian Pratama Taher</td>\n",
              "      <td>27/07/2021 10:55</td>\n",
              "      <td>https://tirto.id/jokowi-sindir-asn-yang-minta-...</td>\n",
              "    </tr>\n",
              "    <tr>\n",
              "      <th>1</th>\n",
              "      <td>1259829</td>\n",
              "      <td>Larangan Demo Jokowi End Game &amp; Bahaya Doxing ...</td>\n",
              "      <td>Jumat, 23 Juli 2021, sekira pukul 23-an, ada t...</td>\n",
              "      <td>Adi Briantika</td>\n",
              "      <td>26/07/2021 17:24</td>\n",
              "      <td>https://tirto.id/larangan-demo-jokowi-end-game...</td>\n",
              "    </tr>\n",
              "    <tr>\n",
              "      <th>2</th>\n",
              "      <td>1259921</td>\n",
              "      <td>Jokowi: Mahasiswa Punya Talenta, Bisa Berprofe...</td>\n",
              "      <td>Presiden Joko Widodo meminta agar perguruan ti...</td>\n",
              "      <td>Andrian Pratama Taher</td>\n",
              "      <td>27/07/2021 13:36</td>\n",
              "      <td>https://tirto.id/jokowi-mahasiswa-punya-talent...</td>\n",
              "    </tr>\n",
              "    <tr>\n",
              "      <th>3</th>\n",
              "      <td>1259902</td>\n",
              "      <td>Tjahjo Minta Seluruh ASN Ikuti Arahan Jokowi-M...</td>\n",
              "      <td>Menteri Pendayagunaan Aparatur Negara dan Refo...</td>\n",
              "      <td>Andrian Pratama Taher</td>\n",
              "      <td>27/07/2021 12:30</td>\n",
              "      <td>https://tirto.id/tjahjo-minta-seluruh-asn-ikut...</td>\n",
              "    </tr>\n",
              "    <tr>\n",
              "      <th>4</th>\n",
              "      <td>1259792</td>\n",
              "      <td>Jokowi, Menkes dan Mendag Disomasi Imbas Kelan...</td>\n",
              "      <td>Koalisi masyarakat sipil menyomasi Presiden Jo...</td>\n",
              "      <td>Irwan Syambudi</td>\n",
              "      <td>26/07/2021 13:41</td>\n",
              "      <td>https://tirto.id/jokowi-menkes-dan-mendag-diso...</td>\n",
              "    </tr>\n",
              "  </tbody>\n",
              "</table>\n",
              "</div>"
            ],
            "text/plain": [
              "   id_berita  ...                                        url_artikel\n",
              "0    1259889  ...  https://tirto.id/jokowi-sindir-asn-yang-minta-...\n",
              "1    1259829  ...  https://tirto.id/larangan-demo-jokowi-end-game...\n",
              "2    1259921  ...  https://tirto.id/jokowi-mahasiswa-punya-talent...\n",
              "3    1259902  ...  https://tirto.id/tjahjo-minta-seluruh-asn-ikut...\n",
              "4    1259792  ...  https://tirto.id/jokowi-menkes-dan-mendag-diso...\n",
              "\n",
              "[5 rows x 6 columns]"
            ]
          },
          "metadata": {
            "tags": []
          },
          "execution_count": 6
        }
      ]
    },
    {
      "cell_type": "code",
      "metadata": {
        "id": "Up5nhmxsstCz"
      },
      "source": [
        "datas.drop_duplicates(subset='id_berita', inplace=True, ignore_index=True)"
      ],
      "execution_count": 7,
      "outputs": []
    },
    {
      "cell_type": "code",
      "metadata": {
        "colab": {
          "base_uri": "https://localhost:8080/"
        },
        "id": "V9iMX7MduVdX",
        "outputId": "be8d93e3-84dc-456a-a892-2bf217b38bc9"
      },
      "source": [
        "datas.shape"
      ],
      "execution_count": 8,
      "outputs": [
        {
          "output_type": "execute_result",
          "data": {
            "text/plain": [
              "(863, 6)"
            ]
          },
          "metadata": {
            "tags": []
          },
          "execution_count": 8
        }
      ]
    },
    {
      "cell_type": "markdown",
      "metadata": {
        "id": "Y23tdkO_tDJG"
      },
      "source": [
        "# Ekstrak TFIDF"
      ]
    },
    {
      "cell_type": "code",
      "metadata": {
        "colab": {
          "base_uri": "https://localhost:8080/"
        },
        "id": "4cHzRSswsvMm",
        "outputId": "094d6ac4-8ba9-486e-9834-7dec41822b9f"
      },
      "source": [
        "tfidf = TfidfVectorizer(ngram_range=(1,2), tokenizer=word_tokenize, stop_words=sw_indo)\n",
        "tfidf_matrix = tfidf.fit_transform(datas.isi_berita)\n",
        "tfidf_matrix"
      ],
      "execution_count": 9,
      "outputs": [
        {
          "output_type": "stream",
          "text": [
            "/usr/local/lib/python3.7/dist-packages/sklearn/feature_extraction/text.py:385: UserWarning: Your stop_words may be inconsistent with your preprocessing. Tokenizing the stop words generated tokens ['``'] not in stop_words.\n",
            "  'stop_words.' % sorted(inconsistent))\n"
          ],
          "name": "stderr"
        },
        {
          "output_type": "execute_result",
          "data": {
            "text/plain": [
              "<863x243099 sparse matrix of type '<class 'numpy.float64'>'\n",
              "\twith 475069 stored elements in Compressed Sparse Row format>"
            ]
          },
          "metadata": {
            "tags": []
          },
          "execution_count": 9
        }
      ]
    },
    {
      "cell_type": "markdown",
      "metadata": {
        "id": "it8hAGjQtHsF"
      },
      "source": [
        "# Document Similarity"
      ]
    },
    {
      "cell_type": "code",
      "metadata": {
        "id": "VxoNlicDs7Vw"
      },
      "source": [
        "#Kalo pake Distance\n",
        "def document_similarity(index, matrix, topk=6):\n",
        "  sim = cosine_distances(matrix[index], matrix)\n",
        "  sorted_sim = sim.argsort()[0, 0:topk+1]\n",
        "  return sorted_sim"
      ],
      "execution_count": 26,
      "outputs": []
    },
    {
      "cell_type": "code",
      "metadata": {
        "colab": {
          "base_uri": "https://localhost:8080/"
        },
        "id": "zQXd8VJMtKc3",
        "outputId": "4ca4e74c-a875-4aab-a620-0711fcfc18e3"
      },
      "source": [
        "data_ke = 0\n",
        "result_index = document_similarity(data_ke, tfidf_matrix)\n",
        "print(result_index)"
      ],
      "execution_count": 27,
      "outputs": [
        {
          "output_type": "stream",
          "text": [
            "[  0   3 616  82 108 140   2]\n"
          ],
          "name": "stdout"
        }
      ]
    },
    {
      "cell_type": "code",
      "metadata": {
        "colab": {
          "base_uri": "https://localhost:8080/",
          "height": 86
        },
        "id": "F6R7zXn8caUV",
        "outputId": "59e0d491-7a84-40fc-e51b-616d0ca0634c"
      },
      "source": [
        "datas.isi_berita[0][:400]"
      ],
      "execution_count": 12,
      "outputs": [
        {
          "output_type": "execute_result",
          "data": {
            "application/vnd.google.colaboratory.intrinsic+json": {
              "type": "string"
            },
            "text/plain": [
              "'Presiden Jokowi menilai para aparatur sipil negara (ASN) di masa depan harus mampu melayani masyarakat. Ia tidak mau ada ASN justru bermental seperti aparatur di masa kolonial yang ingin dilayani oleh masyarakat.\\xa0\"Setiap ASN harus mempunyai orientasi yang sama yaitu memberikan pelayanan terbaik untuk masyarakat. ASN bukan pejabat yang justru minta dilayani, yang bergaya seperti pejabat zaman kolon'"
            ]
          },
          "metadata": {
            "tags": []
          },
          "execution_count": 12
        }
      ]
    },
    {
      "cell_type": "code",
      "metadata": {
        "colab": {
          "base_uri": "https://localhost:8080/",
          "height": 86
        },
        "id": "qgU4i8FRcfPB",
        "outputId": "52ebc4f3-5e27-4772-a55d-48fd7c0ab718"
      },
      "source": [
        "datas.isi_berita[3][:400]"
      ],
      "execution_count": 13,
      "outputs": [
        {
          "output_type": "execute_result",
          "data": {
            "application/vnd.google.colaboratory.intrinsic+json": {
              "type": "string"
            },
            "text/plain": [
              "'Menteri Pendayagunaan Aparatur Negara dan Reformasi Birokrasi (PAN-RB) Tjahjo Kumolo meminta kepada seluruh aparatur sipil negara (ASN) untuk bersatu padu dalam penanganan COVID-19. Ia meminta kepada semua pihak terutama para ASN untuk patuh arahan Jokowi.\"Kami mengajak seluruh ASN sebagai bagian dari pada aparatur instansi pemerintah, bersama-sama dengan elemen masyarakat, tokoh masyarakat, ormas'"
            ]
          },
          "metadata": {
            "tags": []
          },
          "execution_count": 13
        }
      ]
    },
    {
      "cell_type": "code",
      "metadata": {
        "colab": {
          "base_uri": "https://localhost:8080/",
          "height": 86
        },
        "id": "WBYXT9vPdR5q",
        "outputId": "245ccdad-dbf9-4fd4-b181-4dfc4258b7f2"
      },
      "source": [
        "datas.isi_berita[616][:400]"
      ],
      "execution_count": 14,
      "outputs": [
        {
          "output_type": "execute_result",
          "data": {
            "application/vnd.google.colaboratory.intrinsic+json": {
              "type": "string"
            },
            "text/plain": [
              "'Pemerintah Kabupaten Boyolali di Provinsi Jawa Tengah mulai Senin (14/9/2020) akan menerapkan kebijakan kerja dari rumah atau WFH bagi aparatur sipil negara (ASN) dalam upaya meminimalkan risiko penularan COVID-19 yang terus bertambah. Sekretaris Daerah Pemerintah Kabupaten Boyolali Masruri di Boyolali, Jumat (11/9/2020), menjelaskan sesuai dengan Surat Edaran Bupati mengenai sistem kerja ASN dala'"
            ]
          },
          "metadata": {
            "tags": []
          },
          "execution_count": 14
        }
      ]
    },
    {
      "cell_type": "code",
      "metadata": {
        "id": "Gi5OyisFk93z",
        "colab": {
          "base_uri": "https://localhost:8080/",
          "height": 86
        },
        "outputId": "ddbbb8af-9ec4-4ba7-c9ed-2ccafdb4b4c2"
      },
      "source": [
        "datas.isi_berita[2][:400]"
      ],
      "execution_count": 33,
      "outputs": [
        {
          "output_type": "execute_result",
          "data": {
            "application/vnd.google.colaboratory.intrinsic+json": {
              "type": "string"
            },
            "text/plain": [
              "'Presiden Joko Widodo meminta agar perguruan tinggi untuk mengubah dan memfasilitasi kebutuhan pembelajaran untuk kebutuhan masa depan. Jokowi menilai, para mahasiswa harus mendapatkan ilmu pengetahuan di tengah rangkaian distrupsi akibat revolusi industri 4.0 yang dipercepat dengan pandemi COVID-19. Pembelajaran jarak jauh di kampus sudah berlangsung di awal pandemi. Semua pembelajaran berlangsung'"
            ]
          },
          "metadata": {
            "tags": []
          },
          "execution_count": 33
        }
      ]
    },
    {
      "cell_type": "code",
      "metadata": {
        "colab": {
          "base_uri": "https://localhost:8080/",
          "height": 241
        },
        "id": "glshwGURbmKz",
        "outputId": "247bca5d-99bb-4fbf-8d2a-be3e27d956ba"
      },
      "source": [
        "datas.loc[result_index, 'id_berita': 'nama_penulis']"
      ],
      "execution_count": 16,
      "outputs": [
        {
          "output_type": "execute_result",
          "data": {
            "text/html": [
              "<div>\n",
              "<style scoped>\n",
              "    .dataframe tbody tr th:only-of-type {\n",
              "        vertical-align: middle;\n",
              "    }\n",
              "\n",
              "    .dataframe tbody tr th {\n",
              "        vertical-align: top;\n",
              "    }\n",
              "\n",
              "    .dataframe thead th {\n",
              "        text-align: right;\n",
              "    }\n",
              "</style>\n",
              "<table border=\"1\" class=\"dataframe\">\n",
              "  <thead>\n",
              "    <tr style=\"text-align: right;\">\n",
              "      <th></th>\n",
              "      <th>id_berita</th>\n",
              "      <th>judul_berita</th>\n",
              "      <th>isi_berita</th>\n",
              "      <th>nama_penulis</th>\n",
              "    </tr>\n",
              "  </thead>\n",
              "  <tbody>\n",
              "    <tr>\n",
              "      <th>0</th>\n",
              "      <td>1259889</td>\n",
              "      <td>Jokowi Sindir ASN yang Minta Dilayani: Seperti...</td>\n",
              "      <td>Presiden Jokowi menilai para aparatur sipil ne...</td>\n",
              "      <td>Andrian Pratama Taher</td>\n",
              "    </tr>\n",
              "    <tr>\n",
              "      <th>3</th>\n",
              "      <td>1259902</td>\n",
              "      <td>Tjahjo Minta Seluruh ASN Ikuti Arahan Jokowi-M...</td>\n",
              "      <td>Menteri Pendayagunaan Aparatur Negara dan Refo...</td>\n",
              "      <td>Andrian Pratama Taher</td>\n",
              "    </tr>\n",
              "    <tr>\n",
              "      <th>616</th>\n",
              "      <td>1211577</td>\n",
              "      <td>Cegah Penularan COVID-19, Boyolali Terapkan Ke...</td>\n",
              "      <td>Pemerintah Kabupaten Boyolali di Provinsi Jawa...</td>\n",
              "      <td>tidak ada</td>\n",
              "    </tr>\n",
              "    <tr>\n",
              "      <th>82</th>\n",
              "      <td>1259654</td>\n",
              "      <td>Soal Demo Jokowi End Game, Mahfud: Ada Kelompo...</td>\n",
              "      <td>Menkopolhukam Mahfud MD menyebut ada sekelompo...</td>\n",
              "      <td>Andrian Pratama Taher</td>\n",
              "    </tr>\n",
              "  </tbody>\n",
              "</table>\n",
              "</div>"
            ],
            "text/plain": [
              "     id_berita  ...           nama_penulis\n",
              "0      1259889  ...  Andrian Pratama Taher\n",
              "3      1259902  ...  Andrian Pratama Taher\n",
              "616    1211577  ...              tidak ada\n",
              "82     1259654  ...  Andrian Pratama Taher\n",
              "\n",
              "[4 rows x 4 columns]"
            ]
          },
          "metadata": {
            "tags": []
          },
          "execution_count": 16
        }
      ]
    },
    {
      "cell_type": "code",
      "metadata": {
        "id": "SucjVrhGjj2S"
      },
      "source": [
        "#Kalo pake Similarity, hasilnya sama aja\n",
        "def document_similarity(index, matrix, topk=3):\n",
        "  sim = cosine_similarity(matrix[index], matrix)\n",
        "  sorted_sim = sim[0].argsort()\n",
        "  berita_yang_sama = [index for index in reversed(sorted_sim[-topk:])]\n",
        "  return berita_yang_sama"
      ],
      "execution_count": 17,
      "outputs": []
    },
    {
      "cell_type": "code",
      "metadata": {
        "colab": {
          "base_uri": "https://localhost:8080/"
        },
        "id": "SU3ofArgjryI",
        "outputId": "cac36b1d-c9f1-4625-b3c1-da6d79ef80f8"
      },
      "source": [
        "data_ke = 1\n",
        "result_index = document_similarity(data_ke, tfidf_matrix)\n",
        "print(result_index)"
      ],
      "execution_count": 18,
      "outputs": [
        {
          "output_type": "stream",
          "text": [
            "[1, 87, 95]\n"
          ],
          "name": "stdout"
        }
      ]
    },
    {
      "cell_type": "code",
      "metadata": {
        "colab": {
          "base_uri": "https://localhost:8080/",
          "height": 193
        },
        "id": "asOQZl_MxBV_",
        "outputId": "480d3361-1d4e-4622-9246-b1aa8496dc21"
      },
      "source": [
        "datas.loc[result_index, 'id_berita': 'nama_penulis']"
      ],
      "execution_count": 19,
      "outputs": [
        {
          "output_type": "execute_result",
          "data": {
            "text/html": [
              "<div>\n",
              "<style scoped>\n",
              "    .dataframe tbody tr th:only-of-type {\n",
              "        vertical-align: middle;\n",
              "    }\n",
              "\n",
              "    .dataframe tbody tr th {\n",
              "        vertical-align: top;\n",
              "    }\n",
              "\n",
              "    .dataframe thead th {\n",
              "        text-align: right;\n",
              "    }\n",
              "</style>\n",
              "<table border=\"1\" class=\"dataframe\">\n",
              "  <thead>\n",
              "    <tr style=\"text-align: right;\">\n",
              "      <th></th>\n",
              "      <th>id_berita</th>\n",
              "      <th>judul_berita</th>\n",
              "      <th>isi_berita</th>\n",
              "      <th>nama_penulis</th>\n",
              "    </tr>\n",
              "  </thead>\n",
              "  <tbody>\n",
              "    <tr>\n",
              "      <th>1</th>\n",
              "      <td>1259829</td>\n",
              "      <td>Larangan Demo Jokowi End Game &amp; Bahaya Doxing ...</td>\n",
              "      <td>Jumat, 23 Juli 2021, sekira pukul 23-an, ada t...</td>\n",
              "      <td>Adi Briantika</td>\n",
              "    </tr>\n",
              "    <tr>\n",
              "      <th>87</th>\n",
              "      <td>1259634</td>\n",
              "      <td>Polisi Tangkap 2 Terduga Inisiator Demo Jokowi...</td>\n",
              "      <td>Polisi meringkus dua orang di Semarang yang me...</td>\n",
              "      <td>Andrian Pratama Taher</td>\n",
              "    </tr>\n",
              "    <tr>\n",
              "      <th>95</th>\n",
              "      <td>1259592</td>\n",
              "      <td>Polisi Khawatir Demo &amp;#039;Jokowi End Game&amp;#03...</td>\n",
              "      <td>Polri mengimbau masyarakat tidak terhasut deng...</td>\n",
              "      <td>Adi Briantika</td>\n",
              "    </tr>\n",
              "  </tbody>\n",
              "</table>\n",
              "</div>"
            ],
            "text/plain": [
              "    id_berita  ...           nama_penulis\n",
              "1     1259829  ...          Adi Briantika\n",
              "87    1259634  ...  Andrian Pratama Taher\n",
              "95    1259592  ...          Adi Briantika\n",
              "\n",
              "[3 rows x 4 columns]"
            ]
          },
          "metadata": {
            "tags": []
          },
          "execution_count": 19
        }
      ]
    },
    {
      "cell_type": "code",
      "metadata": {
        "id": "x_lH7PUmtRG2"
      },
      "source": [
        "def extract_keyword_tfidf(doc, tfidf, topk=10):\n",
        "  matrix = tfidf.transform([doc])\n",
        "  vocab = tfidf.get_feature_names()\n",
        "\n",
        "  sorted_tfidf = matrix[0].toarray()[0].argsort()\n",
        "  return([vocab[idx] for idx in reversed(sorted_tfidf[-topk:])])"
      ],
      "execution_count": 20,
      "outputs": []
    },
    {
      "cell_type": "code",
      "metadata": {
        "colab": {
          "base_uri": "https://localhost:8080/"
        },
        "id": "OSE4gqGMvDUF",
        "outputId": "f1dde521-dcf7-4ddf-c86a-87cec6ab139a"
      },
      "source": [
        "text = datas.isi_berita[19]\n",
        "extract_keyword_tfidf(text, tfidf)"
      ],
      "execution_count": 21,
      "outputs": [
        {
          "output_type": "execute_result",
          "data": {
            "text/plain": [
              "['stigmatisasi',\n",
              " 'isoman',\n",
              " 'kematian',\n",
              " 'covid',\n",
              " 'vino',\n",
              " 'budi',\n",
              " 'sulfikar',\n",
              " 'menkes budi',\n",
              " 'penderita covid',\n",
              " 'penderita']"
            ]
          },
          "metadata": {
            "tags": []
          },
          "execution_count": 21
        }
      ]
    },
    {
      "cell_type": "code",
      "metadata": {
        "id": "7sc9zr2EvGAJ"
      },
      "source": [
        ""
      ],
      "execution_count": 21,
      "outputs": []
    }
  ]
}