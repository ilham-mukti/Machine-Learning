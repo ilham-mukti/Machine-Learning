{
  "nbformat": 4,
  "nbformat_minor": 0,
  "metadata": {
    "colab": {
      "name": "Document Similarity & Keyword Extraction.ipynb",
      "provenance": [],
      "authorship_tag": "ABX9TyO8nmm+mRrZ0Sp9zewOsvjt",
      "include_colab_link": true
    },
    "kernelspec": {
      "name": "python3",
      "display_name": "Python 3"
    },
    "language_info": {
      "name": "python"
    }
  },
  "cells": [
    {
      "cell_type": "markdown",
      "metadata": {
        "id": "view-in-github",
        "colab_type": "text"
      },
      "source": [
        "<a href=\"https://colab.research.google.com/github/ilham-mukti/Machine-Learning/blob/main/data_teks/Document_Similarity_%26_Keyword_Extraction.ipynb\" target=\"_parent\"><img src=\"https://colab.research.google.com/assets/colab-badge.svg\" alt=\"Open In Colab\"/></a>"
      ]
    },
    {
      "cell_type": "markdown",
      "metadata": {
        "id": "ZD582oVnfhm0"
      },
      "source": [
        "# Mencari Similarity Document\n",
        "Caranya dengan encode dlu menggunakan tfidf, kemudian cari similaritynya"
      ]
    },
    {
      "cell_type": "code",
      "metadata": {
        "colab": {
          "base_uri": "https://localhost:8080/"
        },
        "id": "AAAP2wJNe-zx",
        "outputId": "e5f7ec2b-a83e-4c22-de19-c77dc94f0d3a"
      },
      "source": [
        "import nltk\n",
        "nltk.download(\"stopwords\")\n",
        "nltk.download(\"punkt\")"
      ],
      "execution_count": 3,
      "outputs": [
        {
          "output_type": "stream",
          "text": [
            "[nltk_data] Downloading package stopwords to /root/nltk_data...\n",
            "[nltk_data]   Unzipping corpora/stopwords.zip.\n",
            "[nltk_data] Downloading package punkt to /root/nltk_data...\n",
            "[nltk_data]   Unzipping tokenizers/punkt.zip.\n"
          ],
          "name": "stdout"
        },
        {
          "output_type": "execute_result",
          "data": {
            "text/plain": [
              "True"
            ]
          },
          "metadata": {
            "tags": []
          },
          "execution_count": 3
        }
      ]
    },
    {
      "cell_type": "code",
      "metadata": {
        "id": "PCXjx4SpeGtq"
      },
      "source": [
        "from sklearn.metrics.pairwise import cosine_distances, cosine_similarity\n",
        "import pandas as pd\n",
        "from nltk.tokenize import word_tokenize\n",
        "from nltk.corpus import stopwords\n",
        "from string import punctuation\n",
        "from sklearn.feature_extraction.text import TfidfVectorizer\n",
        "import numpy as np\n",
        "\n",
        "sw_indo = stopwords.words(\"indonesian\") + list(punctuation)"
      ],
      "execution_count": 28,
      "outputs": []
    },
    {
      "cell_type": "code",
      "metadata": {
        "colab": {
          "base_uri": "https://localhost:8080/",
          "height": 204
        },
        "id": "nKnfjfP1ewZW",
        "outputId": "b649433b-497c-454f-f256-9f8f477d79d8"
      },
      "source": [
        "datas = pd.read_csv(\"/content/kompas.csv\")\n",
        "datas.head()"
      ],
      "execution_count": 5,
      "outputs": [
        {
          "output_type": "execute_result",
          "data": {
            "text/html": [
              "<div>\n",
              "<style scoped>\n",
              "    .dataframe tbody tr th:only-of-type {\n",
              "        vertical-align: middle;\n",
              "    }\n",
              "\n",
              "    .dataframe tbody tr th {\n",
              "        vertical-align: top;\n",
              "    }\n",
              "\n",
              "    .dataframe thead th {\n",
              "        text-align: right;\n",
              "    }\n",
              "</style>\n",
              "<table border=\"1\" class=\"dataframe\">\n",
              "  <thead>\n",
              "    <tr style=\"text-align: right;\">\n",
              "      <th></th>\n",
              "      <th>teks</th>\n",
              "    </tr>\n",
              "  </thead>\n",
              "  <tbody>\n",
              "    <tr>\n",
              "      <th>0</th>\n",
              "      <td>Ginandjar Tetap Ditahan. Jaksa Agung Dilaporka...</td>\n",
              "    </tr>\n",
              "    <tr>\n",
              "      <th>1</th>\n",
              "      <td>Jakarta Dikangkangi Para Preman\\nKALAU tak pun...</td>\n",
              "    </tr>\n",
              "    <tr>\n",
              "      <th>2</th>\n",
              "      <td>Penyimpangan di Setpres Seolah Terjadi Sekaran...</td>\n",
              "    </tr>\n",
              "    <tr>\n",
              "      <th>3</th>\n",
              "      <td>Dibayarkan, Rapel Kenaikan Gaji Pegawai Pos\\nK...</td>\n",
              "    </tr>\n",
              "    <tr>\n",
              "      <th>4</th>\n",
              "      <td>Stop Kekerasan, Elite agar Duduk Bersama\\nSeju...</td>\n",
              "    </tr>\n",
              "  </tbody>\n",
              "</table>\n",
              "</div>"
            ],
            "text/plain": [
              "                                                teks\n",
              "0  Ginandjar Tetap Ditahan. Jaksa Agung Dilaporka...\n",
              "1  Jakarta Dikangkangi Para Preman\\nKALAU tak pun...\n",
              "2  Penyimpangan di Setpres Seolah Terjadi Sekaran...\n",
              "3  Dibayarkan, Rapel Kenaikan Gaji Pegawai Pos\\nK...\n",
              "4  Stop Kekerasan, Elite agar Duduk Bersama\\nSeju..."
            ]
          },
          "metadata": {
            "tags": []
          },
          "execution_count": 5
        }
      ]
    },
    {
      "cell_type": "code",
      "metadata": {
        "colab": {
          "base_uri": "https://localhost:8080/",
          "height": 52
        },
        "id": "yOUSJy-PfHVi",
        "outputId": "00acbac4-c660-4e63-9910-b8a09b52d1fa"
      },
      "source": [
        "datas.teks[0][:200]"
      ],
      "execution_count": 7,
      "outputs": [
        {
          "output_type": "execute_result",
          "data": {
            "application/vnd.google.colaboratory.intrinsic+json": {
              "type": "string"
            },
            "text/plain": [
              "'Ginandjar Tetap Ditahan. Jaksa Agung Dilaporkan ke Polri\\nKejaksaan Agung memutuskan untuk tetap menahan tersangka kasus korupsi, Ginandjar Kartasasmita, sampai batas waktu yang ditentukan KUHAP. Sedan'"
            ]
          },
          "metadata": {
            "tags": []
          },
          "execution_count": 7
        }
      ]
    },
    {
      "cell_type": "markdown",
      "metadata": {
        "id": "YzO5C-PdgY-p"
      },
      "source": [
        "## Extract TFIDF"
      ]
    },
    {
      "cell_type": "code",
      "metadata": {
        "colab": {
          "base_uri": "https://localhost:8080/"
        },
        "id": "e34CVL9jfLT2",
        "outputId": "f09a4b63-cc41-4659-d1b4-c454f123098c"
      },
      "source": [
        "tfidf = TfidfVectorizer(ngram_range=(1,2), tokenizer=word_tokenize, stop_words=sw_indo)\n",
        "tfidf_matrix = tfidf.fit_transform(datas.teks)\n",
        "tfidf_matrix"
      ],
      "execution_count": 112,
      "outputs": [
        {
          "output_type": "stream",
          "text": [
            "/usr/local/lib/python3.7/dist-packages/sklearn/feature_extraction/text.py:385: UserWarning: Your stop_words may be inconsistent with your preprocessing. Tokenizing the stop words generated tokens ['``'] not in stop_words.\n",
            "  'stop_words.' % sorted(inconsistent))\n"
          ],
          "name": "stderr"
        },
        {
          "output_type": "execute_result",
          "data": {
            "text/plain": [
              "<2008x548406 sparse matrix of type '<class 'numpy.float64'>'\n",
              "\twith 1173616 stored elements in Compressed Sparse Row format>"
            ]
          },
          "metadata": {
            "tags": []
          },
          "execution_count": 112
        }
      ]
    },
    {
      "cell_type": "markdown",
      "metadata": {
        "id": "c0C7aAeThLqC"
      },
      "source": [
        "## Document Similarity"
      ]
    },
    {
      "cell_type": "code",
      "metadata": {
        "colab": {
          "base_uri": "https://localhost:8080/"
        },
        "id": "WQqbgBIdgKGa",
        "outputId": "89f9f919-4e05-465c-9e4a-59ac60877791"
      },
      "source": [
        "sim = cosine_similarity(tfidf_matrix[1], tfidf_matrix)\n",
        "sim"
      ],
      "execution_count": 83,
      "outputs": [
        {
          "output_type": "execute_result",
          "data": {
            "text/plain": [
              "array([[0.00858328, 1.        , 0.01030995, ..., 0.01237804, 0.03707573,\n",
              "        0.01835452]])"
            ]
          },
          "metadata": {
            "tags": []
          },
          "execution_count": 83
        }
      ]
    },
    {
      "cell_type": "code",
      "metadata": {
        "colab": {
          "base_uri": "https://localhost:8080/"
        },
        "id": "0wowvQPPgKm9",
        "outputId": "b3f4b13a-d9e0-4c4c-87d6-12e0ad85f730"
      },
      "source": [
        "sorted_sim = sim[0].argsort() #Ini emang 0, supaya jadi array vektor\n",
        "sorted_sim"
      ],
      "execution_count": 95,
      "outputs": [
        {
          "output_type": "execute_result",
          "data": {
            "text/plain": [
              "array([1230, 1593,  567, ...,  239,  172,    1])"
            ]
          },
          "metadata": {
            "tags": []
          },
          "execution_count": 95
        }
      ]
    },
    {
      "cell_type": "code",
      "metadata": {
        "colab": {
          "base_uri": "https://localhost:8080/"
        },
        "id": "b_yyTvgYmD17",
        "outputId": "e811981a-56be-41a5-e4e4-d18493134c9d"
      },
      "source": [
        "berita_yang_sama = [datas.teks[index][:100] for index in reversed(sorted_sim[-10:])]\n",
        "berita_yang_sama"
      ],
      "execution_count": 104,
      "outputs": [
        {
          "output_type": "execute_result",
          "data": {
            "text/plain": [
              "['Jakarta Dikangkangi Para Preman\\nKALAU tak punya nyali dan uang cukup, jangan berjualan di sekitar Te',\n",
              " 'Preman dari yang di Jalanan hingga yang Berdasi\\nRENCANA Musyawarah Pimpinan Daerah (Muspida) DKI Jak',\n",
              " '\"Kunjungan Wisata\" Pemberantasan Preman...\\nBUNYI sirene motor-motor  voorrijder -pengawal bermotor-m',\n",
              " 'Di Kuburan Pun Ada Preman\\nDI Medan, kota yang disebut-sebut sebagai tempat asalnya, sepak terjang pr',\n",
              " 'Aksi Preman di Pasar Kramat Jati\\n\\nBENTROKAN massal yang nyaris terjadi di Pasar Kramat Jati, Jakarta',\n",
              " 'Aksi Preman Merajalela di Sawah-sawah Pantura\\nPREMAN mudah dicari di terminal, pasar, dan pusat kera',\n",
              " 'Tentara \"Bersihkan\" Preman di PLB Entikong\\n\\nSejumlah petugas TNI dari kesatuan Komando Distrik Milit',\n",
              " 'Pedagang Kaki Lima Bentrok dengan Petugas\\nOperasi pedagang kaki lima dan preman yang dilakukan tim p',\n",
              " 'Gedung Balaikota Bandung Dirusak Pedagang Kaki Lima\\n\\nSekitar 500 pedagang kaki lima (PKL) hari Kamis',\n",
              " 'Operasi Pasar Beras, Bukan Sekadar Berjualan di Pasar\\n\\nSUDAH empat hari operasi pasar murni (OPM) be']"
            ]
          },
          "metadata": {
            "tags": []
          },
          "execution_count": 104
        }
      ]
    },
    {
      "cell_type": "code",
      "metadata": {
        "colab": {
          "base_uri": "https://localhost:8080/",
          "height": 52
        },
        "id": "iIgS1wCcgKz-",
        "outputId": "dfab8630-0c77-41c0-ce6e-a4de5c88caf0"
      },
      "source": [
        "datas.teks[1][:200]"
      ],
      "execution_count": 22,
      "outputs": [
        {
          "output_type": "execute_result",
          "data": {
            "application/vnd.google.colaboratory.intrinsic+json": {
              "type": "string"
            },
            "text/plain": [
              "'Jakarta Dikangkangi Para Preman\\nKALAU tak punya nyali dan uang cukup, jangan berjualan di sekitar Terminal Pulogadung Jakarta Timur. Belum lagi barang dagangan digelar, sudah harus membayar sewa lahan'"
            ]
          },
          "metadata": {
            "tags": []
          },
          "execution_count": 22
        }
      ]
    },
    {
      "cell_type": "code",
      "metadata": {
        "colab": {
          "base_uri": "https://localhost:8080/",
          "height": 52
        },
        "id": "Z1z2LL3bgLCb",
        "outputId": "76bc3309-76a8-441f-abf1-01e50d5e8ec5"
      },
      "source": [
        "datas.teks[172][:200]"
      ],
      "execution_count": 23,
      "outputs": [
        {
          "output_type": "execute_result",
          "data": {
            "application/vnd.google.colaboratory.intrinsic+json": {
              "type": "string"
            },
            "text/plain": [
              "'Preman dari yang di Jalanan hingga yang Berdasi\\nRENCANA Musyawarah Pimpinan Daerah (Muspida) DKI Jakarta untuk memerangi preman di Ibu Kota disambut dengan dingin oleh masyarakat. Warga umumnya merasa'"
            ]
          },
          "metadata": {
            "tags": []
          },
          "execution_count": 23
        }
      ]
    },
    {
      "cell_type": "code",
      "metadata": {
        "colab": {
          "base_uri": "https://localhost:8080/",
          "height": 52
        },
        "id": "mCFhD1zoiNNA",
        "outputId": "9e96dd8e-77ca-4beb-bbaf-3b4673b948d1"
      },
      "source": [
        "datas.teks[239][:200]"
      ],
      "execution_count": 24,
      "outputs": [
        {
          "output_type": "execute_result",
          "data": {
            "application/vnd.google.colaboratory.intrinsic+json": {
              "type": "string"
            },
            "text/plain": [
              "'\"Kunjungan Wisata\" Pemberantasan Preman...\\nBUNYI sirene motor-motor  voorrijder -pengawal bermotor-memecahkan kesibukan warga di sekitar Pasar Tanah Abang, Jakarta Pusat, Senin (16/4). Pengawal bermot'"
            ]
          },
          "metadata": {
            "tags": []
          },
          "execution_count": 24
        }
      ]
    },
    {
      "cell_type": "code",
      "metadata": {
        "id": "Xbcduhe5rhlM"
      },
      "source": [
        "#Jadiin fungsi biar gampang\n",
        "def document_similarity(index, matrix, topk=10):\n",
        "  sim = cosine_similarity(matrix[index], matrix)\n",
        "  sorted_sim = sim[0].argsort()\n",
        "  berita_yang_sama = [datas.teks[index][:100] for index in reversed(sorted_sim[-topk:])]\n",
        "  return(berita_yang_sama)"
      ],
      "execution_count": 116,
      "outputs": []
    },
    {
      "cell_type": "code",
      "metadata": {
        "colab": {
          "base_uri": "https://localhost:8080/"
        },
        "id": "XQbQmNM6rmcb",
        "outputId": "350543ce-4b4f-46e4-9c70-f8a9dbb6b7a5"
      },
      "source": [
        "data_ke = 1\n",
        "document_similarity(data_ke, tfidf_matrix)"
      ],
      "execution_count": 117,
      "outputs": [
        {
          "output_type": "execute_result",
          "data": {
            "text/plain": [
              "['Jakarta Dikangkangi Para Preman\\nKALAU tak punya nyali dan uang cukup, jangan berjualan di sekitar Te',\n",
              " 'Preman dari yang di Jalanan hingga yang Berdasi\\nRENCANA Musyawarah Pimpinan Daerah (Muspida) DKI Jak',\n",
              " '\"Kunjungan Wisata\" Pemberantasan Preman...\\nBUNYI sirene motor-motor  voorrijder -pengawal bermotor-m',\n",
              " 'Di Kuburan Pun Ada Preman\\nDI Medan, kota yang disebut-sebut sebagai tempat asalnya, sepak terjang pr',\n",
              " 'Aksi Preman di Pasar Kramat Jati\\n\\nBENTROKAN massal yang nyaris terjadi di Pasar Kramat Jati, Jakarta',\n",
              " 'Aksi Preman Merajalela di Sawah-sawah Pantura\\nPREMAN mudah dicari di terminal, pasar, dan pusat kera',\n",
              " 'Tentara \"Bersihkan\" Preman di PLB Entikong\\n\\nSejumlah petugas TNI dari kesatuan Komando Distrik Milit',\n",
              " 'Pedagang Kaki Lima Bentrok dengan Petugas\\nOperasi pedagang kaki lima dan preman yang dilakukan tim p',\n",
              " 'Gedung Balaikota Bandung Dirusak Pedagang Kaki Lima\\n\\nSekitar 500 pedagang kaki lima (PKL) hari Kamis',\n",
              " 'Operasi Pasar Beras, Bukan Sekadar Berjualan di Pasar\\n\\nSUDAH empat hari operasi pasar murni (OPM) be']"
            ]
          },
          "metadata": {
            "tags": []
          },
          "execution_count": 117
        }
      ]
    },
    {
      "cell_type": "markdown",
      "metadata": {
        "id": "s_qIdhprjhap"
      },
      "source": [
        "# Keyword Extraction"
      ]
    },
    {
      "cell_type": "code",
      "metadata": {
        "colab": {
          "base_uri": "https://localhost:8080/"
        },
        "id": "cv1BzOimjmlC",
        "outputId": "02c133fc-83db-437b-b722-7289ec93b38c"
      },
      "source": [
        "vocab = tfidf.get_feature_names()\n",
        "vocab[-10:]"
      ],
      "execution_count": 45,
      "outputs": [
        {
          "output_type": "execute_result",
          "data": {
            "text/plain": [
              "['zuniga memilih',\n",
              " 'zunnatul',\n",
              " 'zunnatul mafruhah',\n",
              " 'zurich',\n",
              " 'zurich northholt',\n",
              " 'zw',\n",
              " 'zw suparman',\n",
              " 'zw tim',\n",
              " 'zx',\n",
              " 'zx diserbu']"
            ]
          },
          "metadata": {
            "tags": []
          },
          "execution_count": 45
        }
      ]
    },
    {
      "cell_type": "code",
      "metadata": {
        "colab": {
          "base_uri": "https://localhost:8080/"
        },
        "id": "XcClCKa7jkp5",
        "outputId": "5654556d-c47c-4169-d2b1-af685a8c7e50"
      },
      "source": [
        "tfidf_matrix[1].toarray()"
      ],
      "execution_count": 59,
      "outputs": [
        {
          "output_type": "execute_result",
          "data": {
            "text/plain": [
              "array([[0.04703404, 0.        , 0.        , ..., 0.        , 0.        ,\n",
              "        0.        ]])"
            ]
          },
          "metadata": {
            "tags": []
          },
          "execution_count": 59
        }
      ]
    },
    {
      "cell_type": "code",
      "metadata": {
        "colab": {
          "base_uri": "https://localhost:8080/"
        },
        "id": "7jybLabOkPye",
        "outputId": "0319cb1a-7297-4f43-e3c6-af1db4da29f5"
      },
      "source": [
        "sorted_tfidf = tfidf_matrix[1].toarray()[0].argsort()\n",
        "sorted_tfidf"
      ],
      "execution_count": 60,
      "outputs": [
        {
          "output_type": "execute_result",
          "data": {
            "text/plain": [
              "array([274202, 365427, 365426, ..., 300050, 375703, 427443])"
            ]
          },
          "metadata": {
            "tags": []
          },
          "execution_count": 60
        }
      ]
    },
    {
      "cell_type": "code",
      "metadata": {
        "colab": {
          "base_uri": "https://localhost:8080/"
        },
        "id": "Hqxll3l7khpr",
        "outputId": "a9bd51d7-de5c-4ef0-a1c6-40fd251a2026"
      },
      "source": [
        "vocab[427443], vocab[375703], vocab[300050]"
      ],
      "execution_count": 61,
      "outputs": [
        {
          "output_type": "execute_result",
          "data": {
            "text/plain": [
              "('preman', 'pedagang', 'memberantas preman')"
            ]
          },
          "metadata": {
            "tags": []
          },
          "execution_count": 61
        }
      ]
    },
    {
      "cell_type": "code",
      "metadata": {
        "colab": {
          "base_uri": "https://localhost:8080/"
        },
        "id": "AdsMS9rclmSa",
        "outputId": "c3766328-f3ea-4c71-fae4-54ecca0320fc"
      },
      "source": [
        "keyword = [vocab[idx] for idx in reversed(sorted_tfidf[-10:])]\n",
        "keyword"
      ],
      "execution_count": 94,
      "outputs": [
        {
          "output_type": "execute_result",
          "data": {
            "text/plain": [
              "['preman',\n",
              " 'pedagang',\n",
              " 'memberantas preman',\n",
              " 'pedagang kaki',\n",
              " 'potmas',\n",
              " 'uang',\n",
              " \"'' pedagang\",\n",
              " 'jalan trunojoyo',\n",
              " 'uang jalan',\n",
              " 'trunojoyo']"
            ]
          },
          "metadata": {
            "tags": []
          },
          "execution_count": 94
        }
      ]
    },
    {
      "cell_type": "code",
      "metadata": {
        "id": "6s8_iAQZlzPJ"
      },
      "source": [
        "#dibungkus biar enak dipakai:\n",
        "\n",
        "def extract_keyword_tfidf(doc, tfidf, topk=10):\n",
        "  matrix = tfidf.transform([doc])\n",
        "  vocab = tfidf.get_feature_names()\n",
        "\n",
        "  sorted_tfidf = matrix[0].toarray()[0].argsort()\n",
        "  return([vocab[idx] for idx in reversed(sorted_tfidf[-topk:])])"
      ],
      "execution_count": 102,
      "outputs": []
    },
    {
      "cell_type": "code",
      "metadata": {
        "colab": {
          "base_uri": "https://localhost:8080/"
        },
        "id": "Gy3BPDK-pS4Z",
        "outputId": "ed4eba8e-8dba-4e17-8952-a111afacd45d"
      },
      "source": [
        "text = datas.teks[1]\n",
        "extract_keyword_tfidf(text, tfidf)"
      ],
      "execution_count": 103,
      "outputs": [
        {
          "output_type": "execute_result",
          "data": {
            "text/plain": [
              "['preman',\n",
              " 'pedagang',\n",
              " 'memberantas preman',\n",
              " 'pedagang kaki',\n",
              " 'potmas',\n",
              " 'uang',\n",
              " \"'' pedagang\",\n",
              " 'jalan trunojoyo',\n",
              " 'uang jalan',\n",
              " 'trunojoyo']"
            ]
          },
          "metadata": {
            "tags": []
          },
          "execution_count": 103
        }
      ]
    },
    {
      "cell_type": "code",
      "metadata": {
        "id": "WSKFlsLdp1-w"
      },
      "source": [
        ""
      ],
      "execution_count": null,
      "outputs": []
    }
  ]
}