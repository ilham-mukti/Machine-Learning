{
  "nbformat": 4,
  "nbformat_minor": 0,
  "metadata": {
    "colab": {
      "name": "0 Workflow Machine Learning.ipynb",
      "provenance": [],
      "collapsed_sections": [],
      "toc_visible": true,
      "authorship_tag": "ABX9TyOUoPH0jdmMhy1gxkAEtlUz",
      "include_colab_link": true
    },
    "kernelspec": {
      "name": "python3",
      "display_name": "Python 3"
    },
    "language_info": {
      "name": "python"
    }
  },
  "cells": [
    {
      "cell_type": "markdown",
      "metadata": {
        "id": "view-in-github",
        "colab_type": "text"
      },
      "source": [
        "<a href=\"https://colab.research.google.com/github/ilham-mukti/Machine-Learning/blob/main/0_Workflow_Machine_Learning.ipynb\" target=\"_parent\"><img src=\"https://colab.research.google.com/assets/colab-badge.svg\" alt=\"Open In Colab\"/></a>"
      ]
    },
    {
      "cell_type": "code",
      "metadata": {
        "id": "bnDveUhVY2r1"
      },
      "source": [
        "!pip install jcopml"
      ],
      "execution_count": null,
      "outputs": []
    },
    {
      "cell_type": "code",
      "metadata": {
        "id": "x_ShuG8XCuPt"
      },
      "source": [
        "from sklearn.model_selection import train_test_split\n",
        "from sklearn.impute import SimpleImputer\n",
        "from sklearn.preprocessing import MinMaxScaler, OneHotEncoder, StandardScaler\n",
        "\n",
        "from sklearn.pipeline import Pipeline\n",
        "from sklearn.compose import ColumnTransformer\n",
        "from sklearn.model_selection import GridSearchCV, RandomizedSearchCV\n",
        "from sklearn.metrics import confusion_matrix\n",
        "\n",
        "from sklearn.svm import SVR, SVC\n",
        "from sklearn.linear_model import LinearRegression\n",
        "from sklearn.tree import DecisionTreeRegressor\n",
        "from sklearn.ensemble import RandomForestRegressor, RandomForestClassifier\n",
        "from sklearn.neighbors import KNeighborsRegressor\n",
        "\n",
        "from skopt import BayesSearchCV\n",
        "from xgboost import XGBRegressor, XGBClassifier\n",
        "\n",
        "import pandas as pd\n",
        "import numpy as np\n",
        "import seaborn as sns\n",
        "import matplotlib.pyplot as plt\n",
        "\n",
        "from jcopml.pipeline import num_pipe, cat_pipe\n",
        "from jcopml.tuning import grid_search_params as gsp, random_search_params as rsp\n",
        "from jcopml.feature_importance import mean_score_decrease, mean_loss_decrease\n",
        "from jcopml.plot import plot_missing_value, plot_confusion_matrix, plot_correlation_matrix\n",
        "from jcopml.tuning.space import Integer, Real\n",
        "\n",
        "sns.set()"
      ],
      "execution_count": 4,
      "outputs": []
    },
    {
      "cell_type": "code",
      "metadata": {
        "id": "5DcSFzFaC0RG"
      },
      "source": [
        "# 1. Siapin data X dan y, jangan di impute dan scaling\n",
        "\n",
        "X_train, X_test, y_train, y_test = train_test_split(X, y, test_size=0.2, stratify=y, random_state=42)\n",
        "X_train.shape, X_test.shape\n",
        "\n",
        "####\n",
        "\n",
        "numerical_pipeline = Pipeline([\n",
        "    ('imputer', SimpleImputer(strategy='mean')),\n",
        "    ('scaler', MinMaxScaler())\n",
        "])\n",
        "\n",
        "categorical_pipeline = Pipeline([\n",
        "    ('imputer', SimpleImputer(strategy='most_frequent')),\n",
        "    ('onehot', OneHotEncoder())\n",
        "])\n",
        "\n",
        "preprocessor = ColumnTransformer([\n",
        "    ('cat_data', categorical_pipeline, ['Location', 'Fuel_Type', 'Transmission', 'Owner_Type']),\n",
        "    ('num_data', numerical_pipeline, ['Year', 'Kilometers_Driven', 'Mileage_kmpl', 'Engine_CC', 'Power_bhp', 'Seats'])\n",
        "])\n",
        "pipeline = Pipeline([\n",
        "    ('prep', preprocessor),\n",
        "    ('algo', SVC())\n",
        "])\n",
        "\n",
        "####\n",
        "\n",
        "param = {\n",
        "    'algo__kernel': ['poly', 'rbf'],\n",
        "    'algo__random_state': np.arange(0, 2),\n",
        "    'algo__C': [7.00],\n",
        "    'algo__gamma': ['scale', 'auto']\n",
        "}\n",
        "\n",
        "model = GridSearchCV(pipeline, param_grid=param, cv=3)\n",
        "model.fit(X_train, y_train)\n",
        "model.best_params_\n",
        "\n",
        "###\n",
        "model.score(X_train, y_train), model.score(X_test, y_test)\n",
        "\n",
        "\n",
        "### Evaluation\n",
        "coba = pd.DataFrame(X_test, columns=X.columns)\n",
        "y_predict = model.predict(coba)\n",
        "\n",
        "cm = confusion_matrix(y_test, y_predict)\n",
        "sns.heatmap(cm, annot=True)\n",
        "\n",
        "\n",
        "### Predict\n",
        "data = ([16, 1],\n",
        "       [47, 1])\n",
        "\n",
        "coba = pd.DataFrame(data, index=['coba1', 'coba2'], columns=X.columns)\n",
        "y_predict = model.predict(coba)\n",
        "y_predict\n"
      ],
      "execution_count": null,
      "outputs": []
    },
    {
      "cell_type": "code",
      "metadata": {
        "id": "UZu8kp57YuZJ"
      },
      "source": [
        "preprocessor = ColumnTransformer([\n",
        "    ('cat_data', cat_pipe(impute='most_frequent', encoder='onehot'), ['Location', 'Fuel_Type', 'Transmission', 'Owner_Type']),\n",
        "    ('num_data', num_pipe(impute='median', scaling='minmax', transform='yeo-johnson', poly=2), ['Year', 'Kilometers_Driven', 'Mileage_kmpl', 'Engine_CC', 'Power_bhp', 'Seats'])\n",
        "])"
      ],
      "execution_count": null,
      "outputs": []
    }
  ]
}