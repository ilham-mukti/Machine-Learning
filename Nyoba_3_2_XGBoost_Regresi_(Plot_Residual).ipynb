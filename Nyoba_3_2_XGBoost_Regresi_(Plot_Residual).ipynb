{
  "nbformat": 4,
  "nbformat_minor": 0,
  "metadata": {
    "colab": {
      "name": "Nyoba 3 -2 XGBoost Regresi (Plot Residual).ipynb",
      "provenance": [],
      "collapsed_sections": [],
      "authorship_tag": "ABX9TyNVpd79wMdWBgCYsgJXR6Ou",
      "include_colab_link": true
    },
    "kernelspec": {
      "name": "python3",
      "display_name": "Python 3"
    },
    "language_info": {
      "name": "python"
    },
    "widgets": {
      "application/vnd.jupyter.widget-state+json": {
        "81a43b9110e146aba87dcdfd4fc93984": {
          "model_module": "@jupyter-widgets/controls",
          "model_name": "VBoxModel",
          "state": {
            "_view_name": "VBoxView",
            "_dom_classes": [
              "widget-interact"
            ],
            "_model_name": "VBoxModel",
            "_view_module": "@jupyter-widgets/controls",
            "_model_module_version": "1.5.0",
            "_view_count": null,
            "_view_module_version": "1.5.0",
            "box_style": "",
            "layout": "IPY_MODEL_4227726943ee4d9682fd986d79fdd912",
            "_model_module": "@jupyter-widgets/controls",
            "children": [
              "IPY_MODEL_c8a64dd3e05644b2a84f075c0fce8b8f",
              "IPY_MODEL_1264ecb7f492441583c178e301889497"
            ]
          }
        },
        "4227726943ee4d9682fd986d79fdd912": {
          "model_module": "@jupyter-widgets/base",
          "model_name": "LayoutModel",
          "state": {
            "_view_name": "LayoutView",
            "grid_template_rows": null,
            "right": null,
            "justify_content": null,
            "_view_module": "@jupyter-widgets/base",
            "overflow": null,
            "_model_module_version": "1.2.0",
            "_view_count": null,
            "flex_flow": null,
            "width": null,
            "min_width": null,
            "border": null,
            "align_items": null,
            "bottom": null,
            "_model_module": "@jupyter-widgets/base",
            "top": null,
            "grid_column": null,
            "overflow_y": null,
            "overflow_x": null,
            "grid_auto_flow": null,
            "grid_area": null,
            "grid_template_columns": null,
            "flex": null,
            "_model_name": "LayoutModel",
            "justify_items": null,
            "grid_row": null,
            "max_height": null,
            "align_content": null,
            "visibility": null,
            "align_self": null,
            "height": null,
            "min_height": null,
            "padding": null,
            "grid_auto_rows": null,
            "grid_gap": null,
            "max_width": null,
            "order": null,
            "_view_module_version": "1.2.0",
            "grid_template_areas": null,
            "object_position": null,
            "object_fit": null,
            "grid_auto_columns": null,
            "margin": null,
            "display": null,
            "left": null
          }
        },
        "c8a64dd3e05644b2a84f075c0fce8b8f": {
          "model_module": "@jupyter-widgets/controls",
          "model_name": "ToggleButtonsModel",
          "state": {
            "_options_labels": [
              "spearman",
              "kendall",
              "pearson",
              "pearson_norm"
            ],
            "_view_name": "ToggleButtonsView",
            "style": "IPY_MODEL_7b8a456bdb7e4c07aac2c6a09fe47e8a",
            "_dom_classes": [],
            "description": "method",
            "_model_name": "ToggleButtonsModel",
            "tooltips": [],
            "index": 0,
            "button_style": "",
            "_view_module": "@jupyter-widgets/controls",
            "_model_module_version": "1.5.0",
            "_view_count": null,
            "disabled": false,
            "_view_module_version": "1.5.0",
            "icons": [],
            "description_tooltip": null,
            "_model_module": "@jupyter-widgets/controls",
            "layout": "IPY_MODEL_e5043fec5c5a4bada7c153b3fb9de158"
          }
        },
        "1264ecb7f492441583c178e301889497": {
          "model_module": "@jupyter-widgets/output",
          "model_name": "OutputModel",
          "state": {
            "_view_name": "OutputView",
            "msg_id": "",
            "_dom_classes": [],
            "_model_name": "OutputModel",
            "outputs": [
              {
                "output_type": "display_data",
                "metadata": {
                  "tags": []
                },
                "application/vnd.jupyter.widget-view+json": {
                  "model_id": "1c6e31dcd2564a0e9ffada6fea959e7b",
                  "version_minor": 0,
                  "version_major": 2
                },
                "text/plain": "interactive(children=(FloatSlider(value=0.0, description='threshold', max=1.0), Output()), _dom_classes=('widg…"
              }
            ],
            "_view_module": "@jupyter-widgets/output",
            "_model_module_version": "1.0.0",
            "_view_count": null,
            "_view_module_version": "1.0.0",
            "layout": "IPY_MODEL_4505fa0dad6348f7902bb9262c3f7981",
            "_model_module": "@jupyter-widgets/output"
          }
        },
        "7b8a456bdb7e4c07aac2c6a09fe47e8a": {
          "model_module": "@jupyter-widgets/controls",
          "model_name": "ToggleButtonsStyleModel",
          "state": {
            "_view_name": "StyleView",
            "button_width": "",
            "_model_name": "ToggleButtonsStyleModel",
            "description_width": "",
            "_view_module": "@jupyter-widgets/base",
            "_model_module_version": "1.5.0",
            "_view_count": null,
            "font_weight": "",
            "_view_module_version": "1.2.0",
            "_model_module": "@jupyter-widgets/controls"
          }
        },
        "e5043fec5c5a4bada7c153b3fb9de158": {
          "model_module": "@jupyter-widgets/base",
          "model_name": "LayoutModel",
          "state": {
            "_view_name": "LayoutView",
            "grid_template_rows": null,
            "right": null,
            "justify_content": null,
            "_view_module": "@jupyter-widgets/base",
            "overflow": null,
            "_model_module_version": "1.2.0",
            "_view_count": null,
            "flex_flow": null,
            "width": null,
            "min_width": null,
            "border": null,
            "align_items": null,
            "bottom": null,
            "_model_module": "@jupyter-widgets/base",
            "top": null,
            "grid_column": null,
            "overflow_y": null,
            "overflow_x": null,
            "grid_auto_flow": null,
            "grid_area": null,
            "grid_template_columns": null,
            "flex": null,
            "_model_name": "LayoutModel",
            "justify_items": null,
            "grid_row": null,
            "max_height": null,
            "align_content": null,
            "visibility": null,
            "align_self": null,
            "height": null,
            "min_height": null,
            "padding": null,
            "grid_auto_rows": null,
            "grid_gap": null,
            "max_width": null,
            "order": null,
            "_view_module_version": "1.2.0",
            "grid_template_areas": null,
            "object_position": null,
            "object_fit": null,
            "grid_auto_columns": null,
            "margin": null,
            "display": null,
            "left": null
          }
        },
        "1c6e31dcd2564a0e9ffada6fea959e7b": {
          "model_module": "@jupyter-widgets/controls",
          "model_name": "VBoxModel",
          "state": {
            "_view_name": "VBoxView",
            "_dom_classes": [
              "widget-interact"
            ],
            "_model_name": "VBoxModel",
            "_view_module": "@jupyter-widgets/controls",
            "_model_module_version": "1.5.0",
            "_view_count": null,
            "_view_module_version": "1.5.0",
            "box_style": "",
            "layout": "IPY_MODEL_8609e733346a48bc887fbe4357898267",
            "_model_module": "@jupyter-widgets/controls",
            "children": [
              "IPY_MODEL_6fe281ac18c64012be7d1c4e3b74d071",
              "IPY_MODEL_c572465f4df3473e94ba39cac2b063df"
            ]
          }
        },
        "4505fa0dad6348f7902bb9262c3f7981": {
          "model_module": "@jupyter-widgets/base",
          "model_name": "LayoutModel",
          "state": {
            "_view_name": "LayoutView",
            "grid_template_rows": null,
            "right": null,
            "justify_content": null,
            "_view_module": "@jupyter-widgets/base",
            "overflow": null,
            "_model_module_version": "1.2.0",
            "_view_count": null,
            "flex_flow": null,
            "width": null,
            "min_width": null,
            "border": null,
            "align_items": null,
            "bottom": null,
            "_model_module": "@jupyter-widgets/base",
            "top": null,
            "grid_column": null,
            "overflow_y": null,
            "overflow_x": null,
            "grid_auto_flow": null,
            "grid_area": null,
            "grid_template_columns": null,
            "flex": null,
            "_model_name": "LayoutModel",
            "justify_items": null,
            "grid_row": null,
            "max_height": null,
            "align_content": null,
            "visibility": null,
            "align_self": null,
            "height": null,
            "min_height": null,
            "padding": null,
            "grid_auto_rows": null,
            "grid_gap": null,
            "max_width": null,
            "order": null,
            "_view_module_version": "1.2.0",
            "grid_template_areas": null,
            "object_position": null,
            "object_fit": null,
            "grid_auto_columns": null,
            "margin": null,
            "display": null,
            "left": null
          }
        },
        "8609e733346a48bc887fbe4357898267": {
          "model_module": "@jupyter-widgets/base",
          "model_name": "LayoutModel",
          "state": {
            "_view_name": "LayoutView",
            "grid_template_rows": null,
            "right": null,
            "justify_content": null,
            "_view_module": "@jupyter-widgets/base",
            "overflow": null,
            "_model_module_version": "1.2.0",
            "_view_count": null,
            "flex_flow": null,
            "width": null,
            "min_width": null,
            "border": null,
            "align_items": null,
            "bottom": null,
            "_model_module": "@jupyter-widgets/base",
            "top": null,
            "grid_column": null,
            "overflow_y": null,
            "overflow_x": null,
            "grid_auto_flow": null,
            "grid_area": null,
            "grid_template_columns": null,
            "flex": null,
            "_model_name": "LayoutModel",
            "justify_items": null,
            "grid_row": null,
            "max_height": null,
            "align_content": null,
            "visibility": null,
            "align_self": null,
            "height": null,
            "min_height": null,
            "padding": null,
            "grid_auto_rows": null,
            "grid_gap": null,
            "max_width": null,
            "order": null,
            "_view_module_version": "1.2.0",
            "grid_template_areas": null,
            "object_position": null,
            "object_fit": null,
            "grid_auto_columns": null,
            "margin": null,
            "display": null,
            "left": null
          }
        },
        "6fe281ac18c64012be7d1c4e3b74d071": {
          "model_module": "@jupyter-widgets/controls",
          "model_name": "FloatSliderModel",
          "state": {
            "_view_name": "FloatSliderView",
            "style": "IPY_MODEL_df5a0a3d15c942a9a843870c589c3983",
            "_dom_classes": [],
            "description": "threshold",
            "step": 0.1,
            "_model_name": "FloatSliderModel",
            "orientation": "horizontal",
            "max": 1,
            "_view_module": "@jupyter-widgets/controls",
            "_model_module_version": "1.5.0",
            "value": 0.2,
            "_view_count": null,
            "disabled": false,
            "_view_module_version": "1.5.0",
            "min": 0,
            "continuous_update": true,
            "readout_format": ".2f",
            "description_tooltip": null,
            "readout": true,
            "_model_module": "@jupyter-widgets/controls",
            "layout": "IPY_MODEL_18898888120c475db79bf1a6ae8e816a"
          }
        },
        "c572465f4df3473e94ba39cac2b063df": {
          "model_module": "@jupyter-widgets/output",
          "model_name": "OutputModel",
          "state": {
            "_view_name": "OutputView",
            "msg_id": "",
            "_dom_classes": [],
            "_model_name": "OutputModel",
            "outputs": [
              {
                "output_type": "display_data",
                "metadata": {
                  "tags": []
                },
                "image/png": "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\n",
                "text/plain": "<Figure size 1080x504 with 2 Axes>"
              }
            ],
            "_view_module": "@jupyter-widgets/output",
            "_model_module_version": "1.0.0",
            "_view_count": null,
            "_view_module_version": "1.0.0",
            "layout": "IPY_MODEL_665d6a590cbb498285b3f7c0c8a1344b",
            "_model_module": "@jupyter-widgets/output"
          }
        },
        "df5a0a3d15c942a9a843870c589c3983": {
          "model_module": "@jupyter-widgets/controls",
          "model_name": "SliderStyleModel",
          "state": {
            "_view_name": "StyleView",
            "handle_color": null,
            "_model_name": "SliderStyleModel",
            "description_width": "",
            "_view_module": "@jupyter-widgets/base",
            "_model_module_version": "1.5.0",
            "_view_count": null,
            "_view_module_version": "1.2.0",
            "_model_module": "@jupyter-widgets/controls"
          }
        },
        "18898888120c475db79bf1a6ae8e816a": {
          "model_module": "@jupyter-widgets/base",
          "model_name": "LayoutModel",
          "state": {
            "_view_name": "LayoutView",
            "grid_template_rows": null,
            "right": null,
            "justify_content": null,
            "_view_module": "@jupyter-widgets/base",
            "overflow": null,
            "_model_module_version": "1.2.0",
            "_view_count": null,
            "flex_flow": null,
            "width": null,
            "min_width": null,
            "border": null,
            "align_items": null,
            "bottom": null,
            "_model_module": "@jupyter-widgets/base",
            "top": null,
            "grid_column": null,
            "overflow_y": null,
            "overflow_x": null,
            "grid_auto_flow": null,
            "grid_area": null,
            "grid_template_columns": null,
            "flex": null,
            "_model_name": "LayoutModel",
            "justify_items": null,
            "grid_row": null,
            "max_height": null,
            "align_content": null,
            "visibility": null,
            "align_self": null,
            "height": null,
            "min_height": null,
            "padding": null,
            "grid_auto_rows": null,
            "grid_gap": null,
            "max_width": null,
            "order": null,
            "_view_module_version": "1.2.0",
            "grid_template_areas": null,
            "object_position": null,
            "object_fit": null,
            "grid_auto_columns": null,
            "margin": null,
            "display": null,
            "left": null
          }
        },
        "665d6a590cbb498285b3f7c0c8a1344b": {
          "model_module": "@jupyter-widgets/base",
          "model_name": "LayoutModel",
          "state": {
            "_view_name": "LayoutView",
            "grid_template_rows": null,
            "right": null,
            "justify_content": null,
            "_view_module": "@jupyter-widgets/base",
            "overflow": null,
            "_model_module_version": "1.2.0",
            "_view_count": null,
            "flex_flow": null,
            "width": null,
            "min_width": null,
            "border": null,
            "align_items": null,
            "bottom": null,
            "_model_module": "@jupyter-widgets/base",
            "top": null,
            "grid_column": null,
            "overflow_y": null,
            "overflow_x": null,
            "grid_auto_flow": null,
            "grid_area": null,
            "grid_template_columns": null,
            "flex": null,
            "_model_name": "LayoutModel",
            "justify_items": null,
            "grid_row": null,
            "max_height": null,
            "align_content": null,
            "visibility": null,
            "align_self": null,
            "height": null,
            "min_height": null,
            "padding": null,
            "grid_auto_rows": null,
            "grid_gap": null,
            "max_width": null,
            "order": null,
            "_view_module_version": "1.2.0",
            "grid_template_areas": null,
            "object_position": null,
            "object_fit": null,
            "grid_auto_columns": null,
            "margin": null,
            "display": null,
            "left": null
          }
        }
      }
    }
  },
  "cells": [
    {
      "cell_type": "markdown",
      "metadata": {
        "id": "view-in-github",
        "colab_type": "text"
      },
      "source": [
        "<a href=\"https://colab.research.google.com/github/ilham-mukti/Machine-Learning/blob/main/Nyoba_3_2_XGBoost_Regresi_(Plot_Residual).ipynb\" target=\"_parent\"><img src=\"https://colab.research.google.com/assets/colab-badge.svg\" alt=\"Open In Colab\"/></a>"
      ]
    },
    {
      "cell_type": "code",
      "metadata": {
        "id": "8vArLqn2dIrf"
      },
      "source": [
        "!pip install jcopml"
      ],
      "execution_count": null,
      "outputs": []
    },
    {
      "cell_type": "code",
      "metadata": {
        "id": "Nb6erE8HdMN_"
      },
      "source": [
        "from sklearn.model_selection import train_test_split\n",
        "from sklearn.impute import SimpleImputer\n",
        "\n",
        "from sklearn.pipeline import Pipeline\n",
        "from sklearn.compose import ColumnTransformer\n",
        "from sklearn.model_selection import GridSearchCV, RandomizedSearchCV\n",
        "from sklearn.metrics import confusion_matrix\n",
        "from sklearn.preprocessing import PolynomialFeatures\n",
        "\n",
        "from skopt import BayesSearchCV\n",
        "from xgboost import XGBRegressor, XGBClassifier\n",
        "\n",
        "import pandas as pd\n",
        "import numpy as np\n",
        "import seaborn as sns\n",
        "import matplotlib.pyplot as plt\n",
        "\n",
        "from jcopml.pipeline import num_pipe, cat_pipe\n",
        "from jcopml.tuning import grid_search_params as gsp, random_search_params as rsp, bayes_search_params as bsp\n",
        "from jcopml.feature_importance import mean_score_decrease, mean_loss_decrease\n",
        "from jcopml.plot import plot_missing_value, plot_confusion_matrix, plot_correlation_matrix, plot_actual_vs_prediction, plot_residual\n",
        "from jcopml.tuning.space import Integer, Real\n",
        "\n",
        "sns.set()"
      ],
      "execution_count": 2,
      "outputs": []
    },
    {
      "cell_type": "code",
      "metadata": {
        "colab": {
          "base_uri": "https://localhost:8080/",
          "height": 204
        },
        "id": "bgH_MWuIdT44",
        "outputId": "0e7c7147-a20a-4b18-fbca-6dc8515a4427"
      },
      "source": [
        "datas = pd.read_csv(\"/content/taxi_fare.csv\", parse_dates=['pickup_datetime'])\n",
        "datas.head()"
      ],
      "execution_count": 43,
      "outputs": [
        {
          "output_type": "execute_result",
          "data": {
            "text/html": [
              "<div>\n",
              "<style scoped>\n",
              "    .dataframe tbody tr th:only-of-type {\n",
              "        vertical-align: middle;\n",
              "    }\n",
              "\n",
              "    .dataframe tbody tr th {\n",
              "        vertical-align: top;\n",
              "    }\n",
              "\n",
              "    .dataframe thead th {\n",
              "        text-align: right;\n",
              "    }\n",
              "</style>\n",
              "<table border=\"1\" class=\"dataframe\">\n",
              "  <thead>\n",
              "    <tr style=\"text-align: right;\">\n",
              "      <th></th>\n",
              "      <th>fare_amount</th>\n",
              "      <th>pickup_datetime</th>\n",
              "      <th>pickup_longitude</th>\n",
              "      <th>pickup_latitude</th>\n",
              "      <th>dropoff_longitude</th>\n",
              "      <th>dropoff_latitude</th>\n",
              "      <th>passenger_count</th>\n",
              "    </tr>\n",
              "  </thead>\n",
              "  <tbody>\n",
              "    <tr>\n",
              "      <th>0</th>\n",
              "      <td>4.5</td>\n",
              "      <td>2009-06-15 17:26:21</td>\n",
              "      <td>-73.844311</td>\n",
              "      <td>40.721319</td>\n",
              "      <td>-73.841610</td>\n",
              "      <td>40.712278</td>\n",
              "      <td>1.0</td>\n",
              "    </tr>\n",
              "    <tr>\n",
              "      <th>1</th>\n",
              "      <td>16.9</td>\n",
              "      <td>2010-01-05 16:52:16</td>\n",
              "      <td>-74.016048</td>\n",
              "      <td>40.711303</td>\n",
              "      <td>-73.979268</td>\n",
              "      <td>40.782004</td>\n",
              "      <td>1.0</td>\n",
              "    </tr>\n",
              "    <tr>\n",
              "      <th>2</th>\n",
              "      <td>5.7</td>\n",
              "      <td>2011-08-18 00:35:00</td>\n",
              "      <td>-73.982738</td>\n",
              "      <td>40.761270</td>\n",
              "      <td>-73.991242</td>\n",
              "      <td>40.750562</td>\n",
              "      <td>2.0</td>\n",
              "    </tr>\n",
              "    <tr>\n",
              "      <th>3</th>\n",
              "      <td>7.7</td>\n",
              "      <td>2012-04-21 04:30:42</td>\n",
              "      <td>-73.987130</td>\n",
              "      <td>40.733143</td>\n",
              "      <td>-73.991567</td>\n",
              "      <td>40.758092</td>\n",
              "      <td>1.0</td>\n",
              "    </tr>\n",
              "    <tr>\n",
              "      <th>4</th>\n",
              "      <td>5.3</td>\n",
              "      <td>2010-03-09 07:51:00</td>\n",
              "      <td>-73.968095</td>\n",
              "      <td>40.768008</td>\n",
              "      <td>-73.956655</td>\n",
              "      <td>40.783762</td>\n",
              "      <td>1.0</td>\n",
              "    </tr>\n",
              "  </tbody>\n",
              "</table>\n",
              "</div>"
            ],
            "text/plain": [
              "   fare_amount     pickup_datetime  ...  dropoff_latitude  passenger_count\n",
              "0          4.5 2009-06-15 17:26:21  ...         40.712278              1.0\n",
              "1         16.9 2010-01-05 16:52:16  ...         40.782004              1.0\n",
              "2          5.7 2011-08-18 00:35:00  ...         40.750562              2.0\n",
              "3          7.7 2012-04-21 04:30:42  ...         40.758092              1.0\n",
              "4          5.3 2010-03-09 07:51:00  ...         40.783762              1.0\n",
              "\n",
              "[5 rows x 7 columns]"
            ]
          },
          "metadata": {
            "tags": []
          },
          "execution_count": 43
        }
      ]
    },
    {
      "cell_type": "code",
      "metadata": {
        "colab": {
          "base_uri": "https://localhost:8080/"
        },
        "id": "0Oetz5vedcz5",
        "outputId": "855be657-2b7a-4980-8ad5-2bee9ad9d456"
      },
      "source": [
        "datas.isna().sum()"
      ],
      "execution_count": 44,
      "outputs": [
        {
          "output_type": "execute_result",
          "data": {
            "text/plain": [
              "fare_amount          0\n",
              "pickup_datetime      0\n",
              "pickup_longitude     0\n",
              "pickup_latitude      0\n",
              "dropoff_longitude    0\n",
              "dropoff_latitude     0\n",
              "passenger_count      1\n",
              "dtype: int64"
            ]
          },
          "metadata": {
            "tags": []
          },
          "execution_count": 44
        }
      ]
    },
    {
      "cell_type": "code",
      "metadata": {
        "id": "vlIl1VRAdzZm"
      },
      "source": [
        "datas.dropna(inplace=True)"
      ],
      "execution_count": 45,
      "outputs": []
    },
    {
      "cell_type": "code",
      "metadata": {
        "id": "bBL2zhy0d3i7"
      },
      "source": [
        "pickup_dt = datas.pickup_datetime.dt"
      ],
      "execution_count": 46,
      "outputs": []
    },
    {
      "cell_type": "code",
      "metadata": {
        "id": "7nShm0vVd4fE"
      },
      "source": [
        "datas['year'] = pickup_dt.year\n",
        "datas['month'] = pickup_dt.month\n",
        "datas['day'] = pickup_dt.dayofweek\n",
        "datas['hour'] = pickup_dt.hour\n",
        "datas.drop(columns='pickup_datetime', inplace=True)"
      ],
      "execution_count": 47,
      "outputs": []
    },
    {
      "cell_type": "code",
      "metadata": {
        "id": "q10aocSOeYHy"
      },
      "source": [
        "datas['distance'] = np.abs(datas.pickup_longitude - datas.dropoff_longitude) + np.abs(datas.pickup_latitude - datas.dropoff_latitude)\n",
        "datas.drop(columns=['pickup_longitude', 'dropoff_longitude', 'pickup_latitude', 'dropoff_latitude'], inplace=True)"
      ],
      "execution_count": 48,
      "outputs": []
    },
    {
      "cell_type": "code",
      "metadata": {
        "colab": {
          "base_uri": "https://localhost:8080/",
          "height": 204
        },
        "id": "9BwS3_DufBcL",
        "outputId": "65e30557-ecdb-499f-cc80-f1e06ae7db10"
      },
      "source": [
        "datas.head()"
      ],
      "execution_count": 49,
      "outputs": [
        {
          "output_type": "execute_result",
          "data": {
            "text/html": [
              "<div>\n",
              "<style scoped>\n",
              "    .dataframe tbody tr th:only-of-type {\n",
              "        vertical-align: middle;\n",
              "    }\n",
              "\n",
              "    .dataframe tbody tr th {\n",
              "        vertical-align: top;\n",
              "    }\n",
              "\n",
              "    .dataframe thead th {\n",
              "        text-align: right;\n",
              "    }\n",
              "</style>\n",
              "<table border=\"1\" class=\"dataframe\">\n",
              "  <thead>\n",
              "    <tr style=\"text-align: right;\">\n",
              "      <th></th>\n",
              "      <th>fare_amount</th>\n",
              "      <th>passenger_count</th>\n",
              "      <th>year</th>\n",
              "      <th>month</th>\n",
              "      <th>day</th>\n",
              "      <th>hour</th>\n",
              "      <th>distance</th>\n",
              "    </tr>\n",
              "  </thead>\n",
              "  <tbody>\n",
              "    <tr>\n",
              "      <th>0</th>\n",
              "      <td>4.5</td>\n",
              "      <td>1.0</td>\n",
              "      <td>2009</td>\n",
              "      <td>6</td>\n",
              "      <td>0</td>\n",
              "      <td>17</td>\n",
              "      <td>0.011742</td>\n",
              "    </tr>\n",
              "    <tr>\n",
              "      <th>1</th>\n",
              "      <td>16.9</td>\n",
              "      <td>1.0</td>\n",
              "      <td>2010</td>\n",
              "      <td>1</td>\n",
              "      <td>1</td>\n",
              "      <td>16</td>\n",
              "      <td>0.107481</td>\n",
              "    </tr>\n",
              "    <tr>\n",
              "      <th>2</th>\n",
              "      <td>5.7</td>\n",
              "      <td>2.0</td>\n",
              "      <td>2011</td>\n",
              "      <td>8</td>\n",
              "      <td>3</td>\n",
              "      <td>0</td>\n",
              "      <td>0.019212</td>\n",
              "    </tr>\n",
              "    <tr>\n",
              "      <th>3</th>\n",
              "      <td>7.7</td>\n",
              "      <td>1.0</td>\n",
              "      <td>2012</td>\n",
              "      <td>4</td>\n",
              "      <td>5</td>\n",
              "      <td>4</td>\n",
              "      <td>0.029386</td>\n",
              "    </tr>\n",
              "    <tr>\n",
              "      <th>4</th>\n",
              "      <td>5.3</td>\n",
              "      <td>1.0</td>\n",
              "      <td>2010</td>\n",
              "      <td>3</td>\n",
              "      <td>1</td>\n",
              "      <td>7</td>\n",
              "      <td>0.027194</td>\n",
              "    </tr>\n",
              "  </tbody>\n",
              "</table>\n",
              "</div>"
            ],
            "text/plain": [
              "   fare_amount  passenger_count  year  month  day  hour  distance\n",
              "0          4.5              1.0  2009      6    0    17  0.011742\n",
              "1         16.9              1.0  2010      1    1    16  0.107481\n",
              "2          5.7              2.0  2011      8    3     0  0.019212\n",
              "3          7.7              1.0  2012      4    5     4  0.029386\n",
              "4          5.3              1.0  2010      3    1     7  0.027194"
            ]
          },
          "metadata": {
            "tags": []
          },
          "execution_count": 49
        }
      ]
    },
    {
      "cell_type": "code",
      "metadata": {
        "id": "4Sa3RR4psDbl"
      },
      "source": [
        "datas = datas[(datas.distance > 0) & (datas.fare_amount > 0)]"
      ],
      "execution_count": 50,
      "outputs": []
    },
    {
      "cell_type": "code",
      "metadata": {
        "colab": {
          "base_uri": "https://localhost:8080/"
        },
        "id": "9vyVdZ_tfCMX",
        "outputId": "8a149e25-1652-4588-a189-91608cb9729d"
      },
      "source": [
        "X = datas.drop(columns='fare_amount')\n",
        "y = datas.fare_amount\n",
        "\n",
        "X_train, X_test, y_train, y_test = train_test_split(X, y, test_size=0.2, random_state=42)\n",
        "X_train.shape, X_test.shape"
      ],
      "execution_count": 51,
      "outputs": [
        {
          "output_type": "execute_result",
          "data": {
            "text/plain": [
              "((14705, 6), (3677, 6))"
            ]
          },
          "metadata": {
            "tags": []
          },
          "execution_count": 51
        }
      ]
    },
    {
      "cell_type": "code",
      "metadata": {
        "colab": {
          "base_uri": "https://localhost:8080/"
        },
        "id": "7VcLel_stI9f",
        "outputId": "2b54e68b-572d-4979-be3b-e92918307087"
      },
      "source": [
        "rsp.xgb_poly_params"
      ],
      "execution_count": 36,
      "outputs": [
        {
          "output_type": "execute_result",
          "data": {
            "text/plain": [
              "{'algo__colsample_bytree': Real(low=0.1, high=1, prior='uniform'),\n",
              " 'algo__gamma': Integer(low=1, high=10),\n",
              " 'algo__learning_rate': Real(low=-2, high=0, prior='log-uniform'),\n",
              " 'algo__max_depth': Integer(low=1, high=10),\n",
              " 'algo__n_estimators': Integer(low=100, high=200),\n",
              " 'algo__reg_alpha': Real(low=-3, high=1, prior='log-uniform'),\n",
              " 'algo__reg_lambda': Real(low=-3, high=1, prior='log-uniform'),\n",
              " 'algo__subsample': Real(low=0.3, high=0.8, prior='uniform'),\n",
              " 'prep__numeric__poly__degree': Integer(low=1, high=3),\n",
              " 'prep__numeric__poly__interaction_only': [True, False]}"
            ]
          },
          "metadata": {
            "tags": []
          },
          "execution_count": 36
        }
      ]
    },
    {
      "cell_type": "code",
      "metadata": {
        "colab": {
          "base_uri": "https://localhost:8080/"
        },
        "id": "qLXagm5jfbib",
        "outputId": "b39f792c-1fb3-4d4f-ade7-f48eb9fad3e6"
      },
      "source": [
        "preprocessor = ColumnTransformer([\n",
        "    ('categoric', cat_pipe(impute='most_frequent', encoder='onehot'), ['month', 'day', 'hour']),\n",
        "    ('numeric', num_pipe(), ['year', 'distance', 'passenger_count'])\n",
        "])\n",
        "pipeline = Pipeline([\n",
        "    ('prep', preprocessor),\n",
        "    ('algo', XGBRegressor(n_jobs=-1, random_state=42))\n",
        "])  \n",
        "\n",
        "model = RandomizedSearchCV(pipeline, rsp.xgb_params, cv=3, n_iter=50, n_jobs=-1, verbose=1, random_state=42)\n",
        "model.fit(X_train, y_train)\n"
      ],
      "execution_count": 37,
      "outputs": [
        {
          "output_type": "stream",
          "text": [
            "Fitting 3 folds for each of 50 candidates, totalling 150 fits\n"
          ],
          "name": "stdout"
        },
        {
          "output_type": "stream",
          "text": [
            "[Parallel(n_jobs=-1)]: Using backend LokyBackend with 2 concurrent workers.\n",
            "[Parallel(n_jobs=-1)]: Done  46 tasks      | elapsed:   34.0s\n",
            "[Parallel(n_jobs=-1)]: Done 150 out of 150 | elapsed:  1.5min finished\n"
          ],
          "name": "stderr"
        },
        {
          "output_type": "stream",
          "text": [
            "[10:24:25] WARNING: /workspace/src/objective/regression_obj.cu:152: reg:linear is now deprecated in favor of reg:squarederror.\n"
          ],
          "name": "stdout"
        },
        {
          "output_type": "execute_result",
          "data": {
            "text/plain": [
              "RandomizedSearchCV(cv=3, error_score=nan,\n",
              "                   estimator=Pipeline(memory=None,\n",
              "                                      steps=[('prep',\n",
              "                                              ColumnTransformer(n_jobs=None,\n",
              "                                                                remainder='drop',\n",
              "                                                                sparse_threshold=0.3,\n",
              "                                                                transformer_weights=None,\n",
              "                                                                transformers=[('categoric',\n",
              "                                                                               Pipeline(memory=None,\n",
              "                                                                                        steps=[('imputer',\n",
              "                                                                                                SimpleImputer(add_indicator=False,\n",
              "                                                                                                              copy=True,\n",
              "                                                                                                              fill_value=None,\n",
              "                                                                                                              missing_values=nan,\n",
              "                                                                                                              strategy='most_frequent',\n",
              "                                                                                                              v...\n",
              "                                        'algo__max_depth': Integer(low=1, high=10),\n",
              "                                        'algo__n_estimators': Integer(low=100, high=200),\n",
              "                                        'algo__reg_alpha': Real(low=-3, high=1, prior='log-uniform'),\n",
              "                                        'algo__reg_lambda': Real(low=-3, high=1, prior='log-uniform'),\n",
              "                                        'algo__subsample': Real(low=0.3, high=0.8, prior='uniform')},\n",
              "                   pre_dispatch='2*n_jobs', random_state=42, refit=True,\n",
              "                   return_train_score=False, scoring=None, verbose=1)"
            ]
          },
          "metadata": {
            "tags": []
          },
          "execution_count": 37
        }
      ]
    },
    {
      "cell_type": "code",
      "metadata": {
        "colab": {
          "base_uri": "https://localhost:8080/"
        },
        "id": "9Zfchi1RfhXj",
        "outputId": "aa1c27b2-136c-4763-dd51-087e3af27b05"
      },
      "source": [
        "model.best_params_, model.score(X_train, y_train), model.score(X_test, y_test)"
      ],
      "execution_count": 38,
      "outputs": [
        {
          "output_type": "execute_result",
          "data": {
            "text/plain": [
              "({'algo__colsample_bytree': 0.6024641082463879,\n",
              "  'algo__gamma': 7,\n",
              "  'algo__learning_rate': 0.04764963542138517,\n",
              "  'algo__max_depth': 3,\n",
              "  'algo__n_estimators': 118,\n",
              "  'algo__reg_alpha': 0.8013508750140631,\n",
              "  'algo__reg_lambda': 3.8765111709116367,\n",
              "  'algo__subsample': 0.7435432121325587},\n",
              " 0.8033380974024986,\n",
              " 0.7920985966296915)"
            ]
          },
          "metadata": {
            "tags": []
          },
          "execution_count": 38
        }
      ]
    },
    {
      "cell_type": "markdown",
      "metadata": {
        "id": "9QSgwCn4whe4"
      },
      "source": [
        "# Feature Importance"
      ]
    },
    {
      "cell_type": "code",
      "metadata": {
        "colab": {
          "base_uri": "https://localhost:8080/",
          "height": 403
        },
        "id": "aYpUltHDk2P0",
        "outputId": "278f35bb-1613-4cea-b133-5b10651d27b0"
      },
      "source": [
        "df_imp = mean_score_decrease(X_train, y_train, model, plot=True, topk=10)"
      ],
      "execution_count": 41,
      "outputs": [
        {
          "output_type": "display_data",
          "data": {
            "image/png": "[encoded data removed]",
            "text/plain": [
              "<Figure size 1080x360 with 1 Axes>"
            ]
          },
          "metadata": {
            "tags": []
          }
        }
      ]
    },
    {
      "cell_type": "markdown",
      "metadata": {
        "id": "0191dydGwk3-"
      },
      "source": [
        "# Evaluation: Plot"
      ]
    },
    {
      "cell_type": "code",
      "metadata": {
        "colab": {
          "base_uri": "https://localhost:8080/",
          "height": 357
        },
        "id": "BxqSm4CZgJUr",
        "outputId": "2fb5afd5-e7b6-4851-ecae-9c27372ac8d6"
      },
      "source": [
        "plot_actual_vs_prediction(X_train, y_train, X_test, y_test, model)"
      ],
      "execution_count": 39,
      "outputs": [
        {
          "output_type": "display_data",
          "data": {
            "image/png": "[encoded data removed]",
            "text/plain": [
              "<Figure size 792x360 with 2 Axes>"
            ]
          },
          "metadata": {
            "tags": []
          }
        }
      ]
    },
    {
      "cell_type": "code",
      "metadata": {
        "colab": {
          "base_uri": "https://localhost:8080/",
          "height": 444
        },
        "id": "QqP3iBVMgZSr",
        "outputId": "db5151d2-ad23-4e33-c0ed-05dacef71f94"
      },
      "source": [
        "plot_residual(X_train, y_train, X_test, y_test, model)"
      ],
      "execution_count": 40,
      "outputs": [
        {
          "output_type": "stream",
          "text": [
            "/usr/local/lib/python3.7/dist-packages/seaborn/_decorators.py:43: FutureWarning: Pass the following variables as keyword args: x, y. From version 0.12, the only valid positional argument will be `data`, and passing other arguments without an explicit keyword will result in an error or misinterpretation.\n",
            "  FutureWarning\n",
            "/usr/local/lib/python3.7/dist-packages/seaborn/_decorators.py:43: FutureWarning: Pass the following variables as keyword args: x, y. From version 0.12, the only valid positional argument will be `data`, and passing other arguments without an explicit keyword will result in an error or misinterpretation.\n",
            "  FutureWarning\n"
          ],
          "name": "stderr"
        },
        {
          "output_type": "display_data",
          "data": {
            "image/png": "[encoded data removed]",
            "text/plain": [
              "<Figure size 1080x360 with 2 Axes>"
            ]
          },
          "metadata": {
            "tags": []
          }
        }
      ]
    },
    {
      "cell_type": "markdown",
      "metadata": {
        "id": "XeU1rKH9wtIX"
      },
      "source": [
        "# Evaluation: Setelah diplot residual, Cari Data yang Errornya paling besar"
      ]
    },
    {
      "cell_type": "code",
      "metadata": {
        "id": "ESUsBc85vLfY",
        "colab": {
          "base_uri": "https://localhost:8080/",
          "height": 359
        },
        "outputId": "dbd52776-47a7-4aef-9c97-c1aafa8ed89c"
      },
      "source": [
        "datas_analisis = X_train.copy()\n",
        "\n",
        "pred = model.predict(X_train)\n",
        "error = np.abs(pred - y_train)\n",
        "\n",
        "datas_analisis['fare'] = y_train\n",
        "datas_analisis['error'] = error\n",
        "datas_analisis.sort_values('error', ascending=False).head(10)"
      ],
      "execution_count": 42,
      "outputs": [
        {
          "output_type": "execute_result",
          "data": {
            "text/html": [
              "<div>\n",
              "<style scoped>\n",
              "    .dataframe tbody tr th:only-of-type {\n",
              "        vertical-align: middle;\n",
              "    }\n",
              "\n",
              "    .dataframe tbody tr th {\n",
              "        vertical-align: top;\n",
              "    }\n",
              "\n",
              "    .dataframe thead th {\n",
              "        text-align: right;\n",
              "    }\n",
              "</style>\n",
              "<table border=\"1\" class=\"dataframe\">\n",
              "  <thead>\n",
              "    <tr style=\"text-align: right;\">\n",
              "      <th></th>\n",
              "      <th>passenger_count</th>\n",
              "      <th>year</th>\n",
              "      <th>month</th>\n",
              "      <th>day</th>\n",
              "      <th>hour</th>\n",
              "      <th>distance</th>\n",
              "      <th>fare</th>\n",
              "      <th>error</th>\n",
              "    </tr>\n",
              "  </thead>\n",
              "  <tbody>\n",
              "    <tr>\n",
              "      <th>1483</th>\n",
              "      <td>1.0</td>\n",
              "      <td>2009</td>\n",
              "      <td>8</td>\n",
              "      <td>4</td>\n",
              "      <td>21</td>\n",
              "      <td>0.000416</td>\n",
              "      <td>165.00</td>\n",
              "      <td>142.087732</td>\n",
              "    </tr>\n",
              "    <tr>\n",
              "      <th>14142</th>\n",
              "      <td>1.0</td>\n",
              "      <td>2014</td>\n",
              "      <td>12</td>\n",
              "      <td>4</td>\n",
              "      <td>10</td>\n",
              "      <td>0.045860</td>\n",
              "      <td>108.00</td>\n",
              "      <td>93.575036</td>\n",
              "    </tr>\n",
              "    <tr>\n",
              "      <th>2432</th>\n",
              "      <td>1.0</td>\n",
              "      <td>2012</td>\n",
              "      <td>11</td>\n",
              "      <td>4</td>\n",
              "      <td>1</td>\n",
              "      <td>0.003817</td>\n",
              "      <td>58.60</td>\n",
              "      <td>52.699322</td>\n",
              "    </tr>\n",
              "    <tr>\n",
              "      <th>5970</th>\n",
              "      <td>1.0</td>\n",
              "      <td>2014</td>\n",
              "      <td>3</td>\n",
              "      <td>3</td>\n",
              "      <td>18</td>\n",
              "      <td>0.003541</td>\n",
              "      <td>57.33</td>\n",
              "      <td>50.639532</td>\n",
              "    </tr>\n",
              "    <tr>\n",
              "      <th>18807</th>\n",
              "      <td>2.0</td>\n",
              "      <td>2013</td>\n",
              "      <td>8</td>\n",
              "      <td>5</td>\n",
              "      <td>2</td>\n",
              "      <td>0.038527</td>\n",
              "      <td>61.25</td>\n",
              "      <td>50.215394</td>\n",
              "    </tr>\n",
              "    <tr>\n",
              "      <th>1494</th>\n",
              "      <td>1.0</td>\n",
              "      <td>2009</td>\n",
              "      <td>9</td>\n",
              "      <td>1</td>\n",
              "      <td>14</td>\n",
              "      <td>0.000031</td>\n",
              "      <td>70.00</td>\n",
              "      <td>47.165365</td>\n",
              "    </tr>\n",
              "    <tr>\n",
              "      <th>13280</th>\n",
              "      <td>1.0</td>\n",
              "      <td>2009</td>\n",
              "      <td>6</td>\n",
              "      <td>0</td>\n",
              "      <td>21</td>\n",
              "      <td>0.029244</td>\n",
              "      <td>55.00</td>\n",
              "      <td>47.016864</td>\n",
              "    </tr>\n",
              "    <tr>\n",
              "      <th>12614</th>\n",
              "      <td>2.0</td>\n",
              "      <td>2011</td>\n",
              "      <td>8</td>\n",
              "      <td>4</td>\n",
              "      <td>7</td>\n",
              "      <td>0.215239</td>\n",
              "      <td>87.00</td>\n",
              "      <td>46.978455</td>\n",
              "    </tr>\n",
              "    <tr>\n",
              "      <th>5078</th>\n",
              "      <td>5.0</td>\n",
              "      <td>2013</td>\n",
              "      <td>1</td>\n",
              "      <td>1</td>\n",
              "      <td>13</td>\n",
              "      <td>0.006011</td>\n",
              "      <td>52.00</td>\n",
              "      <td>46.277633</td>\n",
              "    </tr>\n",
              "    <tr>\n",
              "      <th>676</th>\n",
              "      <td>1.0</td>\n",
              "      <td>2013</td>\n",
              "      <td>4</td>\n",
              "      <td>4</td>\n",
              "      <td>19</td>\n",
              "      <td>0.289328</td>\n",
              "      <td>5.50</td>\n",
              "      <td>45.873226</td>\n",
              "    </tr>\n",
              "  </tbody>\n",
              "</table>\n",
              "</div>"
            ],
            "text/plain": [
              "       passenger_count  year  month  day  hour  distance    fare       error\n",
              "1483               1.0  2009      8    4    21  0.000416  165.00  142.087732\n",
              "14142              1.0  2014     12    4    10  0.045860  108.00   93.575036\n",
              "2432               1.0  2012     11    4     1  0.003817   58.60   52.699322\n",
              "5970               1.0  2014      3    3    18  0.003541   57.33   50.639532\n",
              "18807              2.0  2013      8    5     2  0.038527   61.25   50.215394\n",
              "1494               1.0  2009      9    1    14  0.000031   70.00   47.165365\n",
              "13280              1.0  2009      6    0    21  0.029244   55.00   47.016864\n",
              "12614              2.0  2011      8    4     7  0.215239   87.00   46.978455\n",
              "5078               5.0  2013      1    1    13  0.006011   52.00   46.277633\n",
              "676                1.0  2013      4    4    19  0.289328    5.50   45.873226"
            ]
          },
          "metadata": {
            "tags": []
          },
          "execution_count": 42
        }
      ]
    },
    {
      "cell_type": "markdown",
      "metadata": {
        "id": "1guHbEYhw1IF"
      },
      "source": [
        "# Correlation Matrix"
      ]
    },
    {
      "cell_type": "code",
      "metadata": {
        "colab": {
          "base_uri": "https://localhost:8080/",
          "height": 592,
          "referenced_widgets": [
            "81a43b9110e146aba87dcdfd4fc93984",
            "4227726943ee4d9682fd986d79fdd912",
            "c8a64dd3e05644b2a84f075c0fce8b8f",
            "1264ecb7f492441583c178e301889497",
            "7b8a456bdb7e4c07aac2c6a09fe47e8a",
            "e5043fec5c5a4bada7c153b3fb9de158",
            "1c6e31dcd2564a0e9ffada6fea959e7b",
            "4505fa0dad6348f7902bb9262c3f7981",
            "8609e733346a48bc887fbe4357898267",
            "6fe281ac18c64012be7d1c4e3b74d071",
            "c572465f4df3473e94ba39cac2b063df",
            "df5a0a3d15c942a9a843870c589c3983",
            "18898888120c475db79bf1a6ae8e816a",
            "665d6a590cbb498285b3f7c0c8a1344b"
          ]
        },
        "id": "dioytkcBnBOA",
        "outputId": "5449cef4-c52a-41a2-aa9a-143e17a743b7"
      },
      "source": [
        "plot_correlation_matrix(datas, 'fare_amount', numeric_col=['passenger_count', 'year', 'distance'])"
      ],
      "execution_count": 53,
      "outputs": [
        {
          "output_type": "display_data",
          "data": {
            "application/vnd.jupyter.widget-view+json": {
              "model_id": "81a43b9110e146aba87dcdfd4fc93984",
              "version_minor": 0,
              "version_major": 2
            },
            "text/plain": [
              "interactive(children=(ToggleButtons(description='method', options=('spearman', 'kendall', 'pearson', 'pearson_…"
            ]
          },
          "metadata": {
            "tags": []
          }
        }
      ]
    },
    {
      "cell_type": "code",
      "metadata": {
        "id": "beGVSLNozJvL"
      },
      "source": [
        ""
      ],
      "execution_count": null,
      "outputs": []
    }
  ]
}