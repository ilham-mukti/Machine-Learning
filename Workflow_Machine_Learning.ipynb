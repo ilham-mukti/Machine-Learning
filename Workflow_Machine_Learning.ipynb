{
  "nbformat": 4,
  "nbformat_minor": 0,
  "metadata": {
    "colab": {
      "name": "Workflow Machine Learning.ipynb",
      "provenance": [],
      "authorship_tag": "ABX9TyNs4D+6AgIgerARLqYsRSKW",
      "include_colab_link": true
    },
    "kernelspec": {
      "name": "python3",
      "display_name": "Python 3"
    },
    "language_info": {
      "name": "python"
    }
  },
  "cells": [
    {
      "cell_type": "markdown",
      "metadata": {
        "id": "view-in-github",
        "colab_type": "text"
      },
      "source": [
        "<a href=\"https://colab.research.google.com/github/ilham-mukti/Machine-Learning/blob/main/Workflow_Machine_Learning.ipynb\" target=\"_parent\"><img src=\"https://colab.research.google.com/assets/colab-badge.svg\" alt=\"Open In Colab\"/></a>"
      ]
    },
    {
      "cell_type": "code",
      "metadata": {
        "id": "x_ShuG8XCuPt"
      },
      "source": [
        "from sklearn.model_selection import train_test_split\n",
        "from sklearn.impute import SimpleImputer\n",
        "from sklearn.preprocessing import MinMaxScaler, OneHotEncoder, StandardScaler\n",
        "\n",
        "from sklearn.pipeline import Pipeline\n",
        "from sklearn.compose import ColumnTransformer\n",
        "\n",
        "from sklearn.svm import SVR, SVC\n",
        "from sklearn.linear_model import LinearRegression\n",
        "from sklearn.tree import DecisionTreeRegressor\n",
        "from sklearn.ensemble import RandomForestRegressor\n",
        "from sklearn.neighbors import KNeighborsRegressor\n",
        "from sklearn.model_selection import GridSearchCV\n",
        "from sklearn.model_selection import RandomizedSearchCV\n",
        "from sklearn.metrics import confusion_matrix\n",
        "\n",
        "import pandas as pd\n",
        "import numpy as np\n",
        "import seaborn as sns\n",
        "\n",
        "from jcopml.pipeline import num_pipe, cat_pipe\n",
        "from jcopml.feature_importance import mean_score_decrease\n",
        "from jcopml.plot import plot_missing_value, plot_confusion_matrix, plot_correlation_matrix, plot\n",
        "from jcopml.tuning import grid_search_params as gsp\n",
        "from jcopml.tuning import random_search_params as rsp\n",
        "\n",
        "sns.set()"
      ],
      "execution_count": null,
      "outputs": []
    },
    {
      "cell_type": "code",
      "metadata": {
        "id": "5DcSFzFaC0RG"
      },
      "source": [
        "# 1. Siapin data X dan y, jangan di impute dan scaling\n",
        "\n",
        "X_train, X_test, y_train, y_test = train_test_split(X, y, test_size=0.2, stratify=y, random_state=42)\n",
        "X_train.shape, X_test.shape\n",
        "\n",
        "####\n",
        "\n",
        "numerical_pipeline = Pipeline([\n",
        "    ('imputer', SimpleImputer(strategy='mean')),\n",
        "    ('scaler', MinMaxScaler())\n",
        "])\n",
        "\n",
        "categorical_pipeline = Pipeline([\n",
        "    ('imputer', SimpleImputer(strategy='most_frequent')),\n",
        "    ('onehot', OneHotEncoder())\n",
        "])\n",
        "\n",
        "preprocessor = ColumnTransformer([\n",
        "    ('numerical', numerical_pipeline, ['jumlahs']),\n",
        "    ('categorical', categorical_pipeline, ['Organisasi_Keagamaan'])\n",
        "])\n",
        "\n",
        "pipeline = Pipeline([\n",
        "    ('prep', preprocessor),\n",
        "    ('algo', SVC())\n",
        "])\n",
        "\n",
        "####\n",
        "\n",
        "param = {\n",
        "    'algo__kernel': ['poly', 'rbf'],\n",
        "    'algo__random_state': np.arange(0, 2),\n",
        "    'algo__C': [7.00],\n",
        "    'algo__gamma': ['scale', 'auto']\n",
        "}\n",
        "\n",
        "model = GridSearchCV(pipeline, param_grid=param, cv=3)\n",
        "model.fit(X_train, y_train)\n",
        "model.best_params_\n",
        "\n",
        "###\n",
        "model.score(X_train, y_train), model.score(X_test, y_test)\n",
        "\n",
        "\n",
        "### Evaluation\n",
        "coba = pd.DataFrame(X_test, columns=X.columns)\n",
        "y_predict = model.predict(coba)\n",
        "\n",
        "cm = confusion_matrix(y_test, y_predict)\n",
        "sns.heatmap(cm, annot=True)\n",
        "\n",
        "\n",
        "### Predict\n",
        "data = ([16, 1],\n",
        "       [47, 1])\n",
        "\n",
        "coba = pd.DataFrame(data, index=['coba1', 'coba2'], columns=X.columns)\n",
        "y_predict = model.predict(coba)\n",
        "y_predict\n"
      ],
      "execution_count": null,
      "outputs": []
    }
  ]
}