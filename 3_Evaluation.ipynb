{
  "nbformat": 4,
  "nbformat_minor": 0,
  "metadata": {
    "colab": {
      "name": "3 Evaluation.ipynb",
      "provenance": [],
      "collapsed_sections": [],
      "authorship_tag": "ABX9TyMhpXZHl/QH09BC67IhOcEo",
      "include_colab_link": true
    },
    "kernelspec": {
      "name": "python3",
      "display_name": "Python 3"
    },
    "language_info": {
      "name": "python"
    }
  },
  "cells": [
    {
      "cell_type": "markdown",
      "metadata": {
        "id": "view-in-github",
        "colab_type": "text"
      },
      "source": [
        "<a href=\"https://colab.research.google.com/github/ilham-mukti/Machine-Learning/blob/main/3_Evaluation.ipynb\" target=\"_parent\"><img src=\"https://colab.research.google.com/assets/colab-badge.svg\" alt=\"Open In Colab\"/></a>"
      ]
    },
    {
      "cell_type": "markdown",
      "metadata": {
        "id": "MrHDJvXhjCu2"
      },
      "source": [
        "# Evaluation Regresi\n",
        "1. Unbalanced data: Gara-gara dataset kita ga balanced. Solusinya transform data\n",
        "2. Heteroscedastic: Bagus di harga murah, jelek di harga mahal. Grgr kekurangan fitur. Solusinya: transform, cek variabel/feature, tambah feature.\n",
        "3. Ada patternnya: Grgr datanya ada pattern tapi kita cuma nebak garis lurus. Solusi: Poly, atau ada missing variable.\n",
        "4. Pencilan (outlier), buang outlier."
      ]
    },
    {
      "cell_type": "code",
      "metadata": {
        "id": "PFmSczFoi7VE"
      },
      "source": [
        "plot_actual_vs_prediction(X_train, y_train, X_test, y_test, model)"
      ],
      "execution_count": null,
      "outputs": []
    },
    {
      "cell_type": "code",
      "metadata": {
        "id": "q8ybq8gYi9ve"
      },
      "source": [
        "plot_residual(X_train, y_train, X_test, y_test, model)"
      ],
      "execution_count": null,
      "outputs": []
    },
    {
      "cell_type": "markdown",
      "metadata": {
        "id": "2rBBCDJup32l"
      },
      "source": [
        "# Evaluation: Setelah diplot residual, Cari Data yang Errornya paling besar"
      ]
    },
    {
      "cell_type": "code",
      "metadata": {
        "id": "6lqJ4AWlp1cE"
      },
      "source": [
        "datas_analisis = X_train.copy()\n",
        "\n",
        "pred = model.predict(X_train)\n",
        "error = np.abs(pred - y_train)\n",
        "\n",
        "datas_analisis['fare'] = y_train\n",
        "datas_analisis['error'] = error\n",
        "datas_analisis.sort_values('error', ascending=False).head(10)"
      ],
      "execution_count": null,
      "outputs": []
    }
  ]
}