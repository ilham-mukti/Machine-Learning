{
  "nbformat": 4,
  "nbformat_minor": 0,
  "metadata": {
    "colab": {
      "name": "Workflow Pytorch - CNN.ipynb",
      "provenance": [],
      "collapsed_sections": [],
      "authorship_tag": "ABX9TyNRDngQselYwzKxyJsPAi61",
      "include_colab_link": true
    },
    "kernelspec": {
      "name": "python3",
      "display_name": "Python 3"
    },
    "language_info": {
      "name": "python"
    }
  },
  "cells": [
    {
      "cell_type": "markdown",
      "metadata": {
        "id": "view-in-github",
        "colab_type": "text"
      },
      "source": [
        "<a href=\"https://colab.research.google.com/github/ilham-mukti/Machine-Learning/blob/main/Workflow_Pytorch_CNN.ipynb\" target=\"_parent\"><img src=\"https://colab.research.google.com/assets/colab-badge.svg\" alt=\"Open In Colab\"/></a>"
      ]
    },
    {
      "cell_type": "markdown",
      "metadata": {
        "id": "SSsIpzn1WQjj"
      },
      "source": [
        "# Data Prep"
      ]
    },
    {
      "cell_type": "code",
      "metadata": {
        "id": "fOnQ7GAk7BzR"
      },
      "source": [
        "#1 ini dataset bawaan pytorch\n",
        "trainset = datasets.CIFAR10('/content/cifar2/', download=True, train=True, transform=train_transform)\n",
        "trainloader = DataLoader(trainset, batch_size=bs, shuffle=True)\n",
        "\n",
        "testset = datasets.CIFAR10('/content/cifar2/', download=True, train=False, transform=test_transform)\n",
        "testloader = DataLoader(testset, batch_size=bs, shuffle=True, num_workers=2)"
      ],
      "execution_count": null,
      "outputs": []
    },
    {
      "cell_type": "code",
      "metadata": {
        "id": "kAEnMJ6j6Aua"
      },
      "source": [
        "#2 Multiclass\n",
        "# /data/train/kue_dadar/1.jpg\n",
        "# /data/train/kue_salju/1.jpg\n",
        "\n",
        "# /data/test/kue_dadar/1.jpg\n",
        "\n",
        "# referensi: https://www.kaggle.com/ilhammukti/cnn-transfer-learning-mobilenetv2-kue-indonesia\n",
        "# referensi: data hama\n",
        "\n",
        "train_set = datasets.ImageFolder(\"../input/kue-indonesia/train/\", transform=train_transform)\n",
        "trainloader = DataLoader(train_set, batch_size=bs, shuffle=True)\n",
        "\n",
        "val_set = datasets.ImageFolder(\"../input/kue-indonesia/validation/\", transform=test_transform)\n",
        "valloader = DataLoader(val_set, batch_size=bs, shuffle=True)\n",
        "\n",
        "test_set = datasets.ImageFolder(\"../input/kue-indonesia/test/\", transform=test_transform)\n",
        "testloader = DataLoader(test_set, shuffle=True)"
      ],
      "execution_count": null,
      "outputs": []
    },
    {
      "cell_type": "code",
      "metadata": {
        "id": "b7eZhXPQ6saV"
      },
      "source": [
        "#3 Multiclass\n",
        "# Cuma ada 1 folder, jadi kita harus split jadi data_train, val, dan test\n",
        "\n",
        "# /data/kue_dadar/1.jpg\n",
        "# /data/kue_salju/1.jpg\n",
        "# referensi: https://www.kaggle.com/ilhammukti/aksara-jawa-letter-classification\n",
        "\n",
        "PATH = '../input/hanacaraka/'\n",
        "images, labels = [], []\n",
        "for dirname, _, filenames in os.walk(PATH):\n",
        "  for filename in filenames:\n",
        "    images.append(os.path.join(dirname, filename).split('/')[-1]) # /folder/blabla/xxx.jpg\n",
        "    labels.append(os.path.join(dirname, filename).split('/')[-2])\n",
        "\n",
        "##\n",
        "label2cat = np.unique(labels) #INI CEK DULU, NAMA FOLDERNYA MASUK ENGGA!\n",
        "\n",
        "##\n",
        "datas = pd.DataFrame({'image_id':images, 'label':labels})\n",
        "datas.head(), datas.shape\n",
        "\n",
        "##\n",
        "index = []\n",
        "for i in range(len(datas)):\n",
        "    try:\n",
        "        Image.open(PATH + str(datas['label'].values[i]) + '/' + str(datas['image_id'].values[i]))\n",
        "        \n",
        "    except PIL.UnidentifiedImageError:\n",
        "        index.append(i)\n",
        "  \n",
        "    except FileNotFoundError:\n",
        "        index.append(i)\n",
        "\n",
        "datas = datas.drop(index)\n",
        "datas.head(), datas.shape\n",
        "\n",
        "###\n",
        "X_train, X_val, y_train, y_val = train_test_split(\n",
        "    datas['image_id'].values, datas['label'].values, \n",
        "    test_size=0.3, stratify=datas['label'].values, \n",
        "    random_state=24)\n",
        "\n",
        "X_val, X_test, y_val, y_test = train_test_split(X_val, y_val,\n",
        "    test_size=0.5, stratify=y_val, \n",
        "    random_state=24)\n",
        "\n",
        "\n",
        "len(X_train), len(X_val), len(X_test)"
      ],
      "execution_count": null,
      "outputs": []
    },
    {
      "cell_type": "code",
      "metadata": {
        "id": "PdWKVVPqZlSX"
      },
      "source": [
        "#4 Multi label\n",
        "# /data/train/x.jpg\n",
        "# /data/test/y.jpg\n",
        "\n",
        "# dilabelinnya di csv\n",
        "# train_label.csv dan test_label.csv: x.jpg, terus nama kelas (one hot)\n",
        "\n",
        "# referensi https://github.com/ilham-mukti/Mencoba-Neural-Network/blob/main/CNN_Multilabel_Transfer_Learning_FileUpload_(Data_Panorama).ipynb\n",
        "train_set = MultilabelDataset(\"/content/data/train_label.csv\", \"/content/data/train/\", transform=train_transform)\n",
        "trainloader = DataLoader(train_set, batch_size=bs, shuffle=True, num_workers=2)\n",
        "\n",
        "test_set = MultilabelDataset(\"/content/data/test_label.csv\", \"/content/data/test/\", transform=test_transform)\n",
        "testloader = DataLoader(test_set, batch_size=bs, shuffle=True)"
      ],
      "execution_count": null,
      "outputs": []
    },
    {
      "cell_type": "markdown",
      "metadata": {
        "id": "Rw8rCUozWO5C"
      },
      "source": [
        "# Model Arsitektur"
      ]
    },
    {
      "cell_type": "code",
      "metadata": {
        "id": "z6K_ERI2WW79"
      },
      "source": [
        "#Custom model\n",
        "class CNN(nn.Module):\n",
        "  def __init__(self):\n",
        "    super().__init__()\n",
        "    self.conv = nn.Sequential(\n",
        "          conv_block(3, 8),\n",
        "          conv_block(8, 16),\n",
        "          conv_block(16, 32),\n",
        "          conv_block(32, 64),\n",
        "          conv_block(64, 128),\n",
        "          nn.Flatten()\n",
        "      )\n",
        "    self.fc = nn.Sequential(\n",
        "          linear_block(128*4*4, 256, dropout=0.2),\n",
        "          linear_block(256, 2, activation='lsoftmax')\n",
        "      )\n",
        "  def forward(self, x):\n",
        "    x = self.conv(x)\n",
        "    x = self.fc(x)\n",
        "    return x"
      ],
      "execution_count": null,
      "outputs": []
    },
    {
      "cell_type": "code",
      "metadata": {
        "id": "7YZeYe4pWjzV"
      },
      "source": [
        "# Pake Model orang Lain\n",
        "class CustomMobileNetv2(nn.Module):\n",
        "  def __init__(self, output_size):\n",
        "    super().__init__()\n",
        "    self.mnet = mobilenet_v2(pretrained=True)\n",
        "    self.freeze()\n",
        "\n",
        "    self.mnet.classifier = nn.Sequential(\n",
        "        nn.Linear(1280, output_size),\n",
        "        nn.Sigmoid() #sigmoid untuk multilabel, Logsoftmax untuk multiclass\n",
        "    )\n",
        "\n",
        "  def forward(self, x):\n",
        "    return self.mnet(x)\n",
        "  \n",
        "  def freeze(self):\n",
        "    for param in self.mnet.parameters():\n",
        "      param.requires_grad = False\n",
        "\n",
        "  def unfreeze(self):\n",
        "    for param in self.mnet.parameters():\n",
        "      param.requires_grad = True"
      ],
      "execution_count": null,
      "outputs": []
    },
    {
      "cell_type": "markdown",
      "metadata": {
        "id": "os-0KthVXzFi"
      },
      "source": [
        "# Predict"
      ]
    },
    {
      "cell_type": "code",
      "metadata": {
        "id": "POGMAskrX0lr"
      },
      "source": [
        "#multi label\n",
        "# referensi: https://github.com/ilham-mukti/Mencoba-Neural-Network/blob/main/CNN_Multilabel_Transfer_Learning_FileUpload_(Data_Panorama).ipynb\n",
        "feature, target = next(iter(testloader))\n",
        "feature, target = feature.to(device), target.to(device)\n",
        "with torch.no_grad():\n",
        "  model.eval()\n",
        "  output = model(feature)\n",
        "  preds = (output > 0.5).to(torch.float32)\n",
        "preds\n",
        "\n",
        "def convert_to_label(x):\n",
        "  return [label for pred, label in zip(x, label2cat) if pred==1]\n",
        "\n",
        "def inverse_norm(img):\n",
        "  img[0, :, :] = img[0, :, :] * 0.229 + 0.485\n",
        "  img[1, :, :] = img[1, :, :] * 0.224 + 0.456\n",
        "  img[2, :, :] = img[2, :, :] * 0.225 + 0.406\n",
        "  return img\n",
        "\n",
        "fig, axes = plt.subplots(6, 6, figsize=(24, 24))\n",
        "for img, label, pred, ax in zip(feature, target, preds, axes.flatten()):\n",
        "  ax.imshow(inverse_norm(img).permute(1,2,0).cpu())\n",
        "  font = {\"color\":'r'} if (pred != label).any() else {\"color\": 'g'}\n",
        "  label, pred = convert_to_label(label), convert_to_label(pred)\n",
        "  ax.set_title(f\"Label: {label}\\nPred: {pred}\", fontdict=font);\n",
        "  ax.axis(\"off\");"
      ],
      "execution_count": null,
      "outputs": []
    },
    {
      "cell_type": "code",
      "metadata": {
        "id": "gehpNSMHZISR"
      },
      "source": [
        "# Multi class\n",
        "# referensi https://github.com/ilham-mukti/Mencoba-Neural-Network/blob/main/CNN_Multiclass_File_Upload_HAMA.ipynb\n",
        "feature, target = next(iter(testloader))\n",
        "feature, target = feature.to(device), target.to(device)\n",
        "label2cat = train_set.classes\n",
        "\n",
        "with torch.no_grad():\n",
        "  model.eval()\n",
        "  output = model(feature)\n",
        "  preds = output.argmax(1)\n",
        "preds\n",
        "\n",
        "fig, axes = plt.subplots(6, 6, figsize=(24, 24))\n",
        "for img, label, pred, ax in zip(feature, target, preds, axes.flatten()):\n",
        "  ax.imshow(img.permute(1,2,0).cpu())\n",
        "  font = {\"color\":'r'} if label != pred else {\"color\": 'g'}\n",
        "  label, pred = label2cat[label.item()], label2cat[pred.item()]\n",
        "  ax.set_title(f\"Label: {label} | Pred: {pred}\", fontdict=font);\n",
        "  ax.axis(\"off\");"
      ],
      "execution_count": null,
      "outputs": []
    },
    {
      "cell_type": "markdown",
      "metadata": {
        "id": "c_GqjFulW2BV"
      },
      "source": [
        "# Load Model"
      ]
    },
    {
      "cell_type": "code",
      "metadata": {
        "id": "P5d8gpgXW4EI"
      },
      "source": [
        "weights = torch.load('/content/model/weights_best.pth', map_location=\"cpu\")\n",
        "config = torch.load('/content/model/configs.pth', map_location='cpu')\n",
        "\n",
        "model = CNN()\n",
        "model.load_state_dict(weights)\n",
        "model = model.to(device)"
      ],
      "execution_count": null,
      "outputs": []
    }
  ]
}