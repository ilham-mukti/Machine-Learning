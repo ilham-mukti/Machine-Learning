{
  "nbformat": 4,
  "nbformat_minor": 0,
  "metadata": {
    "colab": {
      "name": "latihan_clustering 1.ipynb",
      "provenance": [],
      "collapsed_sections": [],
      "authorship_tag": "ABX9TyMZYBv6LPgA9veWEcfzbd1s",
      "include_colab_link": true
    },
    "kernelspec": {
      "name": "python3",
      "display_name": "Python 3"
    },
    "language_info": {
      "name": "python"
    }
  },
  "cells": [
    {
      "cell_type": "markdown",
      "metadata": {
        "id": "view-in-github",
        "colab_type": "text"
      },
      "source": [
        "<a href=\"https://colab.research.google.com/github/ilham-mukti/Machine-Learning/blob/main/clustering/latihan_clustering_1.ipynb\" target=\"_parent\"><img src=\"https://colab.research.google.com/assets/colab-badge.svg\" alt=\"Open In Colab\"/></a>"
      ]
    },
    {
      "cell_type": "code",
      "metadata": {
        "id": "oyi-5H1XmvvH"
      },
      "source": [
        "!pip install jcopml"
      ],
      "execution_count": null,
      "outputs": []
    },
    {
      "cell_type": "code",
      "metadata": {
        "id": "NWSExEYDz3xC"
      },
      "source": [
        "!pip install luwiji"
      ],
      "execution_count": null,
      "outputs": []
    },
    {
      "cell_type": "code",
      "metadata": {
        "id": "R3L4fHH4zkfl"
      },
      "source": [
        "import matplotlib.pyplot as plt\n",
        "from sklearn.cluster import KMeans, DBSCAN, AgglomerativeClustering\n",
        "from luwiji.cluster import demo"
      ],
      "execution_count": null,
      "outputs": []
    },
    {
      "cell_type": "code",
      "metadata": {
        "id": "vpA8iPUvz16v"
      },
      "source": [
        "X1, y1 = demo.blob_data()\n",
        "X2, y2 = demo.moon_data()\n",
        "X3, y3 = demo.circle_data()"
      ],
      "execution_count": 5,
      "outputs": []
    },
    {
      "cell_type": "markdown",
      "metadata": {
        "id": "unzhU-xY1ILp"
      },
      "source": [
        "# Clustering biasa"
      ]
    },
    {
      "cell_type": "code",
      "metadata": {
        "colab": {
          "base_uri": "https://localhost:8080/",
          "height": 374
        },
        "id": "7MMs476i0HCP",
        "outputId": "9d34911f-ecde-4638-e0f2-249aa2083863"
      },
      "source": [
        "X = X1\n",
        "kmeans = KMeans(n_clusters=4)\n",
        "member = kmeans.fit_predict(X)\n",
        "center = kmeans.cluster_centers_\n",
        "\n",
        "plt.figure(figsize=(6,6))\n",
        "plt.scatter(X[:, 0], X[:, 1], c=member, s=10)\n",
        "plt.scatter(center[:, 0], center[:, 1], c='w', edgecolors='k', s=50, linewidths=2)\n",
        "plt.axis(\"equal\");"
      ],
      "execution_count": 12,
      "outputs": [
        {
          "output_type": "display_data",
          "data": {
            "image/png": "[encoded data removed]",
            "text/plain": [
              "<Figure size 432x432 with 1 Axes>"
            ]
          },
          "metadata": {
            "tags": [],
            "needs_background": "light"
          }
        }
      ]
    },
    {
      "cell_type": "code",
      "metadata": {
        "id": "Kg52xajM0y_N"
      },
      "source": [
        ""
      ],
      "execution_count": null,
      "outputs": []
    }
  ]
}