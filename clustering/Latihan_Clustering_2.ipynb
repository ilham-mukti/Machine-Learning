{
  "nbformat": 4,
  "nbformat_minor": 0,
  "metadata": {
    "colab": {
      "name": "Latihan Clustering 2.ipynb",
      "provenance": [],
      "toc_visible": true,
      "authorship_tag": "ABX9TyObl/8pN64EBKZCuyikjKZL",
      "include_colab_link": true
    },
    "kernelspec": {
      "name": "python3",
      "display_name": "Python 3"
    },
    "language_info": {
      "name": "python"
    }
  },
  "cells": [
    {
      "cell_type": "markdown",
      "metadata": {
        "id": "view-in-github",
        "colab_type": "text"
      },
      "source": [
        "<a href=\"https://colab.research.google.com/github/ilham-mukti/Machine-Learning/blob/main/clustering/Latihan_Clustering_2.ipynb\" target=\"_parent\"><img src=\"https://colab.research.google.com/assets/colab-badge.svg\" alt=\"Open In Colab\"/></a>"
      ]
    },
    {
      "cell_type": "code",
      "metadata": {
        "id": "IKWMinhmRqtg"
      },
      "source": [
        "import pandas as pd\n",
        "import numpy as np\n",
        "import matplotlib.pyplot as plt\n",
        "from sklearn.cluster import KMeans, DBSCAN, AgglomerativeClustering, SpectralClustering\n",
        "from sklearn.metrics import silhouette_score\n",
        "\n",
        "from tqdm.auto import tqdm"
      ],
      "execution_count": 2,
      "outputs": []
    },
    {
      "cell_type": "code",
      "metadata": {
        "colab": {
          "base_uri": "https://localhost:8080/",
          "height": 479
        },
        "id": "1roM3Q4KR2o-",
        "outputId": "93455964-02b0-4b7e-bcb8-2c7e545016ea"
      },
      "source": [
        "datas = pd.read_csv(\"/content/lampu led_shopee.csv\")\n",
        "datas.head()"
      ],
      "execution_count": 4,
      "outputs": [
        {
          "output_type": "execute_result",
          "data": {
            "text/html": [
              "<div>\n",
              "<style scoped>\n",
              "    .dataframe tbody tr th:only-of-type {\n",
              "        vertical-align: middle;\n",
              "    }\n",
              "\n",
              "    .dataframe tbody tr th {\n",
              "        vertical-align: top;\n",
              "    }\n",
              "\n",
              "    .dataframe thead th {\n",
              "        text-align: right;\n",
              "    }\n",
              "</style>\n",
              "<table border=\"1\" class=\"dataframe\">\n",
              "  <thead>\n",
              "    <tr style=\"text-align: right;\">\n",
              "      <th></th>\n",
              "      <th>nama_product</th>\n",
              "      <th>shop_id</th>\n",
              "      <th>shop_city</th>\n",
              "      <th>is_official</th>\n",
              "      <th>is_verified</th>\n",
              "      <th>price</th>\n",
              "      <th>sold_count</th>\n",
              "      <th>rating_average</th>\n",
              "      <th>view_count</th>\n",
              "      <th>liked_count</th>\n",
              "    </tr>\n",
              "  </thead>\n",
              "  <tbody>\n",
              "    <tr>\n",
              "      <th>0</th>\n",
              "      <td>indomini e009 lampu tumblr hias led gantung de...</td>\n",
              "      <td>303714684</td>\n",
              "      <td>KAB. TANGERANG</td>\n",
              "      <td>False</td>\n",
              "      <td>False</td>\n",
              "      <td>12100</td>\n",
              "      <td>151659</td>\n",
              "      <td>4.84</td>\n",
              "      <td>119537</td>\n",
              "      <td>11361</td>\n",
              "    </tr>\n",
              "    <tr>\n",
              "      <th>1</th>\n",
              "      <td>lampu mesin jahit led 20 titik magnet pakai co...</td>\n",
              "      <td>47521028</td>\n",
              "      <td>KOTA JAKARTA BARAT</td>\n",
              "      <td>False</td>\n",
              "      <td>True</td>\n",
              "      <td>25700</td>\n",
              "      <td>44300</td>\n",
              "      <td>4.86</td>\n",
              "      <td>17431</td>\n",
              "      <td>4643</td>\n",
              "    </tr>\n",
              "    <tr>\n",
              "      <th>2</th>\n",
              "      <td>lampu led strip selang 5050 smd ac 220v metera...</td>\n",
              "      <td>218542238</td>\n",
              "      <td>KOTA SURABAYA</td>\n",
              "      <td>False</td>\n",
              "      <td>True</td>\n",
              "      <td>4250</td>\n",
              "      <td>287950</td>\n",
              "      <td>4.77</td>\n",
              "      <td>92543</td>\n",
              "      <td>23298</td>\n",
              "    </tr>\n",
              "    <tr>\n",
              "      <th>3</th>\n",
              "      <td>cod - l223 lampu tumblr  / lampu hias 10 meter...</td>\n",
              "      <td>217283682</td>\n",
              "      <td>KAB. TANGERANG</td>\n",
              "      <td>False</td>\n",
              "      <td>False</td>\n",
              "      <td>12500</td>\n",
              "      <td>60845</td>\n",
              "      <td>4.79</td>\n",
              "      <td>173809</td>\n",
              "      <td>5148</td>\n",
              "    </tr>\n",
              "    <tr>\n",
              "      <th>4</th>\n",
              "      <td>lampu led strip selang 5050 smd ac 220v metera...</td>\n",
              "      <td>254302311</td>\n",
              "      <td>KOTA SURABAYA</td>\n",
              "      <td>False</td>\n",
              "      <td>True</td>\n",
              "      <td>1000</td>\n",
              "      <td>197659</td>\n",
              "      <td>4.75</td>\n",
              "      <td>75266</td>\n",
              "      <td>13433</td>\n",
              "    </tr>\n",
              "  </tbody>\n",
              "</table>\n",
              "</div>"
            ],
            "text/plain": [
              "                                        nama_product  ...  liked_count\n",
              "0  indomini e009 lampu tumblr hias led gantung de...  ...        11361\n",
              "1  lampu mesin jahit led 20 titik magnet pakai co...  ...         4643\n",
              "2  lampu led strip selang 5050 smd ac 220v metera...  ...        23298\n",
              "3  cod - l223 lampu tumblr  / lampu hias 10 meter...  ...         5148\n",
              "4  lampu led strip selang 5050 smd ac 220v metera...  ...        13433\n",
              "\n",
              "[5 rows x 10 columns]"
            ]
          },
          "metadata": {
            "tags": []
          },
          "execution_count": 4
        }
      ]
    },
    {
      "cell_type": "code",
      "metadata": {
        "colab": {
          "base_uri": "https://localhost:8080/",
          "height": 419
        },
        "id": "lCmmlzsDR8dI",
        "outputId": "09c793e8-a365-468a-9ada-b7a8d9634c97"
      },
      "source": [
        "X = datas[['price', 'sold_count', 'view_count', 'liked_count']]\n",
        "X"
      ],
      "execution_count": 8,
      "outputs": [
        {
          "output_type": "execute_result",
          "data": {
            "text/html": [
              "<div>\n",
              "<style scoped>\n",
              "    .dataframe tbody tr th:only-of-type {\n",
              "        vertical-align: middle;\n",
              "    }\n",
              "\n",
              "    .dataframe tbody tr th {\n",
              "        vertical-align: top;\n",
              "    }\n",
              "\n",
              "    .dataframe thead th {\n",
              "        text-align: right;\n",
              "    }\n",
              "</style>\n",
              "<table border=\"1\" class=\"dataframe\">\n",
              "  <thead>\n",
              "    <tr style=\"text-align: right;\">\n",
              "      <th></th>\n",
              "      <th>price</th>\n",
              "      <th>sold_count</th>\n",
              "      <th>view_count</th>\n",
              "      <th>liked_count</th>\n",
              "    </tr>\n",
              "  </thead>\n",
              "  <tbody>\n",
              "    <tr>\n",
              "      <th>0</th>\n",
              "      <td>12100</td>\n",
              "      <td>151659</td>\n",
              "      <td>119537</td>\n",
              "      <td>11361</td>\n",
              "    </tr>\n",
              "    <tr>\n",
              "      <th>1</th>\n",
              "      <td>25700</td>\n",
              "      <td>44300</td>\n",
              "      <td>17431</td>\n",
              "      <td>4643</td>\n",
              "    </tr>\n",
              "    <tr>\n",
              "      <th>2</th>\n",
              "      <td>4250</td>\n",
              "      <td>287950</td>\n",
              "      <td>92543</td>\n",
              "      <td>23298</td>\n",
              "    </tr>\n",
              "    <tr>\n",
              "      <th>3</th>\n",
              "      <td>12500</td>\n",
              "      <td>60845</td>\n",
              "      <td>173809</td>\n",
              "      <td>5148</td>\n",
              "    </tr>\n",
              "    <tr>\n",
              "      <th>4</th>\n",
              "      <td>1000</td>\n",
              "      <td>197659</td>\n",
              "      <td>75266</td>\n",
              "      <td>13433</td>\n",
              "    </tr>\n",
              "    <tr>\n",
              "      <th>...</th>\n",
              "      <td>...</td>\n",
              "      <td>...</td>\n",
              "      <td>...</td>\n",
              "      <td>...</td>\n",
              "    </tr>\n",
              "    <tr>\n",
              "      <th>1695</th>\n",
              "      <td>30000</td>\n",
              "      <td>2063</td>\n",
              "      <td>6513</td>\n",
              "      <td>447</td>\n",
              "    </tr>\n",
              "    <tr>\n",
              "      <th>1696</th>\n",
              "      <td>4990</td>\n",
              "      <td>733</td>\n",
              "      <td>888</td>\n",
              "      <td>32</td>\n",
              "    </tr>\n",
              "    <tr>\n",
              "      <th>1697</th>\n",
              "      <td>43000</td>\n",
              "      <td>720</td>\n",
              "      <td>10840</td>\n",
              "      <td>1133</td>\n",
              "    </tr>\n",
              "    <tr>\n",
              "      <th>1698</th>\n",
              "      <td>2238</td>\n",
              "      <td>16256</td>\n",
              "      <td>641</td>\n",
              "      <td>504</td>\n",
              "    </tr>\n",
              "    <tr>\n",
              "      <th>1699</th>\n",
              "      <td>5500</td>\n",
              "      <td>7546</td>\n",
              "      <td>1676</td>\n",
              "      <td>1246</td>\n",
              "    </tr>\n",
              "  </tbody>\n",
              "</table>\n",
              "<p>1700 rows × 4 columns</p>\n",
              "</div>"
            ],
            "text/plain": [
              "      price  sold_count  view_count  liked_count\n",
              "0     12100      151659      119537        11361\n",
              "1     25700       44300       17431         4643\n",
              "2      4250      287950       92543        23298\n",
              "3     12500       60845      173809         5148\n",
              "4      1000      197659       75266        13433\n",
              "...     ...         ...         ...          ...\n",
              "1695  30000        2063        6513          447\n",
              "1696   4990         733         888           32\n",
              "1697  43000         720       10840         1133\n",
              "1698   2238       16256         641          504\n",
              "1699   5500        7546        1676         1246\n",
              "\n",
              "[1700 rows x 4 columns]"
            ]
          },
          "metadata": {
            "tags": []
          },
          "execution_count": 8
        }
      ]
    },
    {
      "cell_type": "code",
      "metadata": {
        "colab": {
          "base_uri": "https://localhost:8080/"
        },
        "id": "h7nJiQpuSTvd",
        "outputId": "0616fdb5-e81d-4aaa-a8ba-5e5794a98964"
      },
      "source": [
        "X.shape"
      ],
      "execution_count": 9,
      "outputs": [
        {
          "output_type": "execute_result",
          "data": {
            "text/plain": [
              "(1700, 4)"
            ]
          },
          "metadata": {
            "tags": []
          },
          "execution_count": 9
        }
      ]
    },
    {
      "cell_type": "code",
      "metadata": {
        "colab": {
          "base_uri": "https://localhost:8080/",
          "height": 346
        },
        "id": "_4HQBPZySKbI",
        "outputId": "2f1f30cf-ac45-4514-dfd6-b77b27b857ae"
      },
      "source": [
        "score = []\n",
        "for k in range(2, 25):\n",
        "  kmeans = KMeans(n_clusters=k)\n",
        "  member = kmeans.fit_predict(X)\n",
        "  score.append(kmeans.inertia_)\n",
        "\n",
        "plt.figure(figsize=(10, 5))\n",
        "plt.plot(range(2, 25), score, 'r-')\n",
        "plt.ylabel(\"inertia\")\n",
        "plt.xlabel(\"n_cluster\");"
      ],
      "execution_count": 10,
      "outputs": [
        {
          "output_type": "display_data",
          "data": {
            "image/png": "[encoded data removed]",
            "text/plain": [
              "<Figure size 720x360 with 1 Axes>"
            ]
          },
          "metadata": {
            "tags": [],
            "needs_background": "light"
          }
        }
      ]
    },
    {
      "cell_type": "code",
      "metadata": {
        "colab": {
          "base_uri": "https://localhost:8080/"
        },
        "id": "HFFJxHPkSc8o",
        "outputId": "46d3c9d7-a1e5-4c6b-dc36-2d571a2a5c49"
      },
      "source": [
        "model = KMeans(n_clusters=3)\n",
        "member = model.fit_predict(X)\n",
        "member"
      ],
      "execution_count": 31,
      "outputs": [
        {
          "output_type": "execute_result",
          "data": {
            "text/plain": [
              "array([0, 0, 1, ..., 0, 0, 0], dtype=int32)"
            ]
          },
          "metadata": {
            "tags": []
          },
          "execution_count": 31
        }
      ]
    },
    {
      "cell_type": "code",
      "metadata": {
        "id": "xIp6tJqvS4W4"
      },
      "source": [
        "center = model.cluster_centers_"
      ],
      "execution_count": 32,
      "outputs": []
    },
    {
      "cell_type": "code",
      "metadata": {
        "colab": {
          "base_uri": "https://localhost:8080/"
        },
        "id": "NHZXUTvxVWZC",
        "outputId": "6ddd6fd8-5b9e-4fd5-c489-a022be75728a"
      },
      "source": [
        "center"
      ],
      "execution_count": 33,
      "outputs": [
        {
          "output_type": "execute_result",
          "data": {
            "text/plain": [
              "array([[ 11383.22518321,  11554.47968021,   6652.81612258,\n",
              "          1036.38907395],\n",
              "       [  7680.70588235, 360001.58823529,  24571.29411765,\n",
              "         24780.17647059],\n",
              "       [ 76926.4010989 ,   5498.08241758,  30499.28021978,\n",
              "          4873.64835165]])"
            ]
          },
          "metadata": {
            "tags": []
          },
          "execution_count": 33
        }
      ]
    },
    {
      "cell_type": "code",
      "metadata": {
        "colab": {
          "base_uri": "https://localhost:8080/",
          "height": 142
        },
        "id": "xBbk6UB9TVDw",
        "outputId": "dac83e55-b3fa-4b6d-fba3-0a83c1503c68"
      },
      "source": [
        "df_num = pd.DataFrame(center, columns=X.columns)\n",
        "df_num"
      ],
      "execution_count": 34,
      "outputs": [
        {
          "output_type": "execute_result",
          "data": {
            "text/html": [
              "<div>\n",
              "<style scoped>\n",
              "    .dataframe tbody tr th:only-of-type {\n",
              "        vertical-align: middle;\n",
              "    }\n",
              "\n",
              "    .dataframe tbody tr th {\n",
              "        vertical-align: top;\n",
              "    }\n",
              "\n",
              "    .dataframe thead th {\n",
              "        text-align: right;\n",
              "    }\n",
              "</style>\n",
              "<table border=\"1\" class=\"dataframe\">\n",
              "  <thead>\n",
              "    <tr style=\"text-align: right;\">\n",
              "      <th></th>\n",
              "      <th>price</th>\n",
              "      <th>sold_count</th>\n",
              "      <th>view_count</th>\n",
              "      <th>liked_count</th>\n",
              "    </tr>\n",
              "  </thead>\n",
              "  <tbody>\n",
              "    <tr>\n",
              "      <th>0</th>\n",
              "      <td>11383.225183</td>\n",
              "      <td>11554.479680</td>\n",
              "      <td>6652.816123</td>\n",
              "      <td>1036.389074</td>\n",
              "    </tr>\n",
              "    <tr>\n",
              "      <th>1</th>\n",
              "      <td>7680.705882</td>\n",
              "      <td>360001.588235</td>\n",
              "      <td>24571.294118</td>\n",
              "      <td>24780.176471</td>\n",
              "    </tr>\n",
              "    <tr>\n",
              "      <th>2</th>\n",
              "      <td>76926.401099</td>\n",
              "      <td>5498.082418</td>\n",
              "      <td>30499.280220</td>\n",
              "      <td>4873.648352</td>\n",
              "    </tr>\n",
              "  </tbody>\n",
              "</table>\n",
              "</div>"
            ],
            "text/plain": [
              "          price     sold_count    view_count   liked_count\n",
              "0  11383.225183   11554.479680   6652.816123   1036.389074\n",
              "1   7680.705882  360001.588235  24571.294118  24780.176471\n",
              "2  76926.401099    5498.082418  30499.280220   4873.648352"
            ]
          },
          "metadata": {
            "tags": []
          },
          "execution_count": 34
        }
      ]
    },
    {
      "cell_type": "code",
      "metadata": {
        "id": "BnmjtaigUpok"
      },
      "source": [
        ""
      ],
      "execution_count": null,
      "outputs": []
    }
  ]
}