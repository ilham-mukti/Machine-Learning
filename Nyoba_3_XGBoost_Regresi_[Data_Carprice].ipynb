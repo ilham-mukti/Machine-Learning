{
  "nbformat": 4,
  "nbformat_minor": 0,
  "metadata": {
    "colab": {
      "name": "Nyoba 3 XGBoost Regresi [Data Carprice].ipynb",
      "provenance": [],
      "collapsed_sections": [],
      "authorship_tag": "ABX9TyP6BqTX2DKwxosp1jscrj9Z",
      "include_colab_link": true
    },
    "kernelspec": {
      "name": "python3",
      "display_name": "Python 3"
    },
    "language_info": {
      "name": "python"
    }
  },
  "cells": [
    {
      "cell_type": "markdown",
      "metadata": {
        "id": "view-in-github",
        "colab_type": "text"
      },
      "source": [
        "<a href=\"https://colab.research.google.com/github/ilham-mukti/Machine-Learning/blob/main/Nyoba_3_XGBoost_Regresi_%5BData_Carprice%5D.ipynb\" target=\"_parent\"><img src=\"https://colab.research.google.com/assets/colab-badge.svg\" alt=\"Open In Colab\"/></a>"
      ]
    },
    {
      "cell_type": "code",
      "metadata": {
        "id": "7-nDnMTv78ll"
      },
      "source": [
        "!pip install jcopml"
      ],
      "execution_count": null,
      "outputs": []
    },
    {
      "cell_type": "code",
      "metadata": {
        "id": "KETjO3Hk-2YO"
      },
      "source": [
        "from sklearn.model_selection import train_test_split\n",
        "from sklearn.impute import SimpleImputer\n",
        "\n",
        "from sklearn.pipeline import Pipeline\n",
        "from sklearn.compose import ColumnTransformer\n",
        "from sklearn.model_selection import GridSearchCV, RandomizedSearchCV\n",
        "from sklearn.metrics import confusion_matrix\n",
        "\n",
        "from skopt import BayesSearchCV\n",
        "from xgboost import XGBRegressor, XGBClassifier\n",
        "\n",
        "import pandas as pd\n",
        "import numpy as np\n",
        "import seaborn as sns\n",
        "import matplotlib.pyplot as plt\n",
        "\n",
        "from jcopml.pipeline import num_pipe, cat_pipe\n",
        "from jcopml.tuning import grid_search_params as gsp, random_search_params as rsp, bayes_search_params as bsp\n",
        "from jcopml.feature_importance import mean_score_decrease, mean_loss_decrease\n",
        "from jcopml.plot import plot_missing_value, plot_confusion_matrix, plot_correlation_matrix\n",
        "from jcopml.tuning.space import Integer, Real\n",
        "\n",
        "sns.set()"
      ],
      "execution_count": 17,
      "outputs": []
    },
    {
      "cell_type": "code",
      "metadata": {
        "colab": {
          "base_uri": "https://localhost:8080/",
          "height": 429
        },
        "id": "EloNBntv_Fxs",
        "outputId": "d468f9bf-af70-4ae2-d188-871e8becf68b"
      },
      "source": [
        "datas = pd.read_csv(\"/content/carprice.csv\", index_col='ID')\n",
        "datas.head()"
      ],
      "execution_count": 4,
      "outputs": [
        {
          "output_type": "execute_result",
          "data": {
            "text/html": [
              "<div>\n",
              "<style scoped>\n",
              "    .dataframe tbody tr th:only-of-type {\n",
              "        vertical-align: middle;\n",
              "    }\n",
              "\n",
              "    .dataframe tbody tr th {\n",
              "        vertical-align: top;\n",
              "    }\n",
              "\n",
              "    .dataframe thead th {\n",
              "        text-align: right;\n",
              "    }\n",
              "</style>\n",
              "<table border=\"1\" class=\"dataframe\">\n",
              "  <thead>\n",
              "    <tr style=\"text-align: right;\">\n",
              "      <th></th>\n",
              "      <th>Name</th>\n",
              "      <th>Location</th>\n",
              "      <th>Year</th>\n",
              "      <th>Kilometers_Driven</th>\n",
              "      <th>Fuel_Type</th>\n",
              "      <th>Transmission</th>\n",
              "      <th>Owner_Type</th>\n",
              "      <th>Mileage_kmpl</th>\n",
              "      <th>Engine_CC</th>\n",
              "      <th>Power_bhp</th>\n",
              "      <th>Seats</th>\n",
              "      <th>Price</th>\n",
              "    </tr>\n",
              "    <tr>\n",
              "      <th>ID</th>\n",
              "      <th></th>\n",
              "      <th></th>\n",
              "      <th></th>\n",
              "      <th></th>\n",
              "      <th></th>\n",
              "      <th></th>\n",
              "      <th></th>\n",
              "      <th></th>\n",
              "      <th></th>\n",
              "      <th></th>\n",
              "      <th></th>\n",
              "      <th></th>\n",
              "    </tr>\n",
              "  </thead>\n",
              "  <tbody>\n",
              "    <tr>\n",
              "      <th>1</th>\n",
              "      <td>Hyundai Creta 1.6 CRDi SX Option</td>\n",
              "      <td>Pune</td>\n",
              "      <td>2015</td>\n",
              "      <td>41000</td>\n",
              "      <td>Diesel</td>\n",
              "      <td>Manual</td>\n",
              "      <td>First</td>\n",
              "      <td>19.67</td>\n",
              "      <td>1582.0</td>\n",
              "      <td>126.20</td>\n",
              "      <td>5.0</td>\n",
              "      <td>12.50</td>\n",
              "    </tr>\n",
              "    <tr>\n",
              "      <th>2</th>\n",
              "      <td>Honda Jazz V</td>\n",
              "      <td>Chennai</td>\n",
              "      <td>2011</td>\n",
              "      <td>46000</td>\n",
              "      <td>Petrol</td>\n",
              "      <td>Manual</td>\n",
              "      <td>First</td>\n",
              "      <td>18.20</td>\n",
              "      <td>1199.0</td>\n",
              "      <td>88.70</td>\n",
              "      <td>5.0</td>\n",
              "      <td>4.50</td>\n",
              "    </tr>\n",
              "    <tr>\n",
              "      <th>3</th>\n",
              "      <td>Maruti Ertiga VDI</td>\n",
              "      <td>Chennai</td>\n",
              "      <td>2012</td>\n",
              "      <td>87000</td>\n",
              "      <td>Diesel</td>\n",
              "      <td>Manual</td>\n",
              "      <td>First</td>\n",
              "      <td>20.77</td>\n",
              "      <td>1248.0</td>\n",
              "      <td>88.76</td>\n",
              "      <td>7.0</td>\n",
              "      <td>6.00</td>\n",
              "    </tr>\n",
              "    <tr>\n",
              "      <th>4</th>\n",
              "      <td>Audi A4 New 2.0 TDI Multitronic</td>\n",
              "      <td>Coimbatore</td>\n",
              "      <td>2013</td>\n",
              "      <td>40670</td>\n",
              "      <td>Diesel</td>\n",
              "      <td>Automatic</td>\n",
              "      <td>Second</td>\n",
              "      <td>15.20</td>\n",
              "      <td>1968.0</td>\n",
              "      <td>140.80</td>\n",
              "      <td>5.0</td>\n",
              "      <td>17.74</td>\n",
              "    </tr>\n",
              "    <tr>\n",
              "      <th>6</th>\n",
              "      <td>Nissan Micra Diesel XV</td>\n",
              "      <td>Jaipur</td>\n",
              "      <td>2013</td>\n",
              "      <td>86999</td>\n",
              "      <td>Diesel</td>\n",
              "      <td>Manual</td>\n",
              "      <td>First</td>\n",
              "      <td>23.08</td>\n",
              "      <td>1461.0</td>\n",
              "      <td>63.10</td>\n",
              "      <td>5.0</td>\n",
              "      <td>3.50</td>\n",
              "    </tr>\n",
              "  </tbody>\n",
              "</table>\n",
              "</div>"
            ],
            "text/plain": [
              "                                Name    Location  Year  ...  Power_bhp Seats  Price\n",
              "ID                                                      ...                        \n",
              "1   Hyundai Creta 1.6 CRDi SX Option        Pune  2015  ...     126.20   5.0  12.50\n",
              "2                       Honda Jazz V     Chennai  2011  ...      88.70   5.0   4.50\n",
              "3                  Maruti Ertiga VDI     Chennai  2012  ...      88.76   7.0   6.00\n",
              "4    Audi A4 New 2.0 TDI Multitronic  Coimbatore  2013  ...     140.80   5.0  17.74\n",
              "6             Nissan Micra Diesel XV      Jaipur  2013  ...      63.10   5.0   3.50\n",
              "\n",
              "[5 rows x 12 columns]"
            ]
          },
          "metadata": {
            "tags": []
          },
          "execution_count": 4
        }
      ]
    },
    {
      "cell_type": "code",
      "metadata": {
        "id": "dWueLGVXDHcE"
      },
      "source": [
        "def encode_merk(x):\n",
        "  return x.split()[0]"
      ],
      "execution_count": 26,
      "outputs": []
    },
    {
      "cell_type": "code",
      "metadata": {
        "id": "viGX9niiDPK2"
      },
      "source": [
        "datas['Merk'] = datas.Name.apply(encode_merk)"
      ],
      "execution_count": 27,
      "outputs": []
    },
    {
      "cell_type": "code",
      "metadata": {
        "colab": {
          "base_uri": "https://localhost:8080/"
        },
        "id": "Zv2rvOf9DnPB",
        "outputId": "5d909b87-bd9a-4dc2-d42d-5f143bc227c9"
      },
      "source": [
        "X = datas.drop(columns=['Name', 'Price'])\n",
        "y = datas.Price\n",
        "\n",
        "X_train, X_test, y_train, y_test = train_test_split(X, y, test_size=0.2, random_state=42)\n",
        "X_train.shape, X_test.shape"
      ],
      "execution_count": 29,
      "outputs": [
        {
          "output_type": "execute_result",
          "data": {
            "text/plain": [
              "((4762, 11), (1191, 11))"
            ]
          },
          "metadata": {
            "tags": []
          },
          "execution_count": 29
        }
      ]
    },
    {
      "cell_type": "code",
      "metadata": {
        "colab": {
          "base_uri": "https://localhost:8080/"
        },
        "id": "__vWwhL1D_q9",
        "outputId": "a8017d5d-760a-426e-880d-6e4a75668ff4"
      },
      "source": [
        "param = {'algo__colsample_bytree': Real(low=0.1, high=1, prior='uniform'),\n",
        " 'algo__gamma': Integer(low=1, high=10),\n",
        " 'algo__learning_rate': Real(low=-2, high=0, prior='log-uniform'),\n",
        " 'algo__max_depth': Integer(low=1, high=5),\n",
        " 'algo__n_estimators': Integer(low=100, high=150),\n",
        " 'algo__reg_alpha': Real(low=-3, high=1, prior='log-uniform'),\n",
        " 'algo__reg_lambda': Real(low=-3, high=1, prior='log-uniform'),\n",
        " 'algo__subsample': Real(low=0.3, high=0.8, prior='uniform')}\n",
        " \n",
        " preprocessor = ColumnTransformer([\n",
        "    ('categoric', cat_pipe(impute='most_frequent', encoder='onehot'), ['Location', 'Fuel_Type',\n",
        "                                                                       'Transmission', 'Merk']),\n",
        "    ('numeric', num_pipe(impute='median'), ['Power_bhp', 'Year','Engine_CC',\n",
        "                                            'Kilometers_Driven', 'Mileage_kmpl',])\n",
        "])\n",
        "pipeline = Pipeline([\n",
        "    ('prep', preprocessor),\n",
        "    ('algo', XGBRegressor(n_jobs=-1, random_state=42))\n",
        "])  \n",
        "\n",
        "model = RandomizedSearchCV(pipeline, param, cv=3, n_iter=50, n_jobs=-1, verbose=1, random_state=42)\n",
        "model.fit(X_train, y_train)\n",
        "model.best_params_"
      ],
      "execution_count": 36,
      "outputs": [
        {
          "output_type": "stream",
          "text": [
            "Fitting 3 folds for each of 50 candidates, totalling 150 fits\n"
          ],
          "name": "stdout"
        },
        {
          "output_type": "stream",
          "text": [
            "[Parallel(n_jobs=-1)]: Using backend LokyBackend with 2 concurrent workers.\n",
            "[Parallel(n_jobs=-1)]: Done  46 tasks      | elapsed:    8.3s\n",
            "[Parallel(n_jobs=-1)]: Done 150 out of 150 | elapsed:   26.8s finished\n"
          ],
          "name": "stderr"
        },
        {
          "output_type": "stream",
          "text": [
            "[10:15:48] WARNING: /workspace/src/objective/regression_obj.cu:152: reg:linear is now deprecated in favor of reg:squarederror.\n"
          ],
          "name": "stdout"
        },
        {
          "output_type": "execute_result",
          "data": {
            "text/plain": [
              "{'algo__colsample_bytree': 0.8285509415257439,\n",
              " 'algo__gamma': 4,\n",
              " 'algo__learning_rate': 0.19513967655934458,\n",
              " 'algo__max_depth': 4,\n",
              " 'algo__n_estimators': 140,\n",
              " 'algo__reg_alpha': 0.5804314717414071,\n",
              " 'algo__reg_lambda': 0.03523233163198315,\n",
              " 'algo__subsample': 0.7683649943683674}"
            ]
          },
          "metadata": {
            "tags": []
          },
          "execution_count": 36
        }
      ]
    },
    {
      "cell_type": "code",
      "metadata": {
        "colab": {
          "base_uri": "https://localhost:8080/"
        },
        "id": "xNuJ01ueEUYS",
        "outputId": "7c3918c7-328f-4d9e-fcf3-7c52fefebaba"
      },
      "source": [
        " model.score(X_train, y_train), model.score(X_test, y_test)"
      ],
      "execution_count": 37,
      "outputs": [
        {
          "output_type": "execute_result",
          "data": {
            "text/plain": [
              "(0.9853847478498629, 0.9052966683004188)"
            ]
          },
          "metadata": {
            "tags": []
          },
          "execution_count": 37
        }
      ]
    },
    {
      "cell_type": "code",
      "metadata": {
        "colab": {
          "base_uri": "https://localhost:8080/",
          "height": 375
        },
        "id": "L2q6EnlxE7wf",
        "outputId": "1e17b0c1-63ef-44f2-faee-b373e2c4644e"
      },
      "source": [
        "df_imp = mean_score_decrease(X_train, y_train, model, plot=True, topk=10)"
      ],
      "execution_count": 50,
      "outputs": [
        {
          "output_type": "display_data",
          "data": {
            "image/png": "[encoded data removed]",
            "text/plain": [
              "<Figure size 1080x360 with 1 Axes>"
            ]
          },
          "metadata": {
            "tags": []
          }
        }
      ]
    },
    {
      "cell_type": "code",
      "metadata": {
        "colab": {
          "base_uri": "https://localhost:8080/"
        },
        "id": "FVPBiCY9Hciv",
        "outputId": "4fabdf24-ac52-4be8-e217-89f341dc3035"
      },
      "source": [
        "list(df_imp.feature)"
      ],
      "execution_count": 52,
      "outputs": [
        {
          "output_type": "execute_result",
          "data": {
            "text/plain": [
              "['Power_bhp',\n",
              " 'Year',\n",
              " 'Merk',\n",
              " 'Engine_CC',\n",
              " 'Kilometers_Driven',\n",
              " 'Mileage_kmpl',\n",
              " 'Location',\n",
              " 'Fuel_Type',\n",
              " 'Transmission',\n",
              " 'Owner_Type']"
            ]
          },
          "metadata": {
            "tags": []
          },
          "execution_count": 52
        }
      ]
    },
    {
      "cell_type": "code",
      "metadata": {
        "id": "zirEgr7rHgtt"
      },
      "source": [
        "param = {'algo__colsample_bytree': Real(low=0.1, high=1, prior='uniform'),\n",
        " 'algo__gamma': Integer(low=1, high=10),\n",
        " 'algo__learning_rate': Real(low=-2, high=0, prior='log-uniform'),\n",
        " 'algo__max_depth': Integer(low=1, high=5),\n",
        " 'algo__n_estimators': Integer(low=100, high=150),\n",
        " 'algo__reg_alpha': Real(low=-3, high=1, prior='log-uniform'),\n",
        " 'algo__reg_lambda': Real(low=-3, high=1, prior='log-uniform'),\n",
        " 'algo__subsample': Real(low=0.3, high=0.8, prior='uniform')}\n",
        " \n",
        "preprocessor = ColumnTransformer([\n",
        "    ('categoric', cat_pipe(impute='most_frequent', encoder='onehot'), ['Location', 'Merk']),\n",
        "    ('numeric', num_pipe(impute='median'), ['Power_bhp', 'Year','Engine_CC',\n",
        "                                            'Kilometers_Driven'])\n",
        "])\n",
        "pipeline = Pipeline([\n",
        "    ('prep', preprocessor),\n",
        "    ('algo', XGBRegressor(n_jobs=-1, random_state=42))\n",
        "])  \n",
        "\n",
        "model = BayesSearchCV(pipeline, bsp.xgb_params, cv=3, n_iter=50, n_jobs=-1, verbose=1, random_state=42)\n",
        "model.fit(X_train, y_train)\n",
        "model.best_params_"
      ],
      "execution_count": null,
      "outputs": []
    },
    {
      "cell_type": "code",
      "metadata": {
        "colab": {
          "base_uri": "https://localhost:8080/"
        },
        "id": "SKK4QTjfHwjd",
        "outputId": "4b53f199-c89e-49b4-9639-2596a9515905"
      },
      "source": [
        " model.score(X_train, y_train), model.score(X_test, y_test)"
      ],
      "execution_count": 54,
      "outputs": [
        {
          "output_type": "execute_result",
          "data": {
            "text/plain": [
              "(0.9638699278039046, 0.889820187960227)"
            ]
          },
          "metadata": {
            "tags": []
          },
          "execution_count": 54
        }
      ]
    }
  ]
}