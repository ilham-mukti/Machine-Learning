{
  "nbformat": 4,
  "nbformat_minor": 0,
  "metadata": {
    "colab": {
      "name": "1 Data Prep.ipynb",
      "provenance": [],
      "collapsed_sections": [],
      "authorship_tag": "ABX9TyOiE/daQsKeGDGkouVt8+fF",
      "include_colab_link": true
    },
    "kernelspec": {
      "name": "python3",
      "display_name": "Python 3"
    },
    "language_info": {
      "name": "python"
    }
  },
  "cells": [
    {
      "cell_type": "markdown",
      "metadata": {
        "id": "view-in-github",
        "colab_type": "text"
      },
      "source": [
        "<a href=\"https://colab.research.google.com/github/ilham-mukti/Machine-Learning/blob/main/1_Data_Prep.ipynb\" target=\"_parent\"><img src=\"https://colab.research.google.com/assets/colab-badge.svg\" alt=\"Open In Colab\"/></a>"
      ]
    },
    {
      "cell_type": "code",
      "metadata": {
        "id": "3xjG4IaRKdrO"
      },
      "source": [
        "#1 Cek missing value manual: datas.isna().sum()\n",
        "\n",
        "plt.figure(figsize=(15, 8))\n",
        "sns.heatmap(~datas.isna().T, cbar=False, cmap=\"Blues\");\n",
        "\n",
        "#2 otomatis pake:\n",
        "from jcopml.plot import plot_missing_value\n",
        "plot_missing_value(datas)\n",
        "\n",
        "# 3\n",
        "null_col = train_df.columns[train_df.isna().any()]\n",
        "\n",
        "null_df = train_df[null_col].isna().sum().rename('missing rows').to_frame()\n",
        "null_df['percentage'] = round(null_df['missing rows'] / train_df.shape[0] * 100, 3)\n",
        "null_df['percentage'] = null_df['percentage'].astype('str')\n",
        "\n",
        "null_df.sort_values('missing rows', ascending=False).style.background_gradient('Blues')\n"
      ],
      "execution_count": null,
      "outputs": []
    },
    {
      "cell_type": "code",
      "metadata": {
        "id": "CV_GgWzDONPO"
      },
      "source": [
        "# hapus duplicat\n",
        "print('Total duplicated rows:', train_df.duplicated().sum())\n",
        "\n",
        "train_df.drop_duplicates(inplace=True)"
      ],
      "execution_count": null,
      "outputs": []
    }
  ]
}