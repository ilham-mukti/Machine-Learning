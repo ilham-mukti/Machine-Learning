{
  "nbformat": 4,
  "nbformat_minor": 0,
  "metadata": {
    "colab": {
      "name": "Opening.ipynb",
      "provenance": [],
      "collapsed_sections": [],
      "authorship_tag": "ABX9TyOabXZJ+zLFqzGkfZgdoCLm",
      "include_colab_link": true
    },
    "kernelspec": {
      "name": "python3",
      "display_name": "Python 3"
    },
    "language_info": {
      "name": "python"
    }
  },
  "cells": [
    {
      "cell_type": "markdown",
      "metadata": {
        "id": "view-in-github",
        "colab_type": "text"
      },
      "source": [
        "<a href=\"https://colab.research.google.com/github/ilham-mukti/Machine-Learning/blob/main/Opening.ipynb\" target=\"_parent\"><img src=\"https://colab.research.google.com/assets/colab-badge.svg\" alt=\"Open In Colab\"/></a>"
      ]
    },
    {
      "cell_type": "code",
      "metadata": {
        "id": "kAEnMJ6j6Aua"
      },
      "source": [
        "# /data/train/kue_dadar/1.jpg\n",
        "# /data/train/kue_salju/1.jpg\n",
        "\n",
        "# /data/test/kue_dadar/1.jpg\n",
        "\n",
        "# referensi: https://www.kaggle.com/ilhammukti/cnn-transfer-learning-mobilenetv2-kue-indonesia\n",
        "\n",
        "train_set = datasets.ImageFolder(\"../input/kue-indonesia/train/\", transform=train_transform)\n",
        "trainloader = DataLoader(train_set, batch_size=bs, shuffle=True)\n",
        "\n",
        "val_set = datasets.ImageFolder(\"../input/kue-indonesia/validation/\", transform=test_transform)\n",
        "valloader = DataLoader(val_set, batch_size=bs, shuffle=True)\n",
        "\n",
        "test_set = datasets.ImageFolder(\"../input/kue-indonesia/test/\", transform=test_transform)\n",
        "testloader = DataLoader(test_set, shuffle=True)"
      ],
      "execution_count": null,
      "outputs": []
    },
    {
      "cell_type": "code",
      "metadata": {
        "id": "b7eZhXPQ6saV"
      },
      "source": [
        "# Cuma ada 1 folder, jadi kita harus split jadi data_train, val, dan test\n",
        "\n",
        "# /data/kue_dadar/1.jpg\n",
        "# /data/kue_salju/1.jpg\n",
        "# referensi: https://www.kaggle.com/ilhammukti/aksara-jawa-letter-classification\n",
        "\n",
        "PATH = '../input/hanacaraka/'\n",
        "images, labels = [], []\n",
        "for dirname, _, filenames in os.walk(PATH):\n",
        "  for filename in filenames:\n",
        "    images.append(os.path.join(dirname, filename).split('/')[-1]) # /folder/blabla/xxx.jpg\n",
        "    labels.append(os.path.join(dirname, filename).split('/')[-2])\n",
        "\n",
        "##\n",
        "label2cat = np.unique(labels) #INI CEK DULU, NAMA FOLDERNYA MASUK ENGGA!\n",
        "\n",
        "##\n",
        "datas = pd.DataFrame({'image_id':images, 'label':labels})\n",
        "datas.head(), datas.shape\n",
        "\n",
        "##\n",
        "index = []\n",
        "for i in range(len(datas)):\n",
        "    try:\n",
        "        Image.open(PATH + str(datas['label'].values[i]) + '/' + str(datas['image_id'].values[i]))\n",
        "        \n",
        "    except PIL.UnidentifiedImageError:\n",
        "        index.append(i)\n",
        "  \n",
        "    except FileNotFoundError:\n",
        "        index.append(i)\n",
        "\n",
        "datas = datas.drop(index)\n",
        "datas.head(), datas.shape\n",
        "\n",
        "###\n",
        "X_train, X_val, y_train, y_val = train_test_split(\n",
        "    datas['image_id'].values, datas['label'].values, \n",
        "    test_size=0.3, stratify=datas['label'].values, \n",
        "    random_state=24)\n",
        "\n",
        "X_val, X_test, y_val, y_test = train_test_split(X_val, y_val,\n",
        "    test_size=0.5, stratify=y_val, \n",
        "    random_state=24)\n",
        "\n",
        "\n",
        "len(X_train), len(X_val), len(X_test)\n",
        "  "
      ],
      "execution_count": null,
      "outputs": []
    },
    {
      "cell_type": "code",
      "metadata": {
        "id": "fOnQ7GAk7BzR"
      },
      "source": [
        ""
      ],
      "execution_count": null,
      "outputs": []
    }
  ]
}